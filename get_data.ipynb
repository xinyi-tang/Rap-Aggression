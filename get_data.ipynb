{
 "cells": [
  {
   "cell_type": "code",
   "execution_count": 3,
   "metadata": {},
   "outputs": [],
   "source": [
    "import os,re\n",
    "import requests as rq\n",
    "import numpy as np\n",
    "import pandas as pd\n",
    "import networkx as nx\n",
    "import matplotlib.pyplot as plt\n",
    "import seaborn as sns\n",
    "import spotipy"
   ]
  },
  {
   "cell_type": "code",
   "execution_count": null,
   "metadata": {},
   "outputs": [],
   "source": []
  },
  {
   "cell_type": "code",
   "execution_count": 4,
   "metadata": {},
   "outputs": [],
   "source": [
    "data = rq.get(\"https://en.wikipedia.org/w/api.php?action=query&prop=revisions&rvprop=content&format=json&titles=List_of_hip_hop_musicians\").json()\n",
    "list_markup = data[\"query\"][\"pages\"][\"140853\"][\"revisions\"][0][\"*\"]\n",
    "link_regex = r\"\\* \\[\\[(.+?)[\\(\\]]\"\n",
    "\n",
    "rappers = re.findall(link_regex, list_markup)"
   ]
  },
  {
   "cell_type": "code",
   "execution_count": 20,
   "metadata": {},
   "outputs": [],
   "source": [
    "with open(\"rappers.txt\", 'w') as f:\n",
    "    for r in rappers:\n",
    "        f.write(r.encode('utf-8') + \"\\n\")"
   ]
  },
  {
   "cell_type": "code",
   "execution_count": 7,
   "metadata": {},
   "outputs": [],
   "source": [
    "import spotipy.oauth2 as oauth2\n",
    "\n",
    "# When an error occurs saying the token expired, re-run this cell.\n",
    "# Tokens are 1 hour I think.\n",
    "client_id = 'e3344de9f0454df280cc34cdba040bf7'\n",
    "client_secret = 'da09e980b2fb4f11a68a3c00a2669a7d'\n",
    "\n",
    "credentials = oauth2.SpotifyClientCredentials(\n",
    "        client_id=client_id,\n",
    "        client_secret=client_secret)\n",
    "\n",
    "token = credentials.get_access_token()\n",
    "spotify = spotipy.Spotify(auth=token)"
   ]
  },
  {
   "cell_type": "code",
   "execution_count": 9,
   "metadata": {},
   "outputs": [],
   "source": [
    "def get_albums(rapper):\n",
    "    results = spotify.search(q='artist:%s' % rapper,type='artist')\n",
    "    \n",
    "    artist_id = results['artists']['items'][0]['uri']\n",
    "    \n",
    "    albums = spotify.artist_albums(artist_id)\n",
    "    \n",
    "    # For some reason duplicates some albums. Wrap as a set\n",
    "    return set([album['name'] for album in albums['items']])"
   ]
  },
  {
   "cell_type": "code",
   "execution_count": 10,
   "metadata": {},
   "outputs": [],
   "source": [
    "def get_album_artists(album_name):\n",
    "    results = spotify.search(q='album:%s' % album_name,type='album')\n",
    "    \n",
    "    album_id = results['albums']['items'][0]['uri']\n",
    "    \n",
    "    tracks = spotify.album_tracks(album_id)\n",
    "    return set([artist['name']  \n",
    "            for track in tracks['items']\n",
    "            for artist in track['artists']])"
   ]
  },
  {
   "cell_type": "code",
   "execution_count": 11,
   "metadata": {},
   "outputs": [],
   "source": [
    "def get_collaborators(rapper):\n",
    "    \"\"\"Returns a dictionary of album:artists entry\"\"\"\n",
    "    \n",
    "    albums = get_albums(rapper)\n",
    "    \n",
    "    return {album:list(get_album_artists(album)) for album in albums}"
   ]
  },
  {
   "cell_type": "code",
   "execution_count": 12,
   "metadata": {},
   "outputs": [
    {
     "data": {
      "text/plain": [
       "{u\"If You're Reading This It's Too Late\": [u'Lil Wayne',\n",
       "  u'PARTYNEXTDOOR',\n",
       "  u'Drake',\n",
       "  u'Travis Scott'],\n",
       " u'More Life': [u'Kanye West',\n",
       "  u'Travis Scott',\n",
       "  u'Quavo',\n",
       "  u'Giggs',\n",
       "  u'Jorja Smith',\n",
       "  u'2 Chainz',\n",
       "  u'Drake',\n",
       "  u'Black Coffee',\n",
       "  u'Young Thug',\n",
       "  u'PARTYNEXTDOOR',\n",
       "  u'Sampha'],\n",
       " u'Nothing Was The Same': [u'Big Sean',\n",
       "  u'Detail',\n",
       "  u'Drake',\n",
       "  u'2 Chainz',\n",
       "  u'Majid Jordan',\n",
       "  u'Sampha',\n",
       "  u'JAY Z',\n",
       "  u'Jhene Aiko'],\n",
       " u'Nothing Was The Same (Deluxe)': [u'Big Sean',\n",
       "  u'Detail',\n",
       "  u'Drake',\n",
       "  u'2 Chainz',\n",
       "  u'Majid Jordan',\n",
       "  u'Sampha',\n",
       "  u'JAY Z',\n",
       "  u'Jhene Aiko'],\n",
       " u'Scorpion': [u'Ty Dolla $ign',\n",
       "  u'Static Major',\n",
       "  u'JAY Z',\n",
       "  u'Drake',\n",
       "  u'Michael Jackson'],\n",
       " u'Views': [u'Kyla',\n",
       "  u'WizKid',\n",
       "  u'Drake',\n",
       "  u'Rihanna',\n",
       "  u'Future',\n",
       "  u'PARTYNEXTDOOR',\n",
       "  u'Pimp C',\n",
       "  u'dvsn'],\n",
       " u'What A Time To Be Alive': [u'Future', u'Drake']}"
      ]
     },
     "execution_count": 12,
     "metadata": {},
     "output_type": "execute_result"
    }
   ],
   "source": [
    "get_collaborators(\"Drake\")"
   ]
  }
 ],
 "metadata": {
  "kernelspec": {
   "display_name": "Python 2",
   "language": "python",
   "name": "python2"
  },
  "language_info": {
   "codemirror_mode": {
    "name": "ipython",
    "version": 2
   },
   "file_extension": ".py",
   "mimetype": "text/x-python",
   "name": "python",
   "nbconvert_exporter": "python",
   "pygments_lexer": "ipython2",
   "version": "2.7.15"
  }
 },
 "nbformat": 4,
 "nbformat_minor": 2
}
