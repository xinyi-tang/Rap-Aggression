{
 "cells": [
  {
   "cell_type": "code",
   "execution_count": 1,
   "metadata": {},
   "outputs": [],
   "source": [
    "import os,re\n",
    "import requests as rq\n",
    "import numpy as np\n",
    "import pandas as pd\n",
    "import networkx as nx\n",
    "import matplotlib.pyplot as plt\n",
    "import seaborn as sns\n",
    "import wikipedia as wiki\n",
    "import musicbrainzngs as mbz\n",
    "import spotipy"
   ]
  },
  {
   "cell_type": "code",
   "execution_count": 2,
   "metadata": {},
   "outputs": [],
   "source": [
    "data = rq.get(\"https://en.wikipedia.org/w/api.php?action=query&prop=revisions&rvprop=content&format=json&titles=List_of_hip_hop_musicians\").json()\n",
    "list_markup = data[\"query\"][\"pages\"][\"140853\"][\"revisions\"][0][\"*\"]\n",
    "link_regex = r\"\\* \\[\\[(.+?)[\\(\\]]\"\n",
    "\n",
    "rappers = re.findall(link_regex, list_markup)"
   ]
  },
  {
   "cell_type": "code",
   "execution_count": 3,
   "metadata": {},
   "outputs": [],
   "source": [
    "import spotipy.oauth2 as oauth2\n",
    "\n",
    "# When an error occurs saying the token expired, re-run this cell.\n",
    "# Tokens are 1 hour I think.\n",
    "client_id = 'e3344de9f0454df280cc34cdba040bf7'\n",
    "client_secret = 'da09e980b2fb4f11a68a3c00a2669a7d'\n",
    "\n",
    "credentials = oauth2.SpotifyClientCredentials(\n",
    "        client_id=client_id,\n",
    "        client_secret=client_secret)\n",
    "\n",
    "token = credentials.get_access_token()\n",
    "spotify = spotipy.Spotify(auth=token)"
   ]
  },
  {
   "cell_type": "code",
   "execution_count": 25,
   "metadata": {},
   "outputs": [],
   "source": [
    "def get_albums(rapper):\n",
    "    results = spotify.search(q=f'artist:{rapper}',type='artist')\n",
    "    \n",
    "    artist_id = results['artists']['items'][0]['uri']\n",
    "    \n",
    "    albums = spotify.artist_albums(artist_id)\n",
    "    \n",
    "    # For some reason duplicates some albums. Wrap as a set\n",
    "    return set([album['name'] for album in albums['items']])"
   ]
  },
  {
   "cell_type": "code",
   "execution_count": 51,
   "metadata": {},
   "outputs": [],
   "source": [
    "def get_album_artists(album_name):\n",
    "    results = spotify.search(q=f'album:{album_name}',type='album')\n",
    "    \n",
    "    album_id = results['albums']['items'][0]['uri']\n",
    "    \n",
    "    tracks = spotify.album_tracks(album_id)\n",
    "    return set([artist['name']  \n",
    "            for track in tracks['items']\n",
    "            for artist in track['artists']])"
   ]
  },
  {
   "cell_type": "code",
   "execution_count": 52,
   "metadata": {},
   "outputs": [],
   "source": [
    "def get_collaborators(rapper):\n",
    "    \"\"\"Returns a dictionary of album:artists entry\"\"\"\n",
    "    \n",
    "    albums = get_albums(rapper)\n",
    "    \n",
    "    return {album:list(get_album_artists(album)) for album in albums}"
   ]
  },
  {
   "cell_type": "code",
   "execution_count": 57,
   "metadata": {},
   "outputs": [
    {
     "data": {
      "text/plain": [
       "{'Nothing Was The Same (Deluxe)': ['2 Chainz',\n",
       "  'JAY Z',\n",
       "  'Big Sean',\n",
       "  'Drake',\n",
       "  'Majid Jordan',\n",
       "  'Detail',\n",
       "  'Jhene Aiko',\n",
       "  'Sampha'],\n",
       " 'Views': ['Pimp C',\n",
       "  'Drake',\n",
       "  'PARTYNEXTDOOR',\n",
       "  'WizKid',\n",
       "  'Kyla',\n",
       "  'Rihanna',\n",
       "  'dvsn',\n",
       "  'Future'],\n",
       " \"If You're Reading This It's Too Late\": ['Drake',\n",
       "  'PARTYNEXTDOOR',\n",
       "  'Lil Wayne',\n",
       "  'Travis Scott'],\n",
       " 'More Life': ['2 Chainz',\n",
       "  'Young Thug',\n",
       "  'Black Coffee',\n",
       "  'Jorja Smith',\n",
       "  'Giggs',\n",
       "  'Quavo',\n",
       "  'Kanye West',\n",
       "  'Drake',\n",
       "  'Travis Scott',\n",
       "  'PARTYNEXTDOOR',\n",
       "  'Sampha'],\n",
       " 'What A Time To Be Alive': ['Drake', 'Future'],\n",
       " 'Scorpion': ['JAY Z',\n",
       "  'Ty Dolla $ign',\n",
       "  'Michael Jackson',\n",
       "  'Drake',\n",
       "  'Static Major'],\n",
       " 'Nothing Was The Same': ['2 Chainz',\n",
       "  'JAY Z',\n",
       "  'Big Sean',\n",
       "  'Drake',\n",
       "  'Majid Jordan',\n",
       "  'Detail',\n",
       "  'Jhene Aiko',\n",
       "  'Sampha']}"
      ]
     },
     "execution_count": 57,
     "metadata": {},
     "output_type": "execute_result"
    }
   ],
   "source": [
    "get_collaborators(\"Drake\")"
   ]
  },
  {
   "cell_type": "code",
   "execution_count": null,
   "metadata": {},
   "outputs": [],
   "source": []
  }
 ],
 "metadata": {
  "kernelspec": {
   "display_name": "Python 3",
   "language": "python",
   "name": "python3"
  },
  "language_info": {
   "codemirror_mode": {
    "name": "ipython",
    "version": 3
   },
   "file_extension": ".py",
   "mimetype": "text/x-python",
   "name": "python",
   "nbconvert_exporter": "python",
   "pygments_lexer": "ipython3",
   "version": "3.6.5"
  }
 },
 "nbformat": 4,
 "nbformat_minor": 2
}
