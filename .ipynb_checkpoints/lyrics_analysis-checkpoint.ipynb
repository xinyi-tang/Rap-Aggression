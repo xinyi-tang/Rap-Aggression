{
 "cells": [
  {
   "cell_type": "code",
   "execution_count": 44,
   "metadata": {},
   "outputs": [],
   "source": [
    "#Imports\n",
    "import requests as rq\n",
    "import json\n",
    "import requests\n",
    "import urllib2\n",
    "from bs4 import BeautifulSoup\n",
    "import re"
   ]
  },
  {
   "cell_type": "code",
   "execution_count": null,
   "metadata": {},
   "outputs": [],
   "source": [
    "#rapgenius information\n",
    "rap_genius_id = \"_17NJOxR9_RGp1XTQ1Vl3O--bxYh-cSzcCwASKlr-Xlyj3vh2_BsdedBZLX6xgdt\"\n",
    "client_secret = \"2wlydcjFiqOlSI5Zi65OeizvaWRx16xkkjIBfPkqZ9t1aFNNYTrjza8ny6xYlXdJQSP_vMzj6e20O7ORtjIIcQ\"\n",
    "client_access_token = \"Uzv_tj6uOXE9_1eX2wCrOGi3j4JtmYcm1kVF-UmPcC5gJh1MQZKJLph4aFp9frFx\""
   ]
  },
  {
   "cell_type": "code",
   "execution_count": 82,
   "metadata": {},
   "outputs": [],
   "source": [
    "#pass the URL of rapgenius and get returned the song lyrics\n",
    "def getLyrics (URL):\n",
    "    page = requests.get(URL)\n",
    "    html = BeautifulSoup(page.text, \"html.parser\") # Extract the page's HTML as a string\n",
    "\n",
    "    # Scrape and return the song lyrics from the HTML\n",
    "    return html.find(\"div\", class_=\"lyrics\").get_text()"
   ]
  },
  {
   "cell_type": "markdown",
   "metadata": {},
   "source": [
    "***GETTING NEGATIVE WORDS***"
   ]
  },
  {
   "cell_type": "markdown",
   "metadata": {},
   "source": [
    "dictionary of words is score_word_dict"
   ]
  },
  {
   "cell_type": "code",
   "execution_count": 25,
   "metadata": {},
   "outputs": [],
   "source": [
    "#Get requests response \"Failed to establish a new connection: [Errno -2]\"\n",
    "url_web = \"https://raw.githubusercontent.com/hyharryhuang/AFINN-json/master/AFINN.json\"\n",
    "#We are going to hardcode the Afinn-111 json\n",
    "\n",
    "afinn_data = rq.get(url_web)"
   ]
  },
  {
   "cell_type": "code",
   "execution_count": 24,
   "metadata": {},
   "outputs": [],
   "source": [
    "# Format a request URI for the Genius API\n",
    "search_term = 'Andy Shauf'\n",
    "_URL_API = \"https://api.genius.com/\"\n",
    "_URL_SEARCH = \"search?q=\"\n",
    "querystring = _URL_API + _URL_SEARCH + urllib2.quote(search_term)\n",
    "request = urllib2.Request(querystring)\n",
    "request.add_header(\"Authorization\", \"Bearer \" + client_access_token)\n",
    "request.add_header(\"User-Agent\", \"\")"
   ]
  },
  {
   "cell_type": "code",
   "execution_count": 37,
   "metadata": {},
   "outputs": [],
   "source": [
    "score_word_dict = dict(afinn_data) #negative word dictionary"
   ]
  },
  {
   "cell_type": "code",
   "execution_count": 72,
   "metadata": {},
   "outputs": [],
   "source": [
    "#add firearms\n",
    "firearm_url = \"https://genius.com/Rap-genius-firearms-and-firearm-companies-mentioned-in-rap-lyrics\"\n",
    "firearm_list = lyrics[130:].split(\"\\n\")\n",
    "\n",
    "#add firearms in dictionary with sentiment score of -4\n",
    "for firearm in firearm_list:\n",
    "    score_word_dict[firearm] = -4"
   ]
  },
  {
   "cell_type": "markdown",
   "metadata": {},
   "source": [
    "***REQUEST RAPGENIUS API***"
   ]
  },
  {
   "cell_type": "code",
   "execution_count": 39,
   "metadata": {},
   "outputs": [
    {
     "data": {
      "text/plain": [
       "dict_keys([u'meta', u'response'])"
      ]
     },
     "execution_count": 39,
     "metadata": {},
     "output_type": "execute_result"
    }
   ],
   "source": [
    "response = urllib2.urlopen(request, timeout=3)\n",
    "json_obj = json.load(response)\n",
    "json_obj.viewkeys()"
   ]
  },
  {
   "cell_type": "markdown",
   "metadata": {},
   "source": [
    "***GET RAPGENIUS LYRICS***"
   ]
  },
  {
   "cell_type": "markdown",
   "metadata": {},
   "source": [
    "use: get_song_lyrics(artist, song name)"
   ]
  },
  {
   "cell_type": "code",
   "execution_count": 246,
   "metadata": {},
   "outputs": [],
   "source": [
    "#pass name of artist and song name as lowercase string and returns string of lyrics\n",
    "def get_song_lyrics(artist, song_name):\n",
    "    #set lyrics to lowercase\n",
    "    artist_lower = artist.lower()\n",
    "    song_lower = song_name.lower()\n",
    "    \n",
    "    #remove special characters\n",
    "    artist_lower = ''.join(e for e in artist_lower if e.isalnum() or e == \" \")\n",
    "    song_lower = ''.join(e for e in song_lower if e.isalnum() or e == \" \")\n",
    "    \n",
    "    #capitalize artist name\n",
    "    artist_capital = artist_lower.capitalize()\n",
    "   \n",
    "    #put dashes between names\n",
    "    new_artist = \"-\".join(artist_capital.split())\n",
    "    new_song_name = \"-\".join(song_lower.split())\n",
    "    artist_and_song = \"-\".join([new_artist, new_song_name])\n",
    "    \n",
    "    #final url\n",
    "    song_url = \"https://genius.com/\" + artist_and_song + \"-lyrics\"\n",
    "    \n",
    "    #gets lyrics and processes them\n",
    "    lyrics = process_lyrics(getLyrics(song_url))\n",
    "    \n",
    "    #returns lyrics\n",
    "    return lyrics\n",
    "    "
   ]
  },
  {
   "cell_type": "code",
   "execution_count": 247,
   "metadata": {},
   "outputs": [],
   "source": [
    "#**supports get_song_lyrics**\n",
    "#cleans up lyrics once it gets sent back from rapgenius\n",
    "#pass parameter as string lyrics\n",
    "#returns as string of lyrics separated by spaces\n",
    "def process_lyrics (lyrics):\n",
    "    #removes stuff in brackets\n",
    "    new_lyrics = re.sub(\"\\[(.+?)\\]\", '', lyrics)\n",
    "    \n",
    "    #removes special characters and newline\n",
    "    no_char = ''.join(e for e in new_lyrics if e.isalnum() or e == \" \" or e == \"\\n\")\n",
    "    no_char = \" \".join(no_char.split(\"\\n\"))\n",
    "    \n",
    "    #returns string in lowercase\n",
    "    return no_char.lower()"
   ]
  },
  {
   "cell_type": "code",
   "execution_count": 263,
   "metadata": {},
   "outputs": [
    {
     "name": "stderr",
     "output_type": "stream",
     "text": [
      "warning: LF will be replaced by CRLF in lyrics_analysis.ipynb.\n",
      "The file will have its original line endings in your working directory.\n"
     ]
    }
   ],
   "source": [
    "!git add ."
   ]
  },
  {
   "cell_type": "code",
   "execution_count": 264,
   "metadata": {},
   "outputs": [
    {
     "name": "stdout",
     "output_type": "stream",
     "text": [
      "[master 37fcb4c] uploading lyrics analysis\n"
     ]
    }
   ],
   "source": [
    "!git commit -m \"uploading lyrics analysis\""
   ]
  },
  {
   "cell_type": "code",
   "execution_count": 266,
   "metadata": {},
   "outputs": [
    {
     "name": "stderr",
     "output_type": "stream",
     "text": [
      "To https://github.com/allengueco/rap_aggression.git\n",
      "   8725aed..37fcb4c  master -> master\n"
     ]
    }
   ],
   "source": [
    "!git push"
   ]
  },
  {
   "cell_type": "code",
   "execution_count": null,
   "metadata": {},
   "outputs": [],
   "source": []
  }
 ],
 "metadata": {
  "kernelspec": {
   "display_name": "Python 2",
   "language": "python",
   "name": "python2"
  },
  "language_info": {
   "codemirror_mode": {
    "name": "ipython",
    "version": 2
   },
   "file_extension": ".py",
   "mimetype": "text/x-python",
   "name": "python",
   "nbconvert_exporter": "python",
   "pygments_lexer": "ipython2",
   "version": "2.7.15"
  }
 },
 "nbformat": 4,
 "nbformat_minor": 2
}
