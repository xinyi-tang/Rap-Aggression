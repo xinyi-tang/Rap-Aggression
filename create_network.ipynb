{
 "cells": [
  {
   "cell_type": "code",
   "execution_count": 7,
   "metadata": {},
   "outputs": [],
   "source": [
    "import os,re\n",
    "import requests as rq\n",
    "import numpy as np\n",
    "import pandas as pd\n",
    "import networkx as nx\n",
    "#from networkx.algorithms import community\n",
    "import matplotlib.pyplot as plt\n",
    "import seaborn as sns\n",
    "import spotipy\n",
    "import json\n",
    "import community"
   ]
  },
  {
   "cell_type": "code",
   "execution_count": 2,
   "metadata": {},
   "outputs": [],
   "source": [
    "def get_rappers():\n",
    "    \n",
    "    def validate(name):\n",
    "        # checks if the name has a\n",
    "        illegal_chars = \"|?:^*\\\"\"\n",
    "\n",
    "        for c in illegal_chars:\n",
    "            if c == '|':\n",
    "                if name.find(c) > 0:\n",
    "                    name = name.split(\"|\")[1]\n",
    "            if c == \"\\\"\":\n",
    "                if name.find(c) > 0:\n",
    "                    name = name.replace(r'\"','',2)\n",
    "            else: \n",
    "                name = name.replace(c,'')\n",
    "        return name\n",
    "    \n",
    "    with open(\"data/rappers.txt\".decode('utf-8'), \"r\") as f:\n",
    "        rappers = f.read()\n",
    "        \n",
    "    return [validate(rapper).strip() for rapper in rappers.split(\"\\n\")]\n",
    "rappers = get_rappers()"
   ]
  },
  {
   "cell_type": "raw",
   "metadata": {},
   "source": [
    "rappers"
   ]
  },
  {
   "cell_type": "code",
   "execution_count": 3,
   "metadata": {},
   "outputs": [],
   "source": [
    "def find_collaborators(r):\n",
    "    with open((\"data/albums/%s.txt\" % r.decode('utf-8')), \"r\") as fp:\n",
    "        albums = eval(fp.read())\n",
    "        \n",
    "    artists = []\n",
    "    for album in albums: \n",
    "        for artist in album['tracks']:\n",
    "            for a in artist['collaborators']:\n",
    "                artists.append(a)\n",
    "    return artists"
   ]
  },
  {
   "cell_type": "code",
   "execution_count": 4,
   "metadata": {},
   "outputs": [],
   "source": [
    "def get_collaborator_count(collaborators, r):\n",
    "    #creating a dictionary from the collaborators to count the number of collaborations for weighted edges\n",
    "    col_dict = {}\n",
    "    for c in collaborators:\n",
    "        #don't include self as a rapper\n",
    "        if c == r: \n",
    "            continue\n",
    "        #add new collaborators to the dict with a count of 1\n",
    "        if c not in col_dict: \n",
    "            col_dict[c] =  1\n",
    "        #add one to the count of previous collaborators\n",
    "        else: \n",
    "            col_dict[c] += 1\n",
    "    return col_dict  "
   ]
  },
  {
   "cell_type": "code",
   "execution_count": 19,
   "metadata": {},
   "outputs": [],
   "source": [
    "def save_network(network):\n",
    "    with open(('data/networks/%s.json' % network), 'w') as fp:\n",
    "        json.dump(nx.node_link_data(network), fp)"
   ]
  },
  {
   "cell_type": "code",
   "execution_count": 20,
   "metadata": {},
   "outputs": [],
   "source": [
    "def create_network(rappers, network): \n",
    "    \n",
    "    errors = []\n",
    "    for r in list(rappers):\n",
    "        try: \n",
    "            #get the collaborators from the data file in a list \n",
    "            collaborators = find_collaborators(r)\n",
    "            \n",
    "        except IndexError: \n",
    "            errors.append(r)\n",
    "            continue\n",
    "        except SyntaxError:\n",
    "            errors.append(r)\n",
    "            continue\n",
    "        \n",
    "        col_dict = get_collaborator_count(collaborators, r)\n",
    "        \n",
    "        for c in set(collaborators):\n",
    "            #don't include self as a collaborator\n",
    "            if c == r: \n",
    "                continue\n",
    "            if c not in list(rappers):\n",
    "                continue\n",
    "            else:\n",
    "                #get the weight for the edge as number of collaborations from dict\n",
    "                w = col_dict[c]\n",
    "                #add the weighted edges\n",
    "                network.add_edge(r,c,weight=w)\n",
    "\n",
    "                if network.degree(c) == 1 and w == 1:\n",
    "                    network.remove_node(c)\n",
    "    \n",
    "    #sort the network into communities using the python-louvain method\n",
    "    bb = community.best_partition(network)  # dict of node-community pairs\n",
    "    nx.set_node_attributes(network, bb, 'group')\n",
    "    \n",
    "    #save the network data in a file so that you can look at it later\n",
    "    return save_network(network)\n",
    "    \n",
    "   "
   ]
  },
  {
   "cell_type": "code",
   "execution_count": 21,
   "metadata": {},
   "outputs": [],
   "source": [
    "collaboration_network_communities = nx.Graph()\n",
    "comms = create_network(rappers, collaboration_network_communities)"
   ]
  },
  {
   "cell_type": "code",
   "execution_count": 178,
   "metadata": {},
   "outputs": [],
   "source": [
    "with open('rappers_network.json', 'w') as fp:\n",
    "    json.dump(nx.node_link_data(collaboration_network), fp)"
   ]
  },
  {
   "cell_type": "code",
   "execution_count": 16,
   "metadata": {},
   "outputs": [],
   "source": [
    "with open('rappers_network_communities.json', 'w') as fp:\n",
    "    json.dump(nx.node_link_data(collaboration_network_communities), fp)"
   ]
  },
  {
   "cell_type": "code",
   "execution_count": null,
   "metadata": {},
   "outputs": [],
   "source": []
  }
 ],
 "metadata": {
  "kernelspec": {
   "display_name": "Python 2",
   "language": "python",
   "name": "python2"
  },
  "language_info": {
   "codemirror_mode": {
    "name": "ipython",
    "version": 2
   },
   "file_extension": ".py",
   "mimetype": "text/x-python",
   "name": "python",
   "nbconvert_exporter": "python",
   "pygments_lexer": "ipython2",
   "version": "2.7.15"
  }
 },
 "nbformat": 4,
 "nbformat_minor": 2
}
