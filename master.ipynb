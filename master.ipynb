{
 "cells": [
  {
   "cell_type": "code",
   "execution_count": 118,
   "metadata": {},
   "outputs": [],
   "source": [
    "\"\"\"This requests the data\"\"\"\n",
    "import requests as rq \n",
    "import os,re\n",
    "\n",
    "data = rq.get(\"https://en.wikipedia.org/w/api.php?action=query&prop=revisions&rvprop=content&format=json&titles=List_of_hip_hop_musicians\").json()"
   ]
  },
  {
   "cell_type": "code",
   "execution_count": 119,
   "metadata": {},
   "outputs": [],
   "source": [
    "list_markup = data[\"query\"][\"pages\"][\"140853\"][\"revisions\"][0][\"*\"]\n",
    "link_regex = r\"\\* \\[\\[(.+?)[\\| \\]]\"\n",
    "\n",
    "rappers = re.findall(link_regex, list_markup)"
   ]
  },
  {
   "cell_type": "code",
   "execution_count": 120,
   "metadata": {},
   "outputs": [],
   "source": [
    "rappers = [rapper.split(\"|\")[0] for rapper in rappers]"
   ]
  },
  {
   "cell_type": "code",
   "execution_count": 124,
   "metadata": {},
   "outputs": [],
   "source": [
    "def get_discography(artist):\n",
    "    url = \"https://en.wikipedia.org/w/api.php?action=query&prop=revisions&rvprop=content&format=json&titles=%s\" %artist\n",
    "    markup = str(rq.get(url).json())\n",
    "    \n",
    "    # Finds the discography section of the wikipedia page\n",
    "    disc_sect = r\"==Discography==.+?==Filmography==\"\n",
    "    \n",
    "    # very ugly code that gets the album and the its year \n",
    "    disc_regex = r\"\\* \\\\'\\\\'\\[?\\[?(.+?)\\]?\\]?\\\\'\\\\'.*?\\((\\d{4})\\)\"\n",
    "    \n",
    "    return markup"
   ]
  },
  {
   "cell_type": "code",
   "execution_count": 125,
   "metadata": {},
   "outputs": [
    {
     "data": {
      "text/plain": [
       "\u001b[1;31mSignature:\u001b[0m \u001b[0mre\u001b[0m\u001b[1;33m.\u001b[0m\u001b[0mcompile\u001b[0m\u001b[1;33m(\u001b[0m\u001b[0mpattern\u001b[0m\u001b[1;33m,\u001b[0m \u001b[0mflags\u001b[0m\u001b[1;33m=\u001b[0m\u001b[1;36m0\u001b[0m\u001b[1;33m)\u001b[0m\u001b[1;33m\u001b[0m\u001b[0m\n",
       "\u001b[1;31mDocstring:\u001b[0m Compile a regular expression pattern, returning a pattern object.\n",
       "\u001b[1;31mFile:\u001b[0m      c:\\users\\allen\\anaconda2\\lib\\re.py\n",
       "\u001b[1;31mType:\u001b[0m      function\n"
      ]
     },
     "metadata": {},
     "output_type": "display_data"
    }
   ],
   "source": [
    "?re.compile"
   ]
  },
  {
   "cell_type": "code",
   "execution_count": 126,
   "metadata": {},
   "outputs": [
    {
     "data": {
      "text/plain": [
       "'{u\\'batchcomplete\\': u\\'\\', u\\'query\\': {u\\'pages\\': {u\\'13196933\\': {u\\'ns\\': 0, u\\'pageid\\': 13196933, u\\'revisions\\': [{u\\'*\\': u\\'{{For|the band formerly known as 12 Gauge|Emerson Drive}}\\\\n{{Infobox musical artist <!-- See Wikipedia:WikiProject_Musicians -->\\\\n| name                = 12 Gauge\\\\n| background          = solo_singer\\\\n| birth_name          = Isiah Pinkney\\\\n| birth_date          = {{birth year and age|1968}}\\\\n| birth_place         = [[Augusta, Georgia]], [[United States|U.S.]]\\\\n| genre               = [[Hip hop music|Hip hop]]\\\\n| occupation          = [[Rapper]]\\\\n| years_active        = 1990s\\\\n| label               = [[Scotti Brothers Records|Scotti Bros.]]<br />[[Roadrunner Records|Roadrunner]]\\\\n}}\\\\n\\\\\\'\\\\\\'\\\\\\'12 Gauge\\\\\\'\\\\\\'\\\\\\' (born 1968) is an American [[rapper]] from [[Augusta, Georgia]].\\\\n\\\\nBorn \\\\\\'\\\\\\'\\\\\\'Isiah Pinkney\\\\\\'\\\\\\'\\\\\\', he started out as a [[DJ]], moving to rapping in the early 1990s, releasing three full-length albums. He is best known for his only top 40 single \"[[Dunkie Butt]]\", which peaked at 28 on [[Billboard Hot 100|\\\\\\'\\\\\\'Billboard\\\\\\'\\\\\\' Hot 100]] and earned a gold certification.\\\\n\\\\n==Discography==\\\\n*\\\\\\'\\\\\\'[[12 Gauge (12 Gauge album)|12 Gauge]]\\\\\\'\\\\\\' ([[Scotti Brothers Records|Scotti Bros.]], 1994) US [[Billboard 200|\\\\\\'\\\\\\'Billboard\\\\\\'\\\\\\' 200]] peak #141, US R&B peak #44<ref>[{{Allmusic|class=artist|id=p143594|pure_url=yes}} Billboard], Allmusic.com</ref>\\\\n*\\\\\\'\\\\\\'Let Me Ride Again\\\\\\'\\\\\\' (Scotti Bros., 1995)\\\\n*\\\\\\'\\\\\\'Freaky One\\\\\\'\\\\\\' ([[Roadrunner Records]], 1998)\\\\n\\\\n==Single==\\\\n*\"[[Dunkie Butt|Dunkie Butt (Please Please Please)]]\" - [[Billboard Hot 100|\\\\\\'\\\\\\'Billboard\\\\\\'\\\\\\' Hot 100]] peak #28, Hot Rap Singles peak #3<ref>[{{Allmusic|class=artist|id=p143594|pure_url=yes}} Billboard Singles], Allmusic.com</ref>\\\\n\\\\n==References==\\\\n{{Reflist}}\\\\n\\\\n==External links==\\\\n\\\\n{{Authority control}}\\\\n\\\\n{{DEFAULTSORT:12 Gauge}}\\\\n[[Category:1968 births]]\\\\n[[Category:African-American male rappers]]\\\\n[[Category:Living people]]\\\\n[[Category:Musicians from Augusta, Georgia]]\\\\n[[Category:Rappers from Georgia (U.S. state)]]\\\\n[[Category:Roadrunner Records artists]]\\\\n[[Category:20th-century American rappers]]\\\\n[[Category:21st-century American rappers]]\\', u\\'contentmodel\\': u\\'wikitext\\', u\\'contentformat\\': u\\'text/x-wiki\\'}], u\\'title\\': u\\'12 Gauge (rapper)\\'}}}, u\\'warnings\\': {u\\'main\\': {u\\'*\\': u\\'Subscribe to the mediawiki-api-announce mailing list at <https://lists.wikimedia.org/mailman/listinfo/mediawiki-api-announce> for notice of API deprecations and breaking changes. Use [[Special:ApiFeatureUsage]] to see usage of deprecated features by your application.\\'}, u\\'revisions\\': {u\\'*\\': u\\'Because \"rvslots\" was not specified, a legacy format has been used for the output. This format is deprecated, and in the future the new format will always be used.\\'}}}'"
      ]
     },
     "execution_count": 126,
     "metadata": {},
     "output_type": "execute_result"
    }
   ],
   "source": [
    "get_discography(\"12 Gauge (rapper)\")"
   ]
  },
  {
   "cell_type": "code",
   "execution_count": null,
   "metadata": {},
   "outputs": [],
   "source": [
    "def get_discograph(artist):"
   ]
  }
 ],
 "metadata": {
  "kernelspec": {
   "display_name": "Python 2",
   "language": "python",
   "name": "python2"
  },
  "language_info": {
   "codemirror_mode": {
    "name": "ipython",
    "version": 2
   },
   "file_extension": ".py",
   "mimetype": "text/x-python",
   "name": "python",
   "nbconvert_exporter": "python",
   "pygments_lexer": "ipython2",
   "version": "2.7.15"
  }
 },
 "nbformat": 4,
 "nbformat_minor": 2
}
