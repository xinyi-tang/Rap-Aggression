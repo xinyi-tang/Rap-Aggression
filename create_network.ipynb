{
 "cells": [
  {
   "cell_type": "code",
   "execution_count": 17,
   "metadata": {},
   "outputs": [],
   "source": [
    "import os,re\n",
    "import requests as rq\n",
    "import numpy as np\n",
    "import pandas as pd\n",
    "import networkx as nx\n",
    "import matplotlib.pyplot as plt\n",
    "import seaborn as sns\n",
    "import spotipy\n",
    "import json\n",
    "from netwulf import visualize\n",
    "import community"
   ]
  },
  {
   "cell_type": "code",
   "execution_count": 18,
   "metadata": {},
   "outputs": [],
   "source": [
    "def get_rappers():\n",
    "    \n",
    "    def validate(name):\n",
    "        # checks if the name has a\n",
    "        illegal_chars = \"|?:^*\\\"\"\n",
    "\n",
    "        for c in illegal_chars:\n",
    "            if c == '|':\n",
    "                if name.find(c) > 0:\n",
    "                    name = name.split(\"|\")[1]\n",
    "            if c == \"\\\"\":\n",
    "                if name.find(c) > 0:\n",
    "                    name = name.replace(r'\"','',2)\n",
    "            else: \n",
    "                name = name.replace(c,'')\n",
    "        return name\n",
    "    \n",
    "    with open(\"data/rappers.txt\", \"r\", encoding='utf-8') as f:\n",
    "        rappers = f.read()\n",
    "        \n",
    "    return [validate(rapper).strip() for rapper in rappers.split(\"\\n\")]\n",
    "rappers = get_rappers()"
   ]
  },
  {
   "cell_type": "code",
   "execution_count": 19,
   "metadata": {},
   "outputs": [],
   "source": [
    "def find_collaborators(r):\n",
    "    with open((\"data/albums/%s.txt\" % r), \"r\", encoding='utf-8') as fp:\n",
    "        albums = eval(fp.read())\n",
    "        \n",
    "    artists = []\n",
    "    for album in albums: \n",
    "        for artist in album['tracks']:\n",
    "            for a in artist['collaborators']:\n",
    "                artists.append(a)\n",
    "    return artists"
   ]
  },
  {
   "cell_type": "code",
   "execution_count": 20,
   "metadata": {},
   "outputs": [],
   "source": [
    "def get_collaborator_count(collaborators, r):\n",
    "    #creating a dictionary from the collaborators to count the number of collaborations for weighted edges\n",
    "    col_dict = {}\n",
    "    for c in collaborators:\n",
    "        #don't include self as a rapper\n",
    "        if c == r: \n",
    "            continue\n",
    "        #add new collaborators to the dict with a count of 1\n",
    "        if c not in col_dict: \n",
    "            col_dict[c] =  1\n",
    "        #add one to the count of previous collaborators\n",
    "        else: \n",
    "            col_dict[c] += 1\n",
    "    return col_dict  "
   ]
  },
  {
   "cell_type": "code",
   "execution_count": 21,
   "metadata": {},
   "outputs": [],
   "source": [
    "def save_network(network):\n",
    "    with open(('data/networks/%s.json' % network), 'w') as fp:\n",
    "        return json.dump(nx.node_link_data(network), fp)"
   ]
  },
  {
   "cell_type": "code",
   "execution_count": 50,
   "metadata": {},
   "outputs": [],
   "source": [
    "def get_senti():\n",
    "    # this function returns a dictionary of the sentiment scores with artists names as the keys\n",
    "    with open('data/senti.txt', \"r\") as fp:\n",
    "        senti_scores = eval(fp.read())\n",
    "    return senti_scores"
   ]
  },
  {
   "cell_type": "code",
   "execution_count": 49,
   "metadata": {},
   "outputs": [],
   "source": [
    "def get_lim_artists():\n",
    "    # this function creates a limited list of artists from the data we were \n",
    "    # able to scrape on lyrics so we can make a preliminary network\n",
    "    with open('data/senti.txt', \"r\") as fp:\n",
    "        senti_scores = eval(fp.read())\n",
    "    return senti_scores.keys()\n",
    "lim_artists = get_lim_artists()        "
   ]
  },
  {
   "cell_type": "code",
   "execution_count": 25,
   "metadata": {},
   "outputs": [],
   "source": [
    "def create_network(rappers, network): \n",
    "    \n",
    "    for r in list(rappers):\n",
    "        try: \n",
    "            #get the collaborators from the data file in a list \n",
    "            collaborators = find_collaborators(r)\n",
    "            \n",
    "        except IndexError: \n",
    "            errors.append(r)\n",
    "            continue\n",
    "        except SyntaxError:\n",
    "            errors.append(r)\n",
    "            continue\n",
    "        \n",
    "        col_dict = get_collaborator_count(collaborators, r)\n",
    "        \n",
    "        for c in set(collaborators):\n",
    "            #don't include self as a collaborator\n",
    "            if c == r: \n",
    "                continue\n",
    "            if c not in list(rappers):\n",
    "                continue\n",
    "            else:\n",
    "                #get the weight for the edge as number of collaborations from dict\n",
    "                w = col_dict[c]\n",
    "                #add the weighted edges\n",
    "                network.add_edge(r,c,weight=w)\n",
    "\n",
    "                if network.degree(c) == 1 and w == 1:\n",
    "                    network.remove_node(c)\n",
    "    \n",
    "    #set the node sizes to the aggression scores\n",
    "    node_sizes = get_senti()\n",
    "    nx.set_node_attributes(network, node_sizes, 'size')\n",
    "    \n",
    "    #sort the network into communities using the python-louvain method\n",
    "    bb = community.best_partition(network)  # dict of node-community pairs\n",
    "    nx.set_node_attributes(network, bb, 'group')\n",
    "    \n",
    "    #save the network data in a file so that you can look at it later\n",
    "    return save_network(network)\n",
    "    \n",
    "   "
   ]
  },
  {
   "cell_type": "code",
   "execution_count": 45,
   "metadata": {},
   "outputs": [],
   "source": [
    "collaboration_network_sentiment2 = nx.Graph()\n",
    "comms = create_network(lim_artists, collaboration_network_sentiment2)"
   ]
  },
  {
   "cell_type": "code",
   "execution_count": 178,
   "metadata": {},
   "outputs": [],
   "source": [
    "with open('rappers_network.json', 'w') as fp:\n",
    "    json.dump(nx.node_link_data(collaboration_network), fp)"
   ]
  },
  {
   "cell_type": "code",
   "execution_count": 46,
   "metadata": {},
   "outputs": [],
   "source": [
    "with open('rappers_network_sentiment2.json', 'w') as fp:\n",
    "    json.dump(nx.node_link_data(collaboration_network_sentiment2), fp)"
   ]
  },
  {
   "cell_type": "code",
   "execution_count": 51,
   "metadata": {},
   "outputs": [],
   "source": [
    "plt.figure(figsize=[20,20])\n",
    "nx.draw(collaboration_network_sentiment2)\n",
    "plt.show()"
   ]
  },
  {
   "cell_type": "code",
   "execution_count": 12,
   "metadata": {},
   "outputs": [
    {
     "name": "stderr",
     "output_type": "stream",
     "text": [
      "warning: LF will be replaced by CRLF in create_network.ipynb.\n",
      "The file will have its original line endings in your working directory.\n",
      "warning: LF will be replaced by CRLF in get_data.ipynb.\n",
      "The file will have its original line endings in your working directory.\n"
     ]
    }
   ],
   "source": [
    "!git add ."
   ]
  },
  {
   "cell_type": "code",
   "execution_count": 13,
   "metadata": {},
   "outputs": [
    {
     "name": "stdout",
     "output_type": "stream",
     "text": [
      "[master a66985e] working on node size\n",
      " 10 files changed, 477 insertions(+), 34 deletions(-)\n",
      " create mode 100644 .ipynb_checkpoints/collaboration_network_communities image-checkpoint.png\n",
      " create mode 100644 .ipynb_checkpoints/large network image-checkpoint.png\n",
      " create mode 100644 data/.ipynb_checkpoints/senti-checkpoint.txt\n",
      " rewrite data/networks/.json (99%)\n",
      " create mode 100644 large network image.png\n",
      " create mode 100644 rappers_network_nodes.json\n",
      " create mode 100644 rappers_network_senti.json\n",
      " create mode 100644 rappers_network_senti_reg.json\n"
     ]
    }
   ],
   "source": [
    "!git commit -m \"working on node size\""
   ]
  },
  {
   "cell_type": "code",
   "execution_count": 14,
   "metadata": {},
   "outputs": [
    {
     "name": "stdout",
     "output_type": "stream",
     "text": [
      "Merge made by the 'recursive' strategy.\n",
      " .../Casey Veggies-checkpoint.txt                   |    0\n",
      " .../.ipynb_checkpoints/Celph Titled-checkpoint.txt |    0\n",
      " data/lyrics/Canibus.txt                            |    1 +\n",
      " data/lyrics/Capital Steez.txt                      |    1 +\n",
      " data/lyrics/Capone.txt                             |    1 +\n",
      " data/lyrics/Cappadonna.txt                         |    1 +\n",
      " data/lyrics/Cardi B.txt                            |    1 +\n",
      " data/lyrics/Casey Veggies.txt                      |    1 +\n",
      " data/lyrics/Cash Out.txt                           |    1 +\n",
      " data/lyrics/Cashis.txt                             |    0\n",
      " data/lyrics/Caskey.txt                             |    1 +\n",
      " data/lyrics/Casper Nyovest.txt                     |    0\n",
      " data/lyrics/Cassidy.txt                            |    1 +\n",
      " data/lyrics/Cazwell.txt                            |    1 +\n",
      " data/lyrics/CeeLo Green.txt                        |    1 +\n",
      " data/lyrics/Cellski.txt                            |    1 +\n",
      " data/lyrics/Celly Cel.txt                          |    1 +\n",
      " data/lyrics/Celph Titled.txt                       |    1 +\n",
      " data/lyrics/Cesar Comanche.txt                     |    1 +\n",
      " data/lyrics/Ceza.txt                               |    1 +\n",
      " data/lyrics/Chali 2na.txt                          |    1 +\n",
      " data/lyrics/Chamillionaire.txt                     |    1 +\n",
      " data/lyrics/Chance the Rapper.txt                  |    1 +\n",
      " data/lyrics/Chanel West Coast.txt                  |    1 +\n",
      " data/lyrics/Channel 7.txt                          |    1 +\n",
      " data/lyrics/Charizma.txt                           |    1 +\n",
      " data/lyrics/Charles Hamilton.txt                   |    1 +\n",
      " data/lyrics/Charli Baltimore.txt                   |    1 +\n",
      " data/lyrics/Chevy Woods.txt                        |    1 +\n",
      " data/lyrics/Chi Ali.txt                            |    0\n",
      " data/lyrics/Chiddy Bang.txt                        |    1 +\n",
      " data/lyrics/Chief Keef.txt                         |    1 +\n",
      " data/lyrics/Childish Gambino.txt                   |    1 +\n",
      " data/lyrics/Chill Rob G.txt                        |    0\n",
      " data/lyrics/Chingo Bling.txt                       |    1 +\n",
      " data/lyrics/Chingy.txt                             |    1 +\n",
      " data/lyrics/Chino XL.txt                           |    1 +\n",
      " data/lyrics/Chinx.txt                              |    1 +\n",
      " data/lyrics/Chip.txt                               |    1 +\n",
      " data/lyrics/Choice.txt                             |    1 +\n",
      " data/lyrics/Choppa.txt                             |    1 +\n",
      " data/lyrics/Chris Brown.txt                        |    0\n",
      " data/senti.txt                                     |    2 +-\n",
      " get_lyrics.ipynb                                   | 2103 +++++++++++++++++++-\n",
      " lyrics_analysis.ipynb                              |  491 ++---\n",
      " 45 files changed, 2274 insertions(+), 357 deletions(-)\n",
      " create mode 100644 data/lyrics/.ipynb_checkpoints/Casey Veggies-checkpoint.txt\n",
      " create mode 100644 data/lyrics/.ipynb_checkpoints/Celph Titled-checkpoint.txt\n",
      " create mode 100644 data/lyrics/Capital Steez.txt\n",
      " create mode 100644 data/lyrics/Capone.txt\n",
      " create mode 100644 data/lyrics/Cappadonna.txt\n",
      " create mode 100644 data/lyrics/Cardi B.txt\n",
      " create mode 100644 data/lyrics/Casey Veggies.txt\n",
      " create mode 100644 data/lyrics/Cash Out.txt\n",
      " create mode 100644 data/lyrics/Cashis.txt\n",
      " create mode 100644 data/lyrics/Caskey.txt\n",
      " create mode 100644 data/lyrics/Casper Nyovest.txt\n",
      " create mode 100644 data/lyrics/Cassidy.txt\n",
      " create mode 100644 data/lyrics/Cazwell.txt\n",
      " create mode 100644 data/lyrics/CeeLo Green.txt\n",
      " create mode 100644 data/lyrics/Cellski.txt\n",
      " create mode 100644 data/lyrics/Celly Cel.txt\n",
      " create mode 100644 data/lyrics/Celph Titled.txt\n",
      " create mode 100644 data/lyrics/Cesar Comanche.txt\n",
      " create mode 100644 data/lyrics/Ceza.txt\n",
      " create mode 100644 data/lyrics/Chali 2na.txt\n",
      " create mode 100644 data/lyrics/Chamillionaire.txt\n",
      " create mode 100644 data/lyrics/Chance the Rapper.txt\n",
      " create mode 100644 data/lyrics/Chanel West Coast.txt\n",
      " create mode 100644 data/lyrics/Channel 7.txt\n",
      " create mode 100644 data/lyrics/Charizma.txt\n",
      " create mode 100644 data/lyrics/Charles Hamilton.txt\n",
      " create mode 100644 data/lyrics/Charli Baltimore.txt\n",
      " create mode 100644 data/lyrics/Chevy Woods.txt\n",
      " create mode 100644 data/lyrics/Chi Ali.txt\n",
      " create mode 100644 data/lyrics/Chiddy Bang.txt\n",
      " create mode 100644 data/lyrics/Chief Keef.txt\n",
      " create mode 100644 data/lyrics/Childish Gambino.txt\n",
      " create mode 100644 data/lyrics/Chill Rob G.txt\n",
      " create mode 100644 data/lyrics/Chingo Bling.txt\n",
      " create mode 100644 data/lyrics/Chingy.txt\n",
      " create mode 100644 data/lyrics/Chino XL.txt\n",
      " create mode 100644 data/lyrics/Chinx.txt\n",
      " create mode 100644 data/lyrics/Chip.txt\n",
      " create mode 100644 data/lyrics/Choice.txt\n",
      " create mode 100644 data/lyrics/Choppa.txt\n",
      " create mode 100644 data/lyrics/Chris Brown.txt\n"
     ]
    },
    {
     "name": "stderr",
     "output_type": "stream",
     "text": [
      "From https://github.com/allengueco/rap_aggression\n",
      " * branch            master     -> FETCH_HEAD\n",
      "   a599cb7..1103863  master     -> origin/master\n"
     ]
    }
   ],
   "source": [
    "!git pull origin master"
   ]
  },
  {
   "cell_type": "code",
   "execution_count": 15,
   "metadata": {},
   "outputs": [
    {
     "name": "stderr",
     "output_type": "stream",
     "text": [
      "To https://github.com/allengueco/rap_aggression.git\n",
      "   1103863..750f944  master -> master\n"
     ]
    }
   ],
   "source": [
    "!git push origin master"
   ]
  },
  {
   "cell_type": "code",
   "execution_count": null,
   "metadata": {},
   "outputs": [],
   "source": []
  }
 ],
 "metadata": {
  "kernelspec": {
   "display_name": "Python 2",
   "language": "python",
   "name": "python2"
  },
  "language_info": {
   "codemirror_mode": {
    "name": "ipython",
    "version": 2
   },
   "file_extension": ".py",
   "mimetype": "text/x-python",
   "name": "python",
   "nbconvert_exporter": "python",
   "pygments_lexer": "ipython2",
   "version": "2.7.15"
  }
 },
 "nbformat": 4,
 "nbformat_minor": 2
}
