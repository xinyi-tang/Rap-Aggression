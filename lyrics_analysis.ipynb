{
 "cells": [
  {
   "cell_type": "code",
   "execution_count": 47,
   "metadata": {},
   "outputs": [],
   "source": [
    "#Imports\n",
    "import requests as rq\n",
    "import json\n",
    "import requests\n",
    "import urllib2\n",
    "from bs4 import BeautifulSoup\n",
    "import re\n",
    "import string\n",
    "from afinn import Afinn\n",
    "import os\n",
    "import matplotlib.pyplot as plt\n"
   ]
  },
  {
   "cell_type": "code",
   "execution_count": 48,
   "metadata": {},
   "outputs": [],
   "source": [
    "#rapgenius information\n",
    "rap_genius_id = \"_17NJOxR9_RGp1XTQ1Vl3O--bxYh-cSzcCwASKlr-Xlyj3vh2_BsdedBZLX6xgdt\"\n",
    "client_secret = \"2wlydcjFiqOlSI5Zi65OeizvaWRx16xkkjIBfPkqZ9t1aFNNYTrjza8ny6xYlXdJQSP_vMzj6e20O7ORtjIIcQ\"\n",
    "client_access_token = \"Uzv_tj6uOXE9_1eX2wCrOGi3j4JtmYcm1kVF-UmPcC5gJh1MQZKJLph4aFp9frFx\""
   ]
  },
  {
   "cell_type": "code",
   "execution_count": 49,
   "metadata": {},
   "outputs": [],
   "source": [
    "#pass the URL of rapgenius and get returned the song lyrics\n",
    "def getLyrics (URL):\n",
    "    page = requests.get(URL)\n",
    "    html = BeautifulSoup(page.text, \"html.parser\") # Extract the page's HTML as a string\n",
    "\n",
    "    # Scrape and return the song lyrics from the HTML\n",
    "    return html.find(\"div\", class_=\"lyrics\").get_text()"
   ]
  },
  {
   "cell_type": "markdown",
   "metadata": {},
   "source": [
    "***GETTING NEGATIVE WORDS***"
   ]
  },
  {
   "cell_type": "markdown",
   "metadata": {},
   "source": [
    "dictionary of words is score_word_dict"
   ]
  },
  {
   "cell_type": "code",
   "execution_count": 50,
   "metadata": {},
   "outputs": [],
   "source": [
    "#Get requests response \"Failed to establish a new connection: [Errno -2]\"\n",
    "url_web = \"https://raw.githubusercontent.com/hyharryhuang/AFINN-json/master/AFINN.json\"\n",
    "#We are going to hardcode the Afinn-111 json\n",
    "\n",
    "afinn_data = rq.get(url_web).json()"
   ]
  },
  {
   "cell_type": "code",
   "execution_count": 51,
   "metadata": {},
   "outputs": [],
   "source": [
    "score_word_dict = dict(afinn_data) #negative word dictionary"
   ]
  },
  {
   "cell_type": "code",
   "execution_count": 52,
   "metadata": {},
   "outputs": [],
   "source": [
    "#add firearms\n",
    "firearm_url = \"https://genius.com/Rap-genius-firearms-and-firearm-companies-mentioned-in-rap-lyrics\"\n",
    "scrape_words = getLyrics(firearm_url)\n",
    "firearm_list = scrape_words[130:].split(\"\\n\")\n",
    "\n",
    "#add firearms in dictionary with sentiment score of -4\n",
    "for firearm in firearm_list:\n",
    "    score_word_dict[firearm.lower()] = -4"
   ]
  },
  {
   "cell_type": "code",
   "execution_count": 53,
   "metadata": {},
   "outputs": [],
   "source": [
    "#add bulleted lists on rapgenius to a list that is returned and adds to score_word_dict\n",
    "#needs score_word_dict to word, and adds the sentiment of that word (number)\n",
    "def add_bulleted_lists(URL, number):\n",
    "    words_drug = getLyrics(URL)\n",
    "    first_list = words_drug.split(\"\\n\")\n",
    "    new_list = []\n",
    "\n",
    "    for x in first_list:\n",
    "        new_list.append(x.replace(u'\\u2022 ', ''))\n",
    "\n",
    "    #add drugs in dictionary with sentiment score of -1\n",
    "    for thing in new_list:\n",
    "        score_word_dict[thing.lower()] = number"
   ]
  },
  {
   "cell_type": "code",
   "execution_count": 54,
   "metadata": {},
   "outputs": [],
   "source": [
    "slang_drugs_url = \"https://genius.com/Rap-genius-slang-dictionary-drugs-lyrics\"\n",
    "slang_firearms_url = \"https://genius.com/Rap-genius-slang-dictionary-firearms-lyrics\"\n",
    "\n",
    "#adds words into sentiment dictionary\n",
    "add_bulleted_lists(slang_drugs_url, -2)\n",
    "add_bulleted_lists(slang_firearms_url, -4)"
   ]
  },
  {
   "cell_type": "markdown",
   "metadata": {},
   "source": [
    "***REQUEST RAPGENIUS API***"
   ]
  },
  {
   "cell_type": "raw",
   "metadata": {},
   "source": [
    "response = urllib2.urlopen(request, timeout=3)\n",
    "json_obj = json.load(response)\n",
    "json_obj.viewkeys()"
   ]
  },
  {
   "cell_type": "markdown",
   "metadata": {},
   "source": [
    "***GET RAPGENIUS LYRICS***"
   ]
  },
  {
   "cell_type": "markdown",
   "metadata": {},
   "source": [
    "use: get_song_lyrics(artist, song name)"
   ]
  },
  {
   "cell_type": "code",
   "execution_count": 122,
   "metadata": {},
   "outputs": [],
   "source": [
    "#pass name of artist and song name as uppercase\n",
    "def get_song_lyrics(artist, song):\n",
    "    url = \"data/lyrics/%s.txt\" % artist\n",
    "    with open(url, \"r\") as i:\n",
    "        g = eval(i.read())\n",
    "    for album in g:\n",
    "        for name in album[\"tracks\"]:\n",
    "            if song is name[\"name\"]:\n",
    "                return name[\"lyrics\"]\n",
    "            else:\n",
    "                continue"
   ]
  },
  {
   "cell_type": "code",
   "execution_count": 134,
   "metadata": {},
   "outputs": [
    {
     "data": {
      "text/plain": [
       "{'100 Bands ': None,\n",
       " 'Bacc to Bacc ': None,\n",
       " \"Ballin' \": None,\n",
       " 'Baytoven': 'uh bitch you took too long all my niggas got on i dog a bitch like beethoven ron ron just like my zaytoven ron ron do that shit beat boy thats my metro boomin beat boy taught me i dog a bitch like beethoven ron ron just like my zaytoven beat boy thats my metro boomin we takin all that shit over i dog a bitch like beethoven ron ron just like my zaytoven beat boy thats my metro boomin we takin all that shit over dog a bucket head bitch like a cocker spaniel 03 greedo got it lit just like a roman candle long nose four four call it cheat code next friday feel like joker with the heat though no low-riders but im hoppin in traffic my bitch keep askin ill shoot if its blastin yeah i know that pussy but can tell she a catfish fried foods grillin bitches take your wife too i feel like the nigga who was poppin back in high school twelfth grade sold drugs principal face dog a lil bitch ass like a pomeranian im in dubai hair tied like arabian tryna know if niggas pullin triggers all my bitches gradient i be on some player shit dog a pussy and im never sayin shit ayy ayy and she fuckin with me i dog a bitch like beethoven ron ron just like my zaytoven beat boy thats my metro boomin we takin all that shit over i dog a bitch like beethoven ron ron just like my zaytoven beat boy thats my metro boomin we takin all that shit over i feel like im future mixed with young thug throwin all the drugs up jay know im like nunchucks swingin on my weapon hit the wood and ima get to flexin ima keep me a gun for protection hoes tryna come up fucked up how the game go get your dog mangled she say im a dog just cause i gang bang though i can make you sweat im on your head like a kangol flier than a red hot that shit cant though armed with the metal like jax i hit em with the flow mortal kombat on a ho oh no oh no tryna ride the wave get it babe oh low lower than the ocean but im higher than the ozone think im missin me some prozone man them niggas need another zoe ayy sittin on the throne i dog a bitch like beethoven you bitch ron ron just like my zaytoven get real ayy beat boy thats my metro boomin ayy we takin all that shit over get paid i dog a bitch like beethoven ho ron ron just like my zaytoven i need the dough beat boy thats my metro boomin we takin all that shit over all my niggas cutthroat drummer gang make it bang baby we in this thing and that shit heartless mane might take a nigga chain whippin that woodgrain really came from that hood mane im doing good things i did what i could mane just do what you should mane',\n",
       " 'Beat That Thang Down ': None,\n",
       " 'Chase ': None,\n",
       " \"Drippin'\": 'how does it feel to be me wolf yeah yeah yeah ayy yeah yeah beat boy taught me how does it feel to be me how does it feel to be somethin that came from the streets really was sellin them keys this is the way that we eat 03 ecstasy percocet kush and the powder geekin it really dont matter i just came down  fightin a lot this is what made me a savage i been drippin inside kitchen i been drippin inside kitchen i been drippin ooh i been drippin ooh inside the kitchen whoa i been drippin i been drippin baby 03 this the way the wolf sound when he off an ecstasy i need all my kush loud baby please dont message me send the package like a g-mail made a couple gs i just left the section rappers daughters want to mess with me she want to have sex with me greedy so my baddie sweet all my bitches street she need a nigga with some felonies hater never met me it aint nothin that they tellin me i was in the mansion lookin handsome while she hailing d she not rich but i never give her shit i dont ever give her shit lil dk made me militant gotta keep quiet when you killin shit 03 text me im feelin it oh-oh-oh-oh oh-oh-oh-oh oh-oh-oh how does it feel to be me how does it feel to be somethin that come from the streets really was sellin them keys this is the way that we eat 03 ecstasy percocet kush and the powder baby it really dont matter geekin it really dont matter geekin it really dont matter call me greedy eat it off a platter ah skinny nigga but my pockets fatter ah ah say hi til im done say and im done how does it feel to be me how does it feel to be me only one 03 only one 03 how does it feel to be me ooh i was in jail now im free freestylin hes violent hes talented how does it feel to be me',\n",
       " 'For My Dawgs': 'for my dawg for my dawg whats a man best friend his fuckin dog i need a hottie out the bricks to blow my dirty draws im winnin now before i took another loss i just found out that my lil cousin just got shot i just called the doc today he asked me where i shop i just heard my nigga gravedigger took a shot you better put your kids inside somebody gon get popped im goin through a lot feel like we all we got i made it to the top before i got the guap i made it out the lot i got it out the pot lowkey at the spot finally made it off the block i made it out the brick fresh out on the parking lot for my dawg for my dawg for my dawg for my dawg for my niggas that would kill a nigga tommy but no hilfiger tom ford no eddie bauer backwoods are full of power i made it out the twin towers 9-11 know the way for us tellin people they should wait for us tellin people they should pray for us it aint never too much weight for us enemigo it aint never too much hate for us came up off of noodles it aint too much on our plate for us niggas hatin shit it must be too much grape for em for my dawg for my dawg yeah for my dawg for my dawg for my dawg',\n",
       " \"If I Wasn't Rappin'\": '03 if i wasnt rappin baby if i wasnt rappin baby wasnt rappin baby if i wasnt rappin baby if i wasnt rappin baby if i wasnt rappin baby you know id be trappin daily shippin shit im wrappin babies she say i be actin shady wake up and im after payments bitch im tryna grab mercedes and im playin them naked ladies save the cash and never save em if i wasnt rappin baby id be back stuck on the pavement if i wasnt rappin baby idve never left the station if i wasnt rappin baby id still be on that vacation if i wasnt rappin baby id never be here to taste ya thats the part that drive you crazy member when i caught them cases you thought they would take you jason thank the lord i wasnt patient i did it without the stations took a loss and rearranged it took a charge and didnt say shit sweet lady need a replacement you feel good get left for ravin fly bitch from where i be bangin bitch im from another planet where we speak a different language fuck the jury and the plaintiff word to chase he fuckin saved me reason why i got the  now im here to bring the plaques hottest shit since michael jackson janet jackson satisfaction love my sisters on some black shit white girl in my fuckin baggage white girl made me fuckin happy fuck the bounty im just laughin cause you drove out here to grab me i got out soon as i landed waited longer on the package now they know im really trappin and i still dont know what happened realest nigga in first class the realest statement in your caption free03 my favourite rapper yeah yeah yeah yeah yeah if i wasnt rappin baby 03 yeah yeah if i wasnt rappin baby if i wasnt rappin baby you know id be trappin daily shippin shit im wrappin babies she say i be actin shady wake up and im after payments bitch im tryna grab mercedes if i wasnt rappin baby you know id be trappin daily shippin shit im wrappin babies she say i be actin shady wake up and im after payments bitch im tryna grab mercedes and im playin them naked ladies save the cash and never save em if i wasnt rappin baby id be back stuck on the pavement if i wasnt rappin baby idve never left the station if i wasnt rappin baby id still be on that vacation if i wasnt rappin baby id never be here to taste ya thats the part that drive you crazy member when i caught them cases you thought they would take you jason thank the lord i wasnt patient i did it without the stations took a loss and rearranged it',\n",
       " 'Look At Me Now': 'ah-hah you know i always wanted to be a six figure nigga i signed a deal and got seven bitch ah-hah-hah-hah-hah ron ron do that shit look at me now bitch look at me now bitch ayy ayy you know im stylin you know im stylin ayy ayy castaway got away made it out the island ayy ayy mafia mafia like a damn italian ayy ayy look at me now bitch look at me now bitch ayy ayy you know im stylin you know im stylin ayy ayy look at me look at me know look at me look at me know look at me look at me know look at me look at me know ayy ayy niggas been jackin my style bitches been diggin my towel goin up like juntao goin up like juntao baby im mafia boss and i never been a boss but a nigga been in houston i aint comin with excuses bitch im with the distribution i aint really selling music all my niggas going stupid ima stay away from cupid all you niggas is some losers lil nigga im winnin this is only the beginnin and these niggas acting friendly niggas usually hate and i never had a date i aint never wore bape valentinos goin to see the migos and i got a kilo and i ayy havent ever really been a hero baby i dont play thought i fell off of the beat baby ran up with the heat baby i came out the street baby you know im a beast whoa whoa whoa baby do it good cook cook cook fresh up out the kitchen hmm fresh up out the kitchen ayy ayy ayy ayy get up out my mentions ayy ayy ooh ohh did not gon forget it ayy ayy ayy ayy i remember i remember ayy ayy ayy a year ago i lost my nigga ayy ayy look at me now bitch look at me now bitch ayy ayy you know im stylin you know im stylin ayy ayy you know im violent i am fresh out bitch ayy ayy look at me now bitch look at me now bitch ayy ayy i got a million fuck all your thousands ayy ayy we in the building baby we wildin ayy ayy i got a million fuck all your thousands ayy ayy we in the building baby we wildin look at me look at me know on baby locs jake we hah i told you in that cell nigga we was gon make bail ayy ayy now a nigga is for real now a nigga made a mil bitch i do it like for real drummer gang drummer gang we aint making beats well take your bill pussy nigga be for real hahahah long live lil money money win wars nigga we goin in on you whores ayy ayy look at me look at me know look at me look at me know ayy ayy look at me look at me know look at me look at me know ayy ayy hoo ayy ayy ayy ayy same age that my daddy died same age that my daddy died gang bang so i had to ride gang bang so i had to ride look at me look at me big bitch look at me now',\n",
       " 'Never Bend': 'yeah you lil bitch ass niggas steady speaking up on the low if these project walls could talk theyll be just like 03 you dig 03 if these walls could spit bars all of they songs be this hard in this game play your cards right or get left to starve my mama made me a star i just had it too hard bitch i came from the tar but i got high again im thanking god could have died in the pen you havent been gainst the odds like i been you havent been where i been i never fold never bend i remember robbin paisas every other friday i remember money house im selling out of molly i remember in atlanta talking pounds at follies i remember laying down bullets in my body if you know you finna fold then get the fuck from by me if you aint finna hold it down then you cant be my crimey greedy get the guap and play the game but keep it grimey ive been shot by who i love and told on by my family ive been double crossed and bird fed one time they sucker punched a nigga yeah they knocked me out like ronda rousey blindside you with this bullet if you come around me seen you at this party was gon hit you you was fucking outie if these walls could spit bars all of they songs be this hard in this game play your cards right or get left to starve my mama made me a star i just had it too hard bitch i came from the tar but i got high again im thanking god could have died in the pen you havent been gainst the odds like i been you havent been where i been i never fold never bend sim-simmer who got the keys to the beamer who put that lean in two liters dreadlocks like beanie man ima red beam you hit your white whip up you know im gon cream you act in lime-a-ritos its no lime-a-rita really sell killos and plugged in with migos my dog dark jack he stretch just like a regal we get thumbs up when we ride past your people if these walls could spit bars all of they songs be this hard in this game play your cards right or get left to starve my mama made me a star i just had it too hard bitch i came from the tar but i got high again im thanking god could have died in the pen you havent been gainst the odds like i been you havent been where i been i never fold never bend if these walls could spit bars all of they songs be this hard in this game play your cards right or get left to starve my mama made me a star i just had it too hard bitch i came from the tar but i got high again im thanking god could have died in the pen you havent been gainst the odds like i been you havent been where i been i never fold never bend and we do it for lil money yeah long live lil money oh money changes everything i could never give a bitch a wedding ring ooh yeah rest in peace to all my niggas gip to all my killers woo',\n",
       " 'Paranoid Pt. 03 ': None,\n",
       " 'Pop It': 'ayy its benny this a perc this a this a what ayy this a percocet i dont do the xans i dont do molly bitch i do them real drugs this a percocet i dont do the xans i dont do molly bitch i do them real drugs pop it pop it ooh drink some water bitch pop it pop it ooh ooh ooh you need some water bitch pop it she said i been goin poppin in the booth like i was poppin legendary like the doc we aint fuckin with the opps baby wanna taste me she gon suck me when she lick the top dancin like the diamonds on the package watch me milly rock she say that she nasty told her show me what you really got she say that she nasty told her show me what you really got back when i was in the pen i was dreamin of the benz ridin shit without the rims im booted up with all the timbs im just focused on my aim all this money make you lose your friends this a percocet i dont do the xans i dont do molly bitch i do them real drugs this a percocet i dont do the xans i dont do molly bitch i do them real drugs pop it pop it ooh drink some water bitch pop it pop it ooh ooh ooh you need some water bitch pop it shake some shake some til you make some break a nigga tell a nigga get his cake up shake a nigga if he cant handle yall lil break-up paid up pay him for your nails your rent and makeup lyin down tell lil partner he can check this game out charge a bitch then i gave her gifts and then she came out whoa she got played out so that bitch just couldnt stay round treat that brain like a playground run her blood pressure up so she stay down local winner hi hater when i came down now she hate it when i came round this a percocet i dont do the xans i dont do molly bitch i do them real drugs this a percocet i dont do the xans i dont do molly bitch i do them real drugs pop it pop it ooh drink some water bitch pop it pop it ooh ooh ooh you need some water bitch pop it',\n",
       " 'Rude': 'i dont mean to be rude i dont mean to be out of line i been losing my cool lately we been so out our minds i dont mean to be rude i dont mean to be out of line i been losing my cool lately we been so out our minds i dont mean to be stressin but my life be so hectic i cant go nowhere without my own protection these niggas think i need a shooter boy forget it aint nobody shoot when i was jugglin them crutches they say im a ho cause they aint coming to my function everybody talking nobody be doing nothing every nigga round me i cant really trust em rollin up a  of some musty i dont have time for a discussion drummer gang beat it up percussion on money came into this rap game with my own money i dont mean to be rude i dont mean to be out of line i been losing my cool lately we been so out our minds i dont mean to be rude i dont mean to be out of line i been losing my cool lately we been so out our minds tryna tell me what to do made me not fuck with you you aint never made the news you really just confused fuck your opinion la weekly think that im that dude that explains your attitude niggas talk shit then complain that i respond and dont stop it working out has never been an option ima still talk shit this aint no act i cant hit your double cup cause this aint no act this aint revolvers these is some tecs i dont trust this nigga i just seen who he texts make a pussy nigga go and lean like some tech used to snort cocaine now i fiend for the check yeah ooh ooh i dont mean to be rude i dont mean to be rude i dont mean to be out of line i been losing my cool lately we been so out our minds i dont mean to be rude i dont mean to be out of line i been losing my cool lately we been so out our minds',\n",
       " 'Run For Yo Life': '03 yeah yeah i been sleeping with your girlfriend same time youre doing time i been on the other end i had to change my life run for my life run for your life run it up with your wife might fuck tonight cant trust that bitch so dont trust that bitch cant trust that bitch nigga dont trust that bitch i dont usually fuck these niggas bitches im a player but this hottie way too thick and her lil man a hater just for these hoes these niggas risk they life to get the paper just for the dough i think i need a lincoln navigator take them back to bald fades with the activator its been some time since i had some shine but i been back on my grind and she been back on my mind just like a distant reminder in the back of her mind i put that arch in her spine now i got her shaking body language bold statement capping is my occupation conversation rule the nation talk her out her pink sweatsuit so fast she make amber rose look like she got no ass i been sleeping with your girlfriend same time youre doing time i been on the other end i had to change my life run for my life run for your life run it up with your wife might fuck tonight everytime you make a run for your bitch i pull up and make her run from that dick run it up when she finds all my strips we dont run all our lips gon and run for some shit i cant give up locations no information you know we dont say shit cause we fighting cases for real fuck it got saved by a deal you never felt how it feels your money counterfeit my money real you might go down and its all up from here i was depressed off them drugs and realized im the plug i got blinded by love and that shit fucked me up and thats all that i fear all that i fear bitch its my year bitch its my year love is all that i fear i been sleeping with your girlfriend same time youre doing time i been on the other end i had to change my life run for my life run for your life run it up with your wife might fuck tonight',\n",
       " 'Safety ': None,\n",
       " 'Substance': 'hey 03 yeah we woke up intoxicated off of all type of drugs im never sober when im in love i need some type of drugs i need some type of substance she keep sendin me subs i need some type of substance she keep sendin me subs so i need some type of drugs so i hit up my plug wanna spend some time with a thug come here suck a dick in the club type of bitch who dont give a fuck fallin in love im off all type of drugs oh she keep sendin me subs i need bread and the cheese im the center of the streets i need premium fee thats the boss he in me come and fly with a p woah im putting drugs in my tree bitch you know im a fiend give you all to me take a dose maybe three its only one of three we woke up intoxicated off of all type of drugs im never sober when im in love i need some type of drugs i told that bitch i need substance she keep sendin me subs i told that bitch i need substance and she keep sendin me subs so that means i need some type of drugs take some shake some pop it like some ecstasy take some shake some pop it like some ecstasy take some shake some pop it like some ecstasy i drank some shake some pop it like some ecstasy take some shake some pop it like some ecstasy take some shake some pop it like some ecstasy i told her take some shake some pop it like some ecstasy baby take some drank some pop it like some ecstasy we woke up somewhere by the sea thats the buzz he in me come and fly with a p ooh im a wolf you lookin at ayy lookin like somethin to eat you know ima creep ice man in my cheek in the snow its a freeze and snortin blow is a key yeah',\n",
       " 'Voodoo': 'ayy leave a spell 03 ayy leave a spell on your clique i know voodoo i know magic voodoo pull up on me it get tragic pullin up i lay em down in the past nigga zip a nigga up in plastic im the nigga goin up a nigga savage its a gift its a curse its a gift its a curse nah nigga i aint average im the nigga goin up im a savage put a spell on that bitch in my verse thats a whole quote chop a bitch off where the hoes go blood money on my neck bitch i made it rose gold all my peoples pasadena like the rose bowl more gas than my teachers off a whole flow watered down from the bleachers to the end zone cheerleaders smoke dope kickin shit no clothes you see la i just run out wonder where her clothes go do it behind closed doors sippin lean i wont dose new sweater made by junkie made by kezno in my benzo get her on her ass like a movie thats suspenseful ten tre day im soldiered down like ten-four long live king yella free my nigga tk fuck her in that prison with the damus and keyways or up in the dub from the arm to the peach cake peter-rollin rollin i aint never been a cheapskate i know voodoo i know magic voodoo pull up on me it get tragic pullin up i lay em down in the past nigga zip a nigga up in plastic im the nigga goin up a nigga savage its a gift its a curse its a gift its a curse nah nigga i aint average im the nigga goin up im a savage',\n",
       " 'Vulture ': None,\n",
       " 'White Owl ': None,\n",
       " 'Zoning': 'zuned in and im yeah oh yeah zuned in and im zoning in my zone in my zone zone zuned in and im zoning bitch you know im staying focused bitch you know im baby locing so we gon keep that shit in motion zuned in and im zoning bitch you know im staying focused bitch you know im baby locing so we gon keep that shit in motion zuned in and im zoning tell my nigga pour the potion tell my niggas pour the lean all my niggas baby locing all my niggas they got weed all my niggas stayin foxsued all my niggas makin gs oh oh all my niggas makin gs all my niggas makin gs all my niggas chasin cheese all my bitches they some freaks all my bitches they be eatin duckin like i keep the street shout out my boy ketchy all my bitches gettin sexy and both my boys be pimpin i mean all my boys they keep pimpin all my hoes is more than jewels designer on my fuckin shoes vvs on my fuckin jewels gettin rich like them fuckin jews if you pussy i am not amused zuned in and im zoning bitch you know im staying focused bitch you know im baby locing so we gon keep that shit in motion zuned in and im zoning bitch you know im staying focused bitch you know im baby locing so we gon keep that shit in motion bitch you know im baby locing zuned in on that ass hell yeah beat it up ima spazz hell yeah ask lil mama if its good hell yeah geeked is how we are dont do it hell yeah'}"
      ]
     },
     "execution_count": 134,
     "metadata": {},
     "output_type": "execute_result"
    }
   ],
   "source": [
    "url = \"data/lyrics/%s.txt\" % \"03 Greedo\"\n",
    "with open(url, \"r\") as i:\n",
    "    g = eval(i.read())\n",
    "\n",
    "g\n",
    "#print get_song_lyrics(\"03 Greedo\", \"Drippin\")"
   ]
  },
  {
   "cell_type": "code",
   "execution_count": 82,
   "metadata": {},
   "outputs": [],
   "source": [
    "#**supports get_song_lyrics**\n",
    "#cleans up lyrics once it gets sent back from rapgenius\n",
    "#pass parameter as string lyrics\n",
    "#returns as string of lyrics separated by spaces\n",
    "def process_lyrics (lyrics):\n",
    "    #removes stuff in brackets\n",
    "    new_lyrics = re.sub(\"\\[(.+?)\\]\", '', lyrics)\n",
    "    \n",
    "    #removes special characters and newline\n",
    "    no_char = ''.join(e for e in new_lyrics if e.isalnum() or e == \" \" or e == \"\\n\")\n",
    "    no_char = \" \".join(no_char.split(\"\\n\"))\n",
    "    \n",
    "    #returns string in lowercase\n",
    "    return no_char.lower()"
   ]
  },
  {
   "cell_type": "markdown",
   "metadata": {},
   "source": [
    "***ANALYZE SENTIMENT SCORE FOR LYRICS***"
   ]
  },
  {
   "cell_type": "code",
   "execution_count": 85,
   "metadata": {},
   "outputs": [],
   "source": [
    "#input: artist as string and song name as string\n",
    "#output: integer sentiment score for song\n",
    "#necessary: needs get_song_lyrics and process_lyrics as auxillary methods\n",
    "def analyze_senti(artist, song):\n",
    "    print get_song_lyrics(artist, song)\n",
    "    lyrics_list = get_song_lyrics(artist, song).split(\" \")\n",
    "    \n",
    "    value = 0\n",
    "    senti = 0\n",
    "    for word in lyrics_list:\n",
    "        if word in score_word_dict:\n",
    "            value = value + int(score_word_dict[word])\n",
    "        else:\n",
    "            continue\n",
    "        senti = value / (1.0 * len(lyrics_list))\n",
    "    return senti"
   ]
  },
  {
   "cell_type": "code",
   "execution_count": 86,
   "metadata": {},
   "outputs": [],
   "source": [
    "#input: artist as string for artist name, list of songs in album as list\n",
    "#output: dict of album with senti scores\n",
    "def process_album(artist, album):\n",
    "    total = 0\n",
    "    album_dict = {}\n",
    "    for song in album:\n",
    "        album_dict[song] = analyze_senti(artist, song)\n",
    "    return album_dict"
   ]
  },
  {
   "cell_type": "code",
   "execution_count": 87,
   "metadata": {},
   "outputs": [],
   "source": [
    "#input: artist as string and discography where album is key and album songs are list as value\n",
    "#output: dict of artist discography where key is album and value is dictionary with songs as keys and senti scores as values \n",
    "def process_artist(artist, discography):\n",
    "    total = 0\n",
    "    artist_dict = {}\n",
    "    for key, value in discography.iteritems():\n",
    "        artist_dict[key] = process_album(artist, value)\n",
    "    return artist_dict"
   ]
  },
  {
   "cell_type": "code",
   "execution_count": 88,
   "metadata": {},
   "outputs": [],
   "source": [
    "#input: artist as string\n",
    "#output: discography as dictionary where album are keys and songs are list of values\n",
    "def get_disc(artist):\n",
    "    url = \"data/albums/%s.txt\" % artist.decode(\"utf-8\")\n",
    "    with open(url, 'r') as f:\n",
    "        x = eval(f.read())\n",
    "    discography = {}\n",
    "    for album in x: #x[0]\n",
    "        discography[album[\"name\"]] = [re.sub(\"\\([^)]*\\)\", \"\", track['track_title']) for track in album['tracks']]\n",
    "    return discography"
   ]
  },
  {
   "cell_type": "code",
   "execution_count": 89,
   "metadata": {},
   "outputs": [],
   "source": [
    "def get_rappers():\n",
    "    \n",
    "    def validate(name):\n",
    "        # checks if the name has a\n",
    "        illegal_chars = \"|?:^*\\\"\"\n",
    "\n",
    "        for c in illegal_chars:\n",
    "            if c == '|':\n",
    "                if name.find(c) > 0:\n",
    "                    name = name.split(\"|\")[1]\n",
    "            if c == \"\\\"\":\n",
    "                if name.find(c) > 0:\n",
    "                    name = name.replace(r'\"','',2)\n",
    "            else: \n",
    "                name = name.replace(c,'')\n",
    "        return name\n",
    "    \n",
    "    with open(\"data/rappers.txt\", \"r\") as f:\n",
    "        rappers = f.read()\n",
    "        \n",
    "    return [validate(rapper).strip() for rapper in rappers.split(\"\\n\")]\n",
    "rappers = get_rappers() "
   ]
  },
  {
   "cell_type": "code",
   "execution_count": 124,
   "metadata": {},
   "outputs": [
    {
     "name": "stdout",
     "output_type": "stream",
     "text": [
      "03 Greedo\n",
      "{'The Wolf of Grape Street': [\"Drippin'\", \"Ballin' \", \"If I Wasn't Rappin'\", 'Bacc to Bacc ', 'Baytoven', 'Beat That Thang Down ', 'Run For Yo Life', 'Look At Me Now', 'Voodoo', '100 Bands ', 'Paranoid Pt. 03 ', 'Vulture ', 'Chase ', 'White Owl ', 'Safety ', 'For My Dawgs', 'Pop It', 'Substance', 'Rude', 'Zoning', 'Never Bend'], \"Purple Summer 2: Son Don't Shine\": ['Mobbin ', 'Creepin', 'Hands Dirty', 'Everywhere', 'Paranoid', 'Stick Em Up', 'Daylight Savings', 'Told Ya ', 'Fabo', 'Condo Money ', 'Chemistry', 'Invites', 'Bend It Over', 'How Bout Now', 'Neva Make Me Mad', 'Afraid Interlude', 'Yeezy All Winter', 'Paper Plates', 'Blue Hunnid', 'Get Your Life Up', 'Came to Spend Some Money', 'Ransom', 'Bartender', 'Fishscale ', 'Wasted', 'Ilene', 'Baby Sittin', 'Life of the Party ', \"Pay Me in Penny's\", 'No Label', 'Wake Me Up', 'Undercover Freak ', 'Desperado '], 'God Level': ['Blower ', 'Finally', 'Fall Off', 'Basehead', 'Prayer For My Lost', 'Buckhead ', 'In My Feelings', 'Praying to God', 'Bacc to Jail', 'Gun Bucc', 'Floating', 'Dibiase', 'Conscience', 'Fortnite  ', 'Static', 'Street Life', '100 100 100', 'Good Grape', 'Onna Way to the Paper ', 'High Off Me ', 'Cutlass', 'Different Flavors', 'Mr. Clean', 'Tiffany Magnolia', 'Mr. OT', 'No Disrespect', 'Never Bend  ']}\n"
     ]
    },
    {
     "ename": "TypeError",
     "evalue": "string indices must be integers, not str",
     "output_type": "error",
     "traceback": [
      "\u001b[1;31m---------------------------------------------------------------------------\u001b[0m",
      "\u001b[1;31mTypeError\u001b[0m                                 Traceback (most recent call last)",
      "\u001b[1;32m<ipython-input-124-8e0169cb66bd>\u001b[0m in \u001b[0;36m<module>\u001b[1;34m()\u001b[0m\n\u001b[0;32m      6\u001b[0m         \u001b[0mdiscography\u001b[0m \u001b[1;33m=\u001b[0m \u001b[0mget_disc\u001b[0m\u001b[1;33m(\u001b[0m\u001b[0martist\u001b[0m\u001b[1;33m)\u001b[0m\u001b[1;33m\u001b[0m\u001b[0m\n\u001b[0;32m      7\u001b[0m         \u001b[1;32mprint\u001b[0m \u001b[0mdiscography\u001b[0m\u001b[1;33m\u001b[0m\u001b[0m\n\u001b[1;32m----> 8\u001b[1;33m         \u001b[0msenti_dict\u001b[0m \u001b[1;33m=\u001b[0m \u001b[0mprocess_artist\u001b[0m\u001b[1;33m(\u001b[0m\u001b[0martist\u001b[0m\u001b[1;33m,\u001b[0m \u001b[0mdiscography\u001b[0m\u001b[1;33m)\u001b[0m\u001b[1;33m\u001b[0m\u001b[0m\n\u001b[0m\u001b[0;32m      9\u001b[0m         \u001b[0martist_url\u001b[0m \u001b[1;33m=\u001b[0m \u001b[1;34m\"data/senti_data/%s.txt\"\u001b[0m \u001b[1;33m%\u001b[0m \u001b[0martist\u001b[0m\u001b[1;33m.\u001b[0m\u001b[0mdecode\u001b[0m\u001b[1;33m(\u001b[0m\u001b[1;34m\"utf-8\"\u001b[0m\u001b[1;33m)\u001b[0m\u001b[1;33m\u001b[0m\u001b[0m\n\u001b[0;32m     10\u001b[0m         \u001b[0mfile\u001b[0m \u001b[1;33m=\u001b[0m \u001b[0mopen\u001b[0m\u001b[1;33m(\u001b[0m\u001b[0martist_url\u001b[0m\u001b[1;33m,\u001b[0m \u001b[1;34m\"w\"\u001b[0m\u001b[1;33m)\u001b[0m\u001b[1;33m\u001b[0m\u001b[0m\n",
      "\u001b[1;32m<ipython-input-87-d13b8bb85cee>\u001b[0m in \u001b[0;36mprocess_artist\u001b[1;34m(artist, discography)\u001b[0m\n\u001b[0;32m      5\u001b[0m     \u001b[0martist_dict\u001b[0m \u001b[1;33m=\u001b[0m \u001b[1;33m{\u001b[0m\u001b[1;33m}\u001b[0m\u001b[1;33m\u001b[0m\u001b[0m\n\u001b[0;32m      6\u001b[0m     \u001b[1;32mfor\u001b[0m \u001b[0mkey\u001b[0m\u001b[1;33m,\u001b[0m \u001b[0mvalue\u001b[0m \u001b[1;32min\u001b[0m \u001b[0mdiscography\u001b[0m\u001b[1;33m.\u001b[0m\u001b[0miteritems\u001b[0m\u001b[1;33m(\u001b[0m\u001b[1;33m)\u001b[0m\u001b[1;33m:\u001b[0m\u001b[1;33m\u001b[0m\u001b[0m\n\u001b[1;32m----> 7\u001b[1;33m         \u001b[0martist_dict\u001b[0m\u001b[1;33m[\u001b[0m\u001b[0mkey\u001b[0m\u001b[1;33m]\u001b[0m \u001b[1;33m=\u001b[0m \u001b[0mprocess_album\u001b[0m\u001b[1;33m(\u001b[0m\u001b[0martist\u001b[0m\u001b[1;33m,\u001b[0m \u001b[0mvalue\u001b[0m\u001b[1;33m)\u001b[0m\u001b[1;33m\u001b[0m\u001b[0m\n\u001b[0m\u001b[0;32m      8\u001b[0m     \u001b[1;32mreturn\u001b[0m \u001b[0martist_dict\u001b[0m\u001b[1;33m\u001b[0m\u001b[0m\n",
      "\u001b[1;32m<ipython-input-91-92d8864e2f9b>\u001b[0m in \u001b[0;36mprocess_album\u001b[1;34m(artist, album)\u001b[0m\n\u001b[0;32m      3\u001b[0m     \u001b[0malbum_dict\u001b[0m \u001b[1;33m=\u001b[0m \u001b[1;33m{\u001b[0m\u001b[1;33m}\u001b[0m\u001b[1;33m\u001b[0m\u001b[0m\n\u001b[0;32m      4\u001b[0m     \u001b[1;32mfor\u001b[0m \u001b[0msong\u001b[0m \u001b[1;32min\u001b[0m \u001b[0malbum\u001b[0m\u001b[1;33m:\u001b[0m\u001b[1;33m\u001b[0m\u001b[0m\n\u001b[1;32m----> 5\u001b[1;33m         \u001b[0malbum_dict\u001b[0m\u001b[1;33m[\u001b[0m\u001b[0msong\u001b[0m\u001b[1;33m]\u001b[0m \u001b[1;33m=\u001b[0m \u001b[0mget_song_lyrics\u001b[0m\u001b[1;33m(\u001b[0m\u001b[0martist\u001b[0m\u001b[1;33m,\u001b[0m \u001b[0msong\u001b[0m\u001b[1;33m)\u001b[0m\u001b[1;33m\u001b[0m\u001b[0m\n\u001b[0m\u001b[0;32m      6\u001b[0m     \u001b[0murl\u001b[0m \u001b[1;33m=\u001b[0m \u001b[1;34m\"data/lyrics/%s.txt\"\u001b[0m \u001b[1;33m%\u001b[0m \u001b[0martist\u001b[0m\u001b[1;33m\u001b[0m\u001b[0m\n\u001b[0;32m      7\u001b[0m     \u001b[0mfile\u001b[0m \u001b[1;33m=\u001b[0m \u001b[0mopen\u001b[0m\u001b[1;33m(\u001b[0m\u001b[0murl\u001b[0m\u001b[1;33m,\u001b[0m \u001b[1;34m'w'\u001b[0m\u001b[1;33m)\u001b[0m\u001b[1;33m\u001b[0m\u001b[0m\n",
      "\u001b[1;32m<ipython-input-122-101ede2121fb>\u001b[0m in \u001b[0;36mget_song_lyrics\u001b[1;34m(artist, song)\u001b[0m\n\u001b[0;32m      5\u001b[0m         \u001b[0mg\u001b[0m \u001b[1;33m=\u001b[0m \u001b[0meval\u001b[0m\u001b[1;33m(\u001b[0m\u001b[0mi\u001b[0m\u001b[1;33m.\u001b[0m\u001b[0mread\u001b[0m\u001b[1;33m(\u001b[0m\u001b[1;33m)\u001b[0m\u001b[1;33m)\u001b[0m\u001b[1;33m\u001b[0m\u001b[0m\n\u001b[0;32m      6\u001b[0m     \u001b[1;32mfor\u001b[0m \u001b[0malbum\u001b[0m \u001b[1;32min\u001b[0m \u001b[0mg\u001b[0m\u001b[1;33m:\u001b[0m\u001b[1;33m\u001b[0m\u001b[0m\n\u001b[1;32m----> 7\u001b[1;33m         \u001b[1;32mfor\u001b[0m \u001b[0mname\u001b[0m \u001b[1;32min\u001b[0m \u001b[0malbum\u001b[0m\u001b[1;33m[\u001b[0m\u001b[1;34m\"tracks\"\u001b[0m\u001b[1;33m]\u001b[0m\u001b[1;33m:\u001b[0m\u001b[1;33m\u001b[0m\u001b[0m\n\u001b[0m\u001b[0;32m      8\u001b[0m             \u001b[1;32mif\u001b[0m \u001b[0msong\u001b[0m \u001b[1;32mis\u001b[0m \u001b[0mname\u001b[0m\u001b[1;33m[\u001b[0m\u001b[1;34m\"name\"\u001b[0m\u001b[1;33m]\u001b[0m\u001b[1;33m:\u001b[0m\u001b[1;33m\u001b[0m\u001b[0m\n\u001b[0;32m      9\u001b[0m                 \u001b[1;32mreturn\u001b[0m \u001b[0mname\u001b[0m\u001b[1;33m[\u001b[0m\u001b[1;34m\"lyrics\"\u001b[0m\u001b[1;33m]\u001b[0m\u001b[1;33m\u001b[0m\u001b[0m\n",
      "\u001b[1;31mTypeError\u001b[0m: string indices must be integers, not str"
     ]
    }
   ],
   "source": [
    "x = get_rappers()\n",
    "\n",
    "for artist in x:\n",
    "    print artist\n",
    "    try:\n",
    "        discography = get_disc(artist)\n",
    "        print discography\n",
    "        senti_dict = process_artist(artist, discography)\n",
    "        artist_url = \"data/senti_data/%s.txt\" % artist.decode(\"utf-8\")\n",
    "        file = open(artist_url, \"w\")\n",
    "        file.write(str(senti_dict))\n",
    "        file.close()\n",
    "        print \"done: \" + artist\n",
    "    except AttributeError, SyntaxError:\n",
    "        continue"
   ]
  },
  {
   "cell_type": "code",
   "execution_count": null,
   "metadata": {},
   "outputs": [],
   "source": [
    "def save_lyrics(artist, discography):\n",
    "    total = 0\n",
    "    artist_dict = {}\n",
    "    for key, value in discography.iteritems():\n",
    "        artist_dict[key] = process_album(artist, value)\n",
    "    return artist_dict"
   ]
  },
  {
   "cell_type": "code",
   "execution_count": 91,
   "metadata": {},
   "outputs": [],
   "source": [
    "def process_album(artist, album):\n",
    "    total = 0\n",
    "    album_dict = {}\n",
    "    for song in album:\n",
    "        album_dict[song] = get_song_lyrics(artist, song)\n",
    "    url = \"data/lyrics/%s.txt\" % artist\n",
    "    file = open(url, 'w')\n",
    "    file.write(str(album_dict))\n",
    "    file.close()"
   ]
  },
  {
   "cell_type": "code",
   "execution_count": null,
   "metadata": {},
   "outputs": [],
   "source": [
    "#input rapper name\n",
    "#output overall aggression score\n",
    "def ov_aggression(artist):\n",
    "    art_dict = process_artist(artist)\n",
    "    total = 0\n",
    "    for value in art_dict.iteritems():\n",
    "        sum_of_all_album = sum(value.values())\n",
    "        total = total + (sum_of_all_album / (1.0 * len(value)))\n",
    "    return total / (1.0 * len(art_dict))"
   ]
  }
 ],
 "metadata": {
  "kernelspec": {
   "display_name": "Python 2",
   "language": "python",
   "name": "python2"
  },
  "language_info": {
   "codemirror_mode": {
    "name": "ipython",
    "version": 2
   },
   "file_extension": ".py",
   "mimetype": "text/x-python",
   "name": "python",
   "nbconvert_exporter": "python",
   "pygments_lexer": "ipython2",
   "version": "2.7.15"
  }
 },
 "nbformat": 4,
 "nbformat_minor": 2
}
