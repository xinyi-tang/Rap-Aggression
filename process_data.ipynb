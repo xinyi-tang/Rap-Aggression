{
 "cells": [
  {
   "cell_type": "code",
   "execution_count": 24,
   "metadata": {},
   "outputs": [],
   "source": [
    "import re"
   ]
  },
  {
   "cell_type": "code",
   "execution_count": 25,
   "metadata": {},
   "outputs": [],
   "source": [
    "def get_disc(artist):\n",
    "    url = \"data/albums/%s.txt\" % artist.decode(\"utf-8\")\n",
    "    with open(url, 'r') as f:\n",
    "        x = eval(f.read())\n",
    "    discography = {}\n",
    "    for album in x: #x[0]\n",
    "        discography[album[\"name\"]] = [re.sub(\"\\([^)]*\\)\", \"\", track['track_title']) for track in album['tracks']]\n",
    "    return discography"
   ]
  },
  {
   "cell_type": "code",
   "execution_count": null,
   "metadata": {},
   "outputs": [],
   "source": [
    "with open(\"data/albums\") as q:\n",
    "    x = eval(q.read())\n",
    "\n",
    "for artist in x:\n",
    "    "
   ]
  }
 ],
 "metadata": {
  "kernelspec": {
   "display_name": "Python 2",
   "language": "python",
   "name": "python2"
  },
  "language_info": {
   "codemirror_mode": {
    "name": "ipython",
    "version": 2
   },
   "file_extension": ".py",
   "mimetype": "text/x-python",
   "name": "python",
   "nbconvert_exporter": "python",
   "pygments_lexer": "ipython2",
   "version": "2.7.15"
  }
 },
 "nbformat": 4,
 "nbformat_minor": 2
}
