{
 "cells": [
  {
   "cell_type": "code",
   "execution_count": 6,
   "metadata": {},
   "outputs": [],
   "source": [
    "#Imports\n",
    "import requests as rq\n",
    "import json\n",
    "import requests\n",
    "import urllib2\n",
    "from bs4 import BeautifulSoup\n",
    "import re\n",
    "import string\n",
    "from afinn import Afinn\n",
    "import os\n",
    "import matplotlib.pyplot as plt\n"
   ]
  },
  {
   "cell_type": "code",
   "execution_count": 7,
   "metadata": {},
   "outputs": [],
   "source": [
    "#rapgenius information\n",
    "rap_genius_id = \"_17NJOxR9_RGp1XTQ1Vl3O--bxYh-cSzcCwASKlr-Xlyj3vh2_BsdedBZLX6xgdt\"\n",
    "client_secret = \"2wlydcjFiqOlSI5Zi65OeizvaWRx16xkkjIBfPkqZ9t1aFNNYTrjza8ny6xYlXdJQSP_vMzj6e20O7ORtjIIcQ\"\n",
    "client_access_token = \"Uzv_tj6uOXE9_1eX2wCrOGi3j4JtmYcm1kVF-UmPcC5gJh1MQZKJLph4aFp9frFx\""
   ]
  },
  {
   "cell_type": "code",
   "execution_count": 13,
   "metadata": {},
   "outputs": [],
   "source": [
    "def getLyrics(URL):\n",
    "    page = requests.get(URL)\n",
    "    html = BeautifulSoup(page.text, \"html.parser\") # Extract the page's HTML as a string\n",
    "\n",
    "    # Scrape the song lyrics from the HTML\n",
    "    lyrics = html.find(\"div\", class_=\"lyrics\").get_text()\n",
    "    return lyrics\n",
    "    "
   ]
  },
  {
   "cell_type": "markdown",
   "metadata": {},
   "source": [
    "***GETTING NEGATIVE WORDS***"
   ]
  },
  {
   "cell_type": "markdown",
   "metadata": {},
   "source": [
    "dictionary of words is score_word_dict"
   ]
  },
  {
   "cell_type": "code",
   "execution_count": 14,
   "metadata": {},
   "outputs": [],
   "source": [
    "#Get requests response \"Failed to establish a new connection: [Errno -2]\"\n",
    "url_web = \"https://raw.githubusercontent.com/hyharryhuang/AFINN-json/master/AFINN.json\"\n",
    "#We are going to hardcode the Afinn-111 json\n",
    "\n",
    "afinn_data = rq.get(url_web).json()"
   ]
  },
  {
   "cell_type": "code",
   "execution_count": 15,
   "metadata": {},
   "outputs": [],
   "source": [
    "score_word_dict = dict(afinn_data) #negative word dictionary"
   ]
  },
  {
   "cell_type": "code",
   "execution_count": 16,
   "metadata": {},
   "outputs": [],
   "source": [
    "#add firearms\n",
    "firearm_url = \"https://genius.com/Rap-genius-firearms-and-firearm-companies-mentioned-in-rap-lyrics\"\n",
    "scrape_words = getLyrics(firearm_url)\n",
    "firearm_list = scrape_words[130:].split(\"\\n\")\n",
    "\n",
    "#add firearms in dictionary with sentiment score of -4\n",
    "for firearm in firearm_list:\n",
    "    score_word_dict[firearm.lower()] = -4"
   ]
  },
  {
   "cell_type": "code",
   "execution_count": 17,
   "metadata": {},
   "outputs": [],
   "source": [
    "#add bulleted lists on rapgenius to a list that is returned and adds to score_word_dict\n",
    "#needs score_word_dict to word, and adds the sentiment of that word (number)\n",
    "def add_bulleted_lists(URL, number):\n",
    "    words_drug = getLyrics(URL)\n",
    "    first_list = words_drug.split(\"\\n\")\n",
    "    new_list = []\n",
    "\n",
    "    for x in first_list:\n",
    "        new_list.append(x.replace(u'\\u2022 ', ''))\n",
    "\n",
    "    #add drugs in dictionary with sentiment score of -1\n",
    "    for thing in new_list:\n",
    "        score_word_dict[thing.lower()] = number"
   ]
  },
  {
   "cell_type": "code",
   "execution_count": 18,
   "metadata": {},
   "outputs": [],
   "source": [
    "slang_drugs_url = \"https://genius.com/Rap-genius-slang-dictionary-drugs-lyrics\"\n",
    "slang_firearms_url = \"https://genius.com/Rap-genius-slang-dictionary-firearms-lyrics\"\n",
    "\n",
    "#adds words into sentiment dictionary\n",
    "add_bulleted_lists(slang_drugs_url, -2)\n",
    "add_bulleted_lists(slang_firearms_url, -4)"
   ]
  },
  {
   "cell_type": "markdown",
   "metadata": {},
   "source": [
    "***REQUEST RAPGENIUS API***"
   ]
  },
  {
   "cell_type": "raw",
   "metadata": {},
   "source": [
    "response = urllib2.urlopen(request, timeout=3)\n",
    "json_obj = json.load(response)\n",
    "json_obj.viewkeys()"
   ]
  },
  {
   "cell_type": "markdown",
   "metadata": {},
   "source": [
    "***GET RAPGENIUS LYRICS***"
   ]
  },
  {
   "cell_type": "markdown",
   "metadata": {},
   "source": [
    "use: get_song_lyrics(artist, song name)"
   ]
  },
  {
   "cell_type": "code",
   "execution_count": 12,
   "metadata": {},
   "outputs": [],
   "source": [
    "#input: artist and track title as string\n",
    "#output: lyrics of song track as string\n",
    "def song_lyrics(artist, track_title):\n",
    "    track_title = track_title.replace(\"&\", \"and\").partition(\"(\")[0].strip()\n",
    "    def _process(text):\n",
    "        # formats the url\n",
    "        puncs = set(string.punctuation) - set(\"-\")\n",
    "        text = [''.join([c for c in s if c not in puncs]).lower() \n",
    "                  for s in unidecode.unidecode(text).split()]\n",
    "        return text\n",
    "        \n",
    "    artist = \"-\".join(_process(artist)).capitalize()\n",
    "    track_title = \"-\".join(_process(track_title))\n",
    "    \n",
    "    URL = \"https://genius.com/{'-'.join([artist, track_title])}-lyrics\"\n",
    "    \n",
    "    # request page to get markup\n",
    "    page = rq.get(URL)\n",
    "    html = BeautifulSoup(page.text, \"html.parser\")\n",
    "    lyrics = html.find(\"div\", class_=\"lyrics\").get_text()\n",
    "\n",
    "    lyrics = \" \".join([line for line in lyrics.strip(\"\\n\").split(\"\\n\") if not line.startswith('[') and line != \"\"])\n",
    "    \n",
    "    return \" \".join(_process(lyrics))"
   ]
  },
  {
   "cell_type": "markdown",
   "metadata": {},
   "source": [
    "***ANALYZE SENTIMENT SCORE FOR LYRICS***"
   ]
  },
  {
   "cell_type": "code",
   "execution_count": 13,
   "metadata": {},
   "outputs": [],
   "source": [
    "#input: none\n",
    "#output: list of rappers\n",
    "def get_rappers():\n",
    "    \n",
    "    def validate(name):\n",
    "        # checks if the name has a\n",
    "        illegal_chars = \"|?:^*\\\"\"\n",
    "\n",
    "        for c in illegal_chars:\n",
    "            if c == '|':\n",
    "                if name.find(c) > 0:\n",
    "                    name = name.split(\"|\")[1]\n",
    "            if c == \"\\\"\":\n",
    "                if name.find(c) > 0:\n",
    "                    name = name.replace(r'\"','',2)\n",
    "            else: \n",
    "                name = name.replace(c,'')\n",
    "        return name\n",
    "    \n",
    "    with open(\"data/rappers.txt\", \"r\") as f:\n",
    "        rappers = f.read()\n",
    "        \n",
    "    return [validate(rapper).strip() for rapper in rappers.split(\"\\n\")]\n",
    "\n",
    "x = get_rappers() "
   ]
  },
  {
   "cell_type": "code",
   "execution_count": 14,
   "metadata": {},
   "outputs": [],
   "source": [
    "#input: song as lyrics as string\n",
    "#output: sentiment score as int\n",
    "def sentimentAnalysis(song):\n",
    "    lyrics_list = song.split(\" \")\n",
    "    value = 0\n",
    "    senti = 0\n",
    "    for word in lyrics_list:\n",
    "        if word in score_word_dict:\n",
    "            value = value + int(score_word_dict[word])\n",
    "        else:\n",
    "            continue\n",
    "        senti = value / (1.0 * len(lyrics_list))\n",
    "    return senti"
   ]
  },
  {
   "cell_type": "code",
   "execution_count": 15,
   "metadata": {},
   "outputs": [],
   "source": [
    "#input: artist name as string\n",
    "#output: lyrics in artist discography as one string\n",
    "def get_bf1(artist):\n",
    "    with open(\"data/lyrics/%s.txt\" % artist, \"r\") as f:\n",
    "        info = eval(f.read())\n",
    "    big_string = \"\"\n",
    "    for album in info:\n",
    "        for track in album[\"tracks\"]:\n",
    "            big_string += track[\"lyrics\"]\n",
    "    return big_string"
   ]
  },
  {
   "cell_type": "code",
   "execution_count": 55,
   "metadata": {},
   "outputs": [],
   "source": [
    "with open(\"data/done.txt\", \"r\") as t:\n",
    "    info = t.read()\n",
    "done_artist = info.split(\"\\n\")"
   ]
  },
  {
   "cell_type": "code",
   "execution_count": 57,
   "metadata": {},
   "outputs": [],
   "source": [
    " with open(\"data/done.txt\", \"w\") as t:\n",
    "        info = t.write(\"rapper\")"
   ]
  },
  {
   "cell_type": "code",
   "execution_count": 52,
   "metadata": {},
   "outputs": [
    {
     "name": "stdout",
     "output_type": "stream",
     "text": [
      "Chubb Rock\n"
     ]
    },
    {
     "ename": "IOError",
     "evalue": "[Errno 2] No such file or directory: 'data/lyrics/Chubb Rock.txt'",
     "output_type": "error",
     "traceback": [
      "\u001b[1;31m---------------------------------------------------------------------------\u001b[0m",
      "\u001b[1;31mIOError\u001b[0m                                   Traceback (most recent call last)",
      "\u001b[1;32m<ipython-input-52-4b23d0c3c217>\u001b[0m in \u001b[0;36m<module>\u001b[1;34m()\u001b[0m\n\u001b[0;32m      8\u001b[0m         \u001b[1;32mprint\u001b[0m \u001b[0mrapper\u001b[0m\u001b[1;33m\u001b[0m\u001b[0m\n\u001b[0;32m      9\u001b[0m         \u001b[1;32mtry\u001b[0m\u001b[1;33m:\u001b[0m\u001b[1;33m\u001b[0m\u001b[0m\n\u001b[1;32m---> 10\u001b[1;33m             \u001b[0mdict_senti\u001b[0m\u001b[1;33m[\u001b[0m\u001b[0mrapper\u001b[0m\u001b[1;33m]\u001b[0m \u001b[1;33m=\u001b[0m \u001b[0msentimentAnalysis\u001b[0m\u001b[1;33m(\u001b[0m\u001b[0mget_bf1\u001b[0m\u001b[1;33m(\u001b[0m\u001b[0mrapper\u001b[0m\u001b[1;33m)\u001b[0m\u001b[1;33m)\u001b[0m\u001b[1;33m\u001b[0m\u001b[0m\n\u001b[0m\u001b[0;32m     11\u001b[0m         \u001b[1;32mexcept\u001b[0m \u001b[0mSyntaxError\u001b[0m\u001b[1;33m,\u001b[0m \u001b[0mTypeError\u001b[0m\u001b[1;33m:\u001b[0m\u001b[1;33m\u001b[0m\u001b[0m\n\u001b[0;32m     12\u001b[0m             \u001b[1;32mcontinue\u001b[0m\u001b[1;33m\u001b[0m\u001b[0m\n",
      "\u001b[1;32m<ipython-input-15-dc62e2699de3>\u001b[0m in \u001b[0;36mget_bf1\u001b[1;34m(artist)\u001b[0m\n\u001b[0;32m      2\u001b[0m \u001b[1;31m#output: lyrics in artist discography as one string\u001b[0m\u001b[1;33m\u001b[0m\u001b[1;33m\u001b[0m\u001b[0m\n\u001b[0;32m      3\u001b[0m \u001b[1;32mdef\u001b[0m \u001b[0mget_bf1\u001b[0m\u001b[1;33m(\u001b[0m\u001b[0martist\u001b[0m\u001b[1;33m)\u001b[0m\u001b[1;33m:\u001b[0m\u001b[1;33m\u001b[0m\u001b[0m\n\u001b[1;32m----> 4\u001b[1;33m     \u001b[1;32mwith\u001b[0m \u001b[0mopen\u001b[0m\u001b[1;33m(\u001b[0m\u001b[1;34m\"data/lyrics/%s.txt\"\u001b[0m \u001b[1;33m%\u001b[0m \u001b[0martist\u001b[0m\u001b[1;33m,\u001b[0m \u001b[1;34m\"r\"\u001b[0m\u001b[1;33m)\u001b[0m \u001b[1;32mas\u001b[0m \u001b[0mf\u001b[0m\u001b[1;33m:\u001b[0m\u001b[1;33m\u001b[0m\u001b[0m\n\u001b[0m\u001b[0;32m      5\u001b[0m         \u001b[0minfo\u001b[0m \u001b[1;33m=\u001b[0m \u001b[0meval\u001b[0m\u001b[1;33m(\u001b[0m\u001b[0mf\u001b[0m\u001b[1;33m.\u001b[0m\u001b[0mread\u001b[0m\u001b[1;33m(\u001b[0m\u001b[1;33m)\u001b[0m\u001b[1;33m)\u001b[0m\u001b[1;33m\u001b[0m\u001b[0m\n\u001b[0;32m      6\u001b[0m     \u001b[0mbig_string\u001b[0m \u001b[1;33m=\u001b[0m \u001b[1;34m\"\"\u001b[0m\u001b[1;33m\u001b[0m\u001b[0m\n",
      "\u001b[1;31mIOError\u001b[0m: [Errno 2] No such file or directory: 'data/lyrics/Chubb Rock.txt'"
     ]
    }
   ],
   "source": [
    "#running sentiment analysis on rappers\n",
    "\n",
    "dict_senti = {}\n",
    "for rapper in x:\n",
    "    if rapper in done_artist:\n",
    "        continue\n",
    "    else: \n",
    "        print rapper\n",
    "        try:\n",
    "            dict_senti[rapper] = sentimentAnalysis(get_bf1(rapper))\n",
    "            with open(\"data/done.txt\", \"w\") as t:\n",
    "                info = t.write(\"rapper\")\n",
    "        except SyntaxError, TypeError:\n",
    "            continue\n",
    "    "
   ]
  },
  {
   "cell_type": "code",
   "execution_count": 43,
   "metadata": {},
   "outputs": [],
   "source": [
    "dict_senti\n",
    "\n",
    "removelist = []\n",
    "for key, value in dict_senti.iteritems():\n",
    "    if value == -4:\n",
    "        removelist.append(key)\n",
    "    \n",
    "for artist in removelist:\n",
    "    del dict_senti[artist]"
   ]
  },
  {
   "cell_type": "code",
   "execution_count": 315,
   "metadata": {},
   "outputs": [],
   "source": [
    "f = open(\"data/senti.txt\",\"w\")\n",
    "f.write(str(dict_senti))\n",
    "f.close()\n"
   ]
  },
  {
   "cell_type": "code",
   "execution_count": null,
   "metadata": {},
   "outputs": [],
   "source": [
    "!git pull origin master\n"
   ]
  },
  {
   "cell_type": "code",
   "execution_count": 317,
   "metadata": {},
   "outputs": [
    {
     "name": "stderr",
     "output_type": "stream",
     "text": [
      "warning: LF will be replaced by CRLF in lyrics_analysis.ipynb.\n",
      "The file will have its original line endings in your working directory.\n"
     ]
    }
   ],
   "source": [
    "!git add ."
   ]
  },
  {
   "cell_type": "code",
   "execution_count": 318,
   "metadata": {},
   "outputs": [
    {
     "name": "stdout",
     "output_type": "stream",
     "text": [
      "[master 1af8ce5] updated senti.txt\n",
      " 3 files changed, 96 insertions(+), 255 deletions(-)\n",
      " create mode 100644 data/lyrics/.ipynb_checkpoints/Celph Titled-checkpoint.txt\n"
     ]
    }
   ],
   "source": [
    "!git commit -m \"updated senti.txt\""
   ]
  },
  {
   "cell_type": "code",
   "execution_count": 319,
   "metadata": {},
   "outputs": [
    {
     "name": "stderr",
     "output_type": "stream",
     "text": [
      "To https://github.com/allengueco/rap_aggression.git\n",
      "   5dc7e25..1af8ce5  master -> master\n"
     ]
    }
   ],
   "source": [
    "!git push"
   ]
  },
  {
   "cell_type": "markdown",
   "metadata": {},
   "source": [
    "***DATA STRUCTURED STORAGE (OPTIONAL)***"
   ]
  },
  {
   "cell_type": "raw",
   "metadata": {},
   "source": [
    "#input rapper name\n",
    "#output overall aggression score\n",
    "def ov_aggression(artist):\n",
    "    art_dict = process_artist(artist)\n",
    "    total = 0\n",
    "    for value in art_dict.iteritems():\n",
    "        sum_of_all_album = sum(value.values())\n",
    "        total = total + (sum_of_all_album / (1.0 * len(value)))\n",
    "    return total / (1.0 * len(art_dict))"
   ]
  },
  {
   "cell_type": "raw",
   "metadata": {},
   "source": [
    "#input: artist as string for artist name, list of songs in album as list\n",
    "#output: dict of album with senti scores\n",
    "def process_album(artist, album):\n",
    "    total = 0\n",
    "    album_dict = {}\n",
    "    for song in album:\n",
    "        album_dict[song] = sentimentAnalysis(song)\n",
    "    return album_dict"
   ]
  },
  {
   "cell_type": "raw",
   "metadata": {},
   "source": [
    "#input: artist as string and discography where album is key and album songs are list as value\n",
    "#output: dict of artist discography where key is album and value is dictionary with songs as keys and senti scores as values \n",
    "def process_artist(artist, discography):\n",
    "    total = 0\n",
    "    artist_dict = {}\n",
    "    for key, value in discography.iteritems():\n",
    "        artist_dict[key] = process_album(artist, value)\n",
    "    return artist_dict"
   ]
  }
 ],
 "metadata": {
  "kernelspec": {
   "display_name": "Python 2",
   "language": "python",
   "name": "python2"
  },
  "language_info": {
   "codemirror_mode": {
    "name": "ipython",
    "version": 2
   },
   "file_extension": ".py",
   "mimetype": "text/x-python",
   "name": "python",
   "nbconvert_exporter": "python",
   "pygments_lexer": "ipython2",
   "version": "2.7.15"
  }
 },
 "nbformat": 4,
 "nbformat_minor": 2
}
