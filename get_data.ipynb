{
 "cells": [
  {
   "cell_type": "code",
   "execution_count": 109,
   "metadata": {},
   "outputs": [
    {
     "name": "stderr",
     "output_type": "stream",
     "text": [
      "warning: LF will be replaced by CRLF in get_data.ipynb.\n",
      "The file will have its original line endings in your working directory.\n"
     ]
    },
    {
     "name": "stdout",
     "output_type": "stream",
     "text": [
      "[master 5fc61b4] song features\n",
      " 1 file changed, 120 insertions(+), 107 deletions(-)\n"
     ]
    }
   ],
   "source": [
    "!git add .\n",
    "!git commit -m \"song features\""
   ]
  },
  {
   "cell_type": "code",
   "execution_count": 111,
   "metadata": {},
   "outputs": [
    {
     "name": "stderr",
     "output_type": "stream",
     "text": [
      "To https://github.com/allengueco/rap_aggression.git\n",
      " ! [rejected]        master -> master (non-fast-forward)\n",
      "error: failed to push some refs to 'https://github.com/allengueco/rap_aggression.git'\n",
      "hint: Updates were rejected because the tip of your current branch is behind\n",
      "hint: its remote counterpart. Integrate the remote changes (e.g.\n",
      "hint: 'git pull ...') before pushing again.\n",
      "hint: See the 'Note about fast-forwards' in 'git push --help' for details.\n"
     ]
    }
   ],
   "source": [
    "!git push origin master"
   ]
  },
  {
   "cell_type": "code",
   "execution_count": 3,
   "metadata": {},
   "outputs": [],
   "source": [
    "import os,re\n",
    "import requests as rq\n",
    "import numpy as np\n",
    "import pandas as pd\n",
    "import networkx as nx\n",
    "import matplotlib.pyplot as plt\n",
    "import seaborn as sns\n",
    "import spotipy"
   ]
  },
  {
   "cell_type": "code",
   "execution_count": 15,
   "metadata": {},
   "outputs": [],
   "source": [
    "data = rq.get(\"https://en.wikipedia.org/w/api.php?action=query&prop=revisions&rvprop=content&format=json&titles=List_of_hip_hop_musicians\").json()\n",
    "list_markup = data[\"query\"][\"pages\"][\"140853\"][\"revisions\"][0][\"*\"]\n",
    "link_regex = r\"\\* \\[\\[(.+?)[\\(\\]]\"\n",
    "\n",
    "rappers = re.findall(link_regex, list_markup)"
   ]
  },
  {
   "cell_type": "code",
<<<<<<< HEAD
   "execution_count": 16,
   "metadata": {},
   "outputs": [],
   "source": [
    "with open(\"rappers.txt\", 'w') as f:\n",
    "    for r in rappers:\n",
    "        f.write(r.encode('utf-8') + \"\\n\")"
   ]
  },
  {
   "cell_type": "code",
   "execution_count": 17,
=======
   "execution_count": 77,
>>>>>>> 1d6664aace3ca211a32a63c237a25a5f168b7456
   "metadata": {},
   "outputs": [],
   "source": [
    "import spotipy.oauth2 as oauth2\n",
    "\n",
    "# When an error occurs saying the token expired, re-run this cell.\n",
    "# Tokens are 1 hour I think.\n",
    "client_id = 'e3344de9f0454df280cc34cdba040bf7'\n",
    "client_secret = 'da09e980b2fb4f11a68a3c00a2669a7d'\n",
    "\n",
    "credentials = oauth2.SpotifyClientCredentials(\n",
    "        client_id=client_id,\n",
    "        client_secret=client_secret)\n",
    "\n",
    "token = credentials.get_access_token()\n",
    "spotify = spotipy.Spotify(auth=token)"
   ]
  },
  {
   "cell_type": "code",
<<<<<<< HEAD
   "execution_count": 18,
=======
   "execution_count": 94,
>>>>>>> 1d6664aace3ca211a32a63c237a25a5f168b7456
   "metadata": {},
   "outputs": [],
   "source": [
    "def get_albums(artist):\n",
    "    \n",
    "    artist_id = get_uri(artist, 'artist')\n",
    "    \n",
    "    albums = spotify.artist_albums(artist_id)\n",
    "    \n",
    "    # For some reason duplicates some albums. Wrap as a set\n",
    "    return set([album['name'] for album in albums['items']])"
   ]
  },
  {
   "cell_type": "code",
<<<<<<< HEAD
   "execution_count": 19,
=======
   "execution_count": 79,
>>>>>>> 1d6664aace3ca211a32a63c237a25a5f168b7456
   "metadata": {},
   "outputs": [],
   "source": [
    "def get_album_artists(album):\n",
    "    album_id = get_uri(album, 'album')\n",
    "    \n",
    "    tracks = spotify.album_tracks(album_id)\n",
    "    return set([artist['name']  \n",
    "            for track in tracks['items']\n",
    "            for artist in track['artists']])"
   ]
  },
  {
   "cell_type": "code",
<<<<<<< HEAD
   "execution_count": 20,
=======
   "execution_count": 80,
>>>>>>> 1d6664aace3ca211a32a63c237a25a5f168b7456
   "metadata": {},
   "outputs": [],
   "source": [
    "def get_collaborators(artist):\n",
    "    \"\"\"Returns a dictionary of album:artists entry\"\"\"\n",
    "    \n",
    "    albums = get_albums(rapper)\n",
    "    \n",
    "    return {album:list(get_album_artists(album)) for album in albums}"
   ]
  },
  {
   "cell_type": "code",
<<<<<<< HEAD
   "execution_count": 26,
   "metadata": {},
   "outputs": [],
   "source": [
    "rappers = set()\n",
    "\n",
    "for r in [\"rappers\"]: \n",
    "    rappers.add(r)"
=======
   "execution_count": 81,
   "metadata": {},
   "outputs": [],
   "source": [
    "def get_agg_album(album):\n",
    "    results = spotify.search(q='album:%s' % album, type='album')\n",
    "\n",
    "    tracks = spotify.album_tracks(album_id)\n",
    "    \n",
    "    "
   ]
  },
  {
   "cell_type": "code",
   "execution_count": 90,
   "metadata": {},
   "outputs": [],
   "source": [
    "def get_album_tracks(album):\n",
    "    album_id = get_uri(album, 'album')\n",
    "    \n",
    "    tracks = spotify.album_tracks(album_id)\n",
    "    \n",
    "    return [track['name'] for track in tracks['items']]"
   ]
  },
  {
   "cell_type": "code",
   "execution_count": 85,
   "metadata": {},
   "outputs": [],
   "source": [
    "def get_uri(name, obj_type):\n",
    "    result = spotify.search(q='%s:%s' % (obj_type, name), type=obj_type)\n",
    "    \n",
    "    uri = result[obj_type+\"s\"]['items'][0]['uri']\n",
    "    \n",
    "    return uri"
   ]
  },
  {
   "cell_type": "code",
   "execution_count": 103,
   "metadata": {},
   "outputs": [],
   "source": [
    "a = spotify.audio_analysis(get_uri(\"thank u next\", 'track'))"
   ]
  },
  {
   "cell_type": "code",
   "execution_count": 107,
   "metadata": {},
   "outputs": [
    {
     "data": {
      "text/plain": [
       "[u'bars', u'track', u'segments', u'beats', u'meta', u'sections', u'tatums']"
      ]
     },
     "execution_count": 107,
     "metadata": {},
     "output_type": "execute_result"
    }
   ],
   "source": [
    "a.keys()['track']"
>>>>>>> 1d6664aace3ca211a32a63c237a25a5f168b7456
   ]
  },
  {
   "cell_type": "code",
<<<<<<< HEAD
   "execution_count": 27,
=======
   "execution_count": 108,
>>>>>>> 1d6664aace3ca211a32a63c237a25a5f168b7456
   "metadata": {},
   "outputs": [
    {
     "data": {
      "text/plain": [
<<<<<<< HEAD
       "{'rappers'}"
      ]
     },
     "execution_count": 27,
=======
       "{u'analysis_channels': 1,\n",
       " u'analysis_sample_rate': 22050,\n",
       " u'code_version': 3.15,\n",
       " u'codestring': u'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',\n",
       " u'duration': 207.33333,\n",
       " u'echoprint_version': 4.12,\n",
       " u'echoprintstring': u'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',\n",
       " u'end_of_fade_in': 0.19737,\n",
       " u'key': 1,\n",
       " u'key_confidence': 0.538,\n",
       " u'loudness': -5.642,\n",
       " u'mode': 1,\n",
       " u'mode_confidence': 0.602,\n",
       " u'num_samples': 4571700,\n",
       " u'offset_seconds': 0,\n",
       " u'rhythm_version': 1.0,\n",
       " u'rhythmstring': u'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',\n",
       " u'sample_md5': u'',\n",
       " u'start_of_fade_out': 194.36844,\n",
       " u'synch_version': 1.0,\n",
       " u'synchstring': u'eJxNmImV5DAIRFNRCALd-Se21Af37JuebltGnMUhu_fV22jzxP9Y3maz3m78eXvxHTezuTe3Zrvt0-Zte7d12h66jR3jtthsr83ZdpD50M9aPHBtCwlrxwP2rWDqU8930F9dmJn2n9U87p82-hOTHdxNTDy47TY636adI4i5Fc2UTrE-QnRQHskJJsskLS7ehiYonzTWYm_7Scpw7ZW4cECXqmFVaKrry9MktjbDOae9GX5qu2vROkSxakE-0csvyxY-s3Ba6BIMPPY9PGMWxOFU-bOLZIlXqGv9ySDrQRPk80m_MClU16OQea74h_omrfCShT3xkYqj3SffzSXtQ7mJjyQryAfGyX_B58kZoVg4L7SVC68krf752Is4nt4hOXLt5LPl4IkPQktxPhjuyBsSGcTa_kQw2ajvhbMfcnGI3BmBHW1861JmyQDRdFjtApUYXrEKGm00YVKisTM1mf2TMitWGXxxPnggmIfJE3OuTFi31FjIjQtLnQHzgka6LYkTwRWQB7sy8MLULuCsVU6QwoH1IQCO8xHvwvUAKhHgBKmMXThk4MaFn_GePJDmTKmdivkuV4RQxWIQBZJAkO-f1YOVLoa_6FSk3relw6SX7QO8h4ZxnVlVJh_U6CVF0OzIBVTKG5I1Q7DxZ8Zu3zJqEFmh85QtI0M2YTXh_DDnklsUj1KMNPVZIcunsa7kZtFXIXPNiqMqBHvjVvEan5lRkAwpD0pclHEMGxWg5HzLq4og1q1dMNYj4Bo4VJEgaxaxcwKqLVOLqmQAYCUmjwphYnIBCdF_op2ylJAIfw5gs9LGIc_fGxv83OeJ-cj8tqmZIFNriXLV8vAzjgx-UzVlqYqf-Ju6XMo5T4zrLgx7FV8V5Kntt7cXT9oNLfgb-UPwBWdtVCGLq7CKfwqfngS_LuWUrWH0DvYmk0PdCDF8QvxUqgVVuDbXtpxonYTYyQoxGMNKdALtZd3THD1WxAabTQ3rfvZiu9PPTOxVOlKyi6PnJ4ts5Yc2QLgcreVhFeuhLU4VoFfU8pQ0Y89QREIBYjywf7MPaU7im6dhsUAXEB2XC_Ts31MHOE5L81MqxfdFTTwno9R2ws5Bf0YwRiPa2I_GSUrsb-1Oml2tffOR89JOXGJ8VA9c3sgdnzDAKSIMRUlECbhyHLCVe95_WxzXhYuffIUJa2Y4fWbwJeNJTXYZeUERe8WVcjTFPUNaoUyVyBRtSVbz23UEEVNE3dLoXzyJCxpklLNuEvlelQqzcw_aV5Z1XJlx1dCjiYkxSXlAaileqd4XRZUUzHFSCNQYTG4i2r-AJR-8E4-l8yKaOWtAcdOeyoTUP6Pu1CyjIYU8iZiZHHgM_bBd8DLQlp4Ji87NcCjeBVdSfeRYuKm2hqL7T12FhBxduWv_VH84bheyRs0mmnKAZ2jiND9HBYYK2Ggp9UaMim4izUt2Jph_gZzFj-Yon1jCLO0Lbpe7XMA6zWgYATAOcyduEhiVSpZs_8Olly9vAcQxd3wpcPllFMbGP321c5bI5KZYJpP61ggu0leZJ-VAc5qRijif8afJq7Kj9L_YlorRTFL2qw1Oycli8EoRz_axCzsatGdtG5kFGAaLC0yAhedEAoUAQEHUmEW4BvYCyY8H8qZ_FRPrtGtnE5GCX16m3_Egrcu_UpTIX15eeLqbWRLxxnzZLeak9Vz6rNNcpDLjrX7aq-pgHe0ZVjZtZme5-Rw24G-ZUQSMaYcqn0WxCeBKh4wt5musj5FnYWRk_JnItWiKK-tUCBfjwyqd0jhxZW1XTaoKjkzOLWvnZTpSV8FbI42mBWXXoRxXSQI5sj1PUIuzHEOcUU3Oxznt69l6LgjGtCws2QfUhMkZWTE5sfgH3wjJY1axTCv-0t6q8CLdwuTMZ9iBegpzMsU9pK_GtM3zm8tvcJrSTKosBZ4c0AClLjAk9hzpEWR9EjuBgXklDbS-iWqf2Oo9ezSzgju_mwI-NZXGoHU6fWRSFhd785Dr4rQ8ncl8SNCYfa0fHYUPp2fyfNSI46rSti3nNl3G05tZ_AR5snWoHwqZOi3fi3PtkrQh7UhPezRYHVn75aQ48jC5s7dnVRYL5c_XZjSiHMEFSrkC8JhO3IrUYe5jKNN5c-scpIRQQwj3VlrKSzK7avhVeg6oSamxbib1xbTQ7ACYu8B4x59xqwAETfhmlROuwqEzWQFC-J-gUB00RN_MMsdRgzY8OU9sZnwOzO10wElXpK7Tz-XHbVVOZMzSNcA5HChn9hw_9UvTPnXmEN0gTZ9SSekz6RPeOSrke4Pt-bDmdYZ51bNBDVitlKq6J-ApwDnFcdrNLqrxe9TwtGnrCfqaf-RmPd-WQw0VoM2a2vPdio4U-XaGdxXZ3GpMzyIAz8EBQkEd2do4jZlVv1ExslMJbODZ7teRslxTjNUBVLa-CbYa3PwoVtXKV5cyebxM-2y-iltOUy-t25zTGq8ZGMM_FQbT5dzZ5ykp9Q6DxAMSpgqudpPHR-LEUT9PiTqlt4dveNWR9MLX-rrWalkMRg3nJ19P0eSlUB27eZ0zXx6cjFbkliXFMUg9FlOsashdFdgIy1WJODxmxJ_0yihgeiOhB6BFp0FLWuPcNersE5eXgqWSq2knKlIWCaPLHd5WLV6n5QGfs3hSMO3-Ayx3fsk=',\n",
       " u'tempo': 106.96,\n",
       " u'tempo_confidence': 0.325,\n",
       " u'time_signature': 4,\n",
       " u'time_signature_confidence': 1.0,\n",
       " u'window_seconds': 0}"
      ]
     },
     "execution_count": 108,
>>>>>>> 1d6664aace3ca211a32a63c237a25a5f168b7456
     "metadata": {},
     "output_type": "execute_result"
    }
   ],
   "source": [
<<<<<<< HEAD
    "rappers"
=======
    "a['track']"
   ]
  },
  {
   "cell_type": "code",
   "execution_count": null,
   "metadata": {},
   "outputs": [],
   "source": [
    "# Relevant features from Spotify API:\n",
    "# energy\n",
    "# loudness\n",
    "# tempo\n",
    "# valence\n",
    "def get_song_features(album, features):\n",
    "    tracks = get_album_tracks(album)\n",
    "    \n",
    "    album_id = get_uri(album, 'album')\n",
    "    \n",
    "    for feature in features:\n",
    "        \n",
    "    "
>>>>>>> 1d6664aace3ca211a32a63c237a25a5f168b7456
   ]
  },
  {
   "cell_type": "code",
   "execution_count": null,
   "metadata": {},
   "outputs": [],
   "source": []
  }
 ],
 "metadata": {
  "kernelspec": {
   "display_name": "Python 2",
   "language": "python",
   "name": "python2"
  },
  "language_info": {
   "codemirror_mode": {
    "name": "ipython",
    "version": 2
   },
   "file_extension": ".py",
   "mimetype": "text/x-python",
   "name": "python",
   "nbconvert_exporter": "python",
   "pygments_lexer": "ipython2",
   "version": "2.7.15"
  }
 },
 "nbformat": 4,
 "nbformat_minor": 2
}
