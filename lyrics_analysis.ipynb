{
 "cells": [
  {
   "cell_type": "code",
   "execution_count": 47,
   "metadata": {},
   "outputs": [],
   "source": [
    "#Imports\n",
    "import requests as rq\n",
    "import json\n",
    "import requests\n",
    "import urllib2\n",
    "from bs4 import BeautifulSoup\n",
    "import re\n",
    "import string\n",
    "from afinn import Afinn\n",
    "import os\n",
    "import matplotlib.pyplot as plt\n"
   ]
  },
  {
   "cell_type": "code",
   "execution_count": 48,
   "metadata": {},
   "outputs": [],
   "source": [
    "#rapgenius information\n",
    "rap_genius_id = \"_17NJOxR9_RGp1XTQ1Vl3O--bxYh-cSzcCwASKlr-Xlyj3vh2_BsdedBZLX6xgdt\"\n",
    "client_secret = \"2wlydcjFiqOlSI5Zi65OeizvaWRx16xkkjIBfPkqZ9t1aFNNYTrjza8ny6xYlXdJQSP_vMzj6e20O7ORtjIIcQ\"\n",
    "client_access_token = \"Uzv_tj6uOXE9_1eX2wCrOGi3j4JtmYcm1kVF-UmPcC5gJh1MQZKJLph4aFp9frFx\""
   ]
  },
  {
   "cell_type": "code",
   "execution_count": 49,
   "metadata": {},
   "outputs": [],
   "source": [
    "#pass the URL of rapgenius and get returned the song lyrics\n",
    "def getLyrics (URL):\n",
    "    page = requests.get(URL)\n",
    "    html = BeautifulSoup(page.text, \"html.parser\") # Extract the page's HTML as a string\n",
    "\n",
    "    # Scrape and return the song lyrics from the HTML\n",
    "    return html.find(\"div\", class_=\"lyrics\").get_text()"
   ]
  },
  {
   "cell_type": "markdown",
   "metadata": {},
   "source": [
    "***GETTING NEGATIVE WORDS***"
   ]
  },
  {
   "cell_type": "markdown",
   "metadata": {},
   "source": [
    "dictionary of words is score_word_dict"
   ]
  },
  {
   "cell_type": "code",
   "execution_count": 50,
   "metadata": {},
   "outputs": [],
   "source": [
    "#Get requests response \"Failed to establish a new connection: [Errno -2]\"\n",
    "url_web = \"https://raw.githubusercontent.com/hyharryhuang/AFINN-json/master/AFINN.json\"\n",
    "#We are going to hardcode the Afinn-111 json\n",
    "\n",
    "afinn_data = rq.get(url_web).json()"
   ]
  },
  {
   "cell_type": "code",
   "execution_count": 51,
   "metadata": {},
   "outputs": [],
   "source": [
    "score_word_dict = dict(afinn_data) #negative word dictionary"
   ]
  },
  {
   "cell_type": "code",
   "execution_count": 52,
   "metadata": {},
   "outputs": [],
   "source": [
    "#add firearms\n",
    "firearm_url = \"https://genius.com/Rap-genius-firearms-and-firearm-companies-mentioned-in-rap-lyrics\"\n",
    "scrape_words = getLyrics(firearm_url)\n",
    "firearm_list = scrape_words[130:].split(\"\\n\")\n",
    "\n",
    "#add firearms in dictionary with sentiment score of -4\n",
    "for firearm in firearm_list:\n",
    "    score_word_dict[firearm.lower()] = -4"
   ]
  },
  {
   "cell_type": "code",
   "execution_count": 53,
   "metadata": {},
   "outputs": [],
   "source": [
    "#add bulleted lists on rapgenius to a list that is returned and adds to score_word_dict\n",
    "#needs score_word_dict to word, and adds the sentiment of that word (number)\n",
    "def add_bulleted_lists(URL, number):\n",
    "    words_drug = getLyrics(URL)\n",
    "    first_list = words_drug.split(\"\\n\")\n",
    "    new_list = []\n",
    "\n",
    "    for x in first_list:\n",
    "        new_list.append(x.replace(u'\\u2022 ', ''))\n",
    "\n",
    "    #add drugs in dictionary with sentiment score of -1\n",
    "    for thing in new_list:\n",
    "        score_word_dict[thing.lower()] = number"
   ]
  },
  {
   "cell_type": "code",
   "execution_count": 54,
   "metadata": {},
   "outputs": [],
   "source": [
    "slang_drugs_url = \"https://genius.com/Rap-genius-slang-dictionary-drugs-lyrics\"\n",
    "slang_firearms_url = \"https://genius.com/Rap-genius-slang-dictionary-firearms-lyrics\"\n",
    "\n",
    "#adds words into sentiment dictionary\n",
    "add_bulleted_lists(slang_drugs_url, -2)\n",
    "add_bulleted_lists(slang_firearms_url, -4)"
   ]
  },
  {
   "cell_type": "markdown",
   "metadata": {},
   "source": [
    "***REQUEST RAPGENIUS API***"
   ]
  },
  {
   "cell_type": "raw",
   "metadata": {},
   "source": [
    "response = urllib2.urlopen(request, timeout=3)\n",
    "json_obj = json.load(response)\n",
    "json_obj.viewkeys()"
   ]
  },
  {
   "cell_type": "markdown",
   "metadata": {},
   "source": [
    "***GET RAPGENIUS LYRICS***"
   ]
  },
  {
   "cell_type": "markdown",
   "metadata": {},
   "source": [
    "use: get_song_lyrics(artist, song name)"
   ]
  },
  {
   "cell_type": "code",
   "execution_count": 270,
   "metadata": {},
   "outputs": [],
   "source": [
    "#input: artist and track title as string\n",
    "#output: lyrics of song track as string\n",
    "def song_lyrics(artist, track_title):\n",
    "    track_title = track_title.replace(\"&\", \"and\").partition(\"(\")[0].strip()\n",
    "    def _process(text):\n",
    "        # formats the url\n",
    "        puncs = set(string.punctuation) - set(\"-\")\n",
    "        text = [''.join([c for c in s if c not in puncs]).lower() \n",
    "                  for s in unidecode.unidecode(text).split()]\n",
    "        return text\n",
    "        \n",
    "    artist = \"-\".join(_process(artist)).capitalize()\n",
    "    track_title = \"-\".join(_process(track_title))\n",
    "    \n",
    "    URL = \"https://genius.com/{'-'.join([artist, track_title])}-lyrics\"\n",
    "    \n",
    "    # request page to get markup\n",
    "    page = rq.get(URL)\n",
    "    html = BeautifulSoup(page.text, \"html.parser\")\n",
    "    lyrics = html.find(\"div\", class_=\"lyrics\").get_text()\n",
    "\n",
    "    lyrics = \" \".join([line for line in lyrics.strip(\"\\n\").split(\"\\n\") if not line.startswith('[') and line != \"\"])\n",
    "    \n",
    "    return \" \".join(_process(lyrics))"
   ]
  },
  {
   "cell_type": "code",
   "execution_count": 145,
   "metadata": {},
   "outputs": [],
   "source": [
    "#**supports get_song_lyrics**\n",
    "#cleans up lyrics once it gets sent back from rapgenius\n",
    "#pass parameter as string lyrics\n",
    "#returns as string of lyrics separated by spaces\n",
    "def process_lyrics (lyrics):\n",
    "    #removes stuff in brackets\n",
    "    new_lyrics = re.sub(\"\\[(.+?)\\]\", '', lyrics)\n",
    "    \n",
    "    #removes special characters and newline\n",
    "    no_char = ''.join(e for e in new_lyrics if e.isalnum() or e == \" \" or e == \"\\n\")\n",
    "    no_char = \" \".join(no_char.split(\"\\n\"))\n",
    "    \n",
    "    #returns string in lowercase\n",
    "    return no_char.lower()"
   ]
  },
  {
   "cell_type": "markdown",
   "metadata": {},
   "source": [
    "***ANALYZE SENTIMENT SCORE FOR LYRICS***"
   ]
  },
  {
   "cell_type": "code",
   "execution_count": 153,
   "metadata": {},
   "outputs": [],
   "source": [
    "#input: artist as string and song name as string\n",
    "#output: integer sentiment score for song\n",
    "#necessary: needs get_song_lyrics and process_lyrics as auxillary methods\n",
    "def analyze_senti(artist, song):\n",
    "    lyrics_list = song_lyrics(artist, song).split(\" \")\n",
    "    \n",
    "    value = 0\n",
    "    senti = 0\n",
    "    for word in lyrics_list:\n",
    "        if word in score_word_dict:\n",
    "            value = value + int(score_word_dict[word])\n",
    "        else:\n",
    "            continue\n",
    "        senti = value / (1.0 * len(lyrics_list))\n",
    "    return senti"
   ]
  },
  {
   "cell_type": "code",
   "execution_count": 269,
   "metadata": {},
   "outputs": [],
   "source": [
    "#input: song as lyrics as string\n",
    "#output: sentiment score as int\n",
    "def sentimentAnalysis(song):\n",
    "    lyrics_list = song.split(\" \")\n",
    "    value = 0\n",
    "    senti = 0\n",
    "    for word in lyrics_list:\n",
    "        if word in score_word_dict:\n",
    "            value = value + int(score_word_dict[word])\n",
    "        else:\n",
    "            continue\n",
    "        senti = value / (1.0 * len(lyrics_list))\n",
    "    return senti"
   ]
  },
  {
   "cell_type": "code",
   "execution_count": 154,
   "metadata": {},
   "outputs": [],
   "source": [
    "#input: artist as string for artist name, list of songs in album as list\n",
    "#output: dict of album with senti scores\n",
    "def process_album(artist, album):\n",
    "    total = 0\n",
    "    album_dict = {}\n",
    "    for song in album:\n",
    "        album_dict[song] = analyze_senti(artist, song)\n",
    "    return album_dict"
   ]
  },
  {
   "cell_type": "code",
   "execution_count": 155,
   "metadata": {},
   "outputs": [],
   "source": [
    "#input: artist as string and discography where album is key and album songs are list as value\n",
    "#output: dict of artist discography where key is album and value is dictionary with songs as keys and senti scores as values \n",
    "def process_artist(artist, discography):\n",
    "    total = 0\n",
    "    artist_dict = {}\n",
    "    for key, value in discography.iteritems():\n",
    "        artist_dict[key] = process_album(artist, value)\n",
    "    return artist_dict"
   ]
  },
  {
   "cell_type": "code",
   "execution_count": 156,
   "metadata": {},
   "outputs": [],
   "source": [
    "#input: artist as string\n",
    "#output: discography as dictionary where album are keys and songs are list of values\n",
    "def get_disc(artist):\n",
    "    url = \"data/albums/%s.txt\" % artist.decode(\"utf-8\")\n",
    "    with open(url, 'r') as f:\n",
    "        x = eval(f.read())\n",
    "    discography = {}\n",
    "    for album in x: #x[0]\n",
    "        discography[album[\"name\"]] = [re.sub(\"\\([^)]*\\)\", \"\", track['track_title']) for track in album['tracks']]\n",
    "    return discography"
   ]
  },
  {
   "cell_type": "code",
   "execution_count": 157,
   "metadata": {},
   "outputs": [],
   "source": [
    "def get_rappers():\n",
    "    \n",
    "    def validate(name):\n",
    "        # checks if the name has a\n",
    "        illegal_chars = \"|?:^*\\\"\"\n",
    "\n",
    "        for c in illegal_chars:\n",
    "            if c == '|':\n",
    "                if name.find(c) > 0:\n",
    "                    name = name.split(\"|\")[1]\n",
    "            if c == \"\\\"\":\n",
    "                if name.find(c) > 0:\n",
    "                    name = name.replace(r'\"','',2)\n",
    "            else: \n",
    "                name = name.replace(c,'')\n",
    "        return name\n",
    "    \n",
    "    with open(\"data/rappers.txt\", \"r\") as f:\n",
    "        rappers = f.read()\n",
    "        \n",
    "    return [validate(rapper).strip() for rapper in rappers.split(\"\\n\")]\n",
    "rappers = get_rappers() "
   ]
  },
  {
   "cell_type": "code",
   "execution_count": 159,
   "metadata": {},
   "outputs": [],
   "source": [
    "def save_lyrics(artist, discography):\n",
    "    total = 0\n",
    "    artist_dict = {}\n",
    "    for key, value in discography.iteritems():\n",
    "        artist_dict[key] = process_album(artist, value)\n",
    "    return artist_dict"
   ]
  },
  {
   "cell_type": "code",
   "execution_count": 91,
   "metadata": {},
   "outputs": [],
   "source": [
    "def process_album(artist, album):\n",
    "    total = 0\n",
    "    album_dict = {}\n",
    "    for song in album:\n",
    "        album_dict[song] = get_song_lyrics(artist, song)\n",
    "    url = \"data/lyrics/%s.txt\" % artist\n",
    "    file = open(url, 'w')\n",
    "    file.write(str(album_dict))\n",
    "    file.close()"
   ]
  },
  {
   "cell_type": "code",
   "execution_count": null,
   "metadata": {},
   "outputs": [],
   "source": [
    "#input rapper name\n",
    "#output overall aggression score\n",
    "def ov_aggression(artist):\n",
    "    art_dict = process_artist(artist)\n",
    "    total = 0\n",
    "    for value in art_dict.iteritems():\n",
    "        sum_of_all_album = sum(value.values())\n",
    "        total = total + (sum_of_all_album / (1.0 * len(value)))\n",
    "    return total / (1.0 * len(art_dict))"
   ]
  },
  {
   "cell_type": "code",
   "execution_count": 168,
   "metadata": {},
   "outputs": [],
   "source": [
    "def get_bf1(artist):\n",
    "    with open(\"data/lyrics/%s.txt\" % artist, \"r\") as f:\n",
    "        info = eval(f.read())\n",
    "    big_string = \"\"\n",
    "    for album in info:\n",
    "        for track in album[\"tracks\"]:\n",
    "            big_string += track[\"lyrics\"]\n",
    "    return big_string"
   ]
  },
  {
   "cell_type": "code",
   "execution_count": 258,
   "metadata": {},
   "outputs": [
    {
     "data": {
      "text/plain": [
       "''"
      ]
     },
     "execution_count": 258,
     "metadata": {},
     "output_type": "execute_result"
    }
   ],
   "source": [
    "get_bf1(\"A$AP Rocky\")"
   ]
  },
  {
   "cell_type": "code",
   "execution_count": 294,
   "metadata": {},
   "outputs": [
    {
     "name": "stdout",
     "output_type": "stream",
     "text": [
      "100 Kila\n",
      "100s\n",
      "12 Gauge\n",
      "2 Chainz\n",
      "2 Pistols\n",
      "2$ Fabo\n",
      "21 Savage\n",
      "2Mex\n",
      "360\n",
      "40 Glocc\n",
      "50 Cent\n",
      "6ix9ine\n",
      "6lack\n",
      "The 6th Letter\n",
      "9th Wonder\n",
      "Ab-Soul\n",
      "A Boogie wit da Hoodie\n",
      "Abstract Rude\n",
      "Ace Hood\n",
      "Aceyalone\n",
      "Action Bronson\n",
      "Adam Saleh\n",
      "Aesop Rock\n",
      "Afrika Bambaataa\n",
      "Afroman\n",
      "Afu-Ra\n",
      "Agallah\n",
      "Ahmad Lewis\n",
      "Ajs Nigrutin\n",
      "AKA\n",
      "Akala\n",
      "Akinyele\n",
      "Akir\n",
      "Akon\n",
      "The Alchemist\n",
      "Alex Wiley\n",
      "Ali Vegas\n",
      "AMG\n",
      "Amil\n",
      "Ampichino\n",
      "Anderson .Paak\n",
      "Andre Nickatina\n",
      "Andy Mineo\n",
      "Angel Haze\n",
      "Angie Martinez\n",
      "Ant Banks\n",
      "Antoinette\n",
      "Apache\n",
      "A$AP Ferg\n",
      "A$AP Nast\n",
      "A$AP Rocky\n",
      "A$AP Yams\n",
      "A$ton Matthews\n",
      "Asher Roth\n",
      "Astronautalis\n",
      "Awol One\n",
      "Awkwafina\n",
      "AZ\n",
      "Azealia Banks\n",
      "B-Legit\n",
      "B-Real\n",
      "B.G.\n",
      "B.G. Knocc Out\n",
      "B.o.B\n",
      "Baby Bash\n",
      "Baby Boy da Prince\n",
      "Baby D\n",
      "Bad Azz\n",
      "Badshah\n",
      "Baeza\n",
      "Bahamadia\n",
      "Baka Not Nice\n",
      "Bangladesh\n",
      "Bas\n",
      "Battlecat\n",
      "Beanie Sigel\n",
      "Becky G\n",
      "Benny Blanco\n",
      "Beenzino\n",
      "Benzino\n",
      "BewhY\n",
      "Bhad Bhabie\n",
      "Big Boi\n",
      "Big Daddy Kane\n",
      "Big Ed\n",
      "Big Gipp\n",
      "Big Hawk\n",
      "Big K.R.I.T.\n",
      "Big Kuntry King\n",
      "Big L\n",
      "Big Lurch\n",
      "Big Mello\n",
      "Big Mike\n",
      "Big Moe\n",
      "Big Noyd\n",
      "Big Pokey\n",
      "Big Pooh\n",
      "Big Pun\n",
      "Big Reese\n",
      "Big Scoob\n",
      "Big Smo\n",
      "Big Sean\n",
      "Big Shaq\n",
      "Big Shug\n",
      "Big Syke\n",
      "Bigg D\n",
      "Billy Woods\n",
      "Birdman\n",
      "Bishop Nehru\n",
      "Biz Markie\n",
      "Bizarre\n",
      "Bugz\n",
      "Bizzy\n",
      "Bizzy Bone\n",
      "BJ the Chicago Kid\n",
      "Black Milk\n",
      "Black Rob\n",
      "Black Thought\n",
      "Blade Icewood\n",
      "Blaq Poet\n",
      "Blaze Ya Dead Homie\n",
      "BlocBoy JB\n",
      "Blood Raw\n",
      "Blu\n",
      "Bobby Brackins\n",
      "Bobby Creekwater\n",
      "Bobby Shmurda\n",
      "Bohemia\n",
      "Boi-1da\n",
      "Boldy James\n",
      "Bone Crusher\n",
      "Bones\n",
      "Booba\n",
      "Boondox\n",
      "Boosie Badazz\n",
      "Bow Wow\n",
      "Braille\n",
      "Brandun DeShay\n",
      "Brianna Perry\n",
      "Brisco\n",
      "Bubba Sparxxx\n",
      "Buckshot\n",
      "Buckwild\n",
      "Bumpy Knuckles\n",
      "Bun B\n",
      "Busdriver\n",
      "Bushwick Bill\n",
      "Busta Rhymes\n",
      "Butch Cassidy\n",
      "C-Murder\n",
      "C-Note\n",
      "C-Rayz Walz\n",
      "Cage\n",
      "Cam'ron\n",
      "Capital Steez\n",
      "Capone\n",
      "Cappadonna\n",
      "Cardi B\n",
      "Cashis\n"
     ]
    },
    {
     "ename": "IOError",
     "evalue": "[Errno 2] No such file or directory: 'data/lyrics/Cashis.txt'",
     "output_type": "error",
     "traceback": [
      "\u001b[1;31m---------------------------------------------------------------------------\u001b[0m",
      "\u001b[1;31mIOError\u001b[0m                                   Traceback (most recent call last)",
      "\u001b[1;32m<ipython-input-294-4029f0008997>\u001b[0m in \u001b[0;36m<module>\u001b[1;34m()\u001b[0m\n\u001b[0;32m      3\u001b[0m     \u001b[1;32mprint\u001b[0m \u001b[0mrapper\u001b[0m\u001b[1;33m\u001b[0m\u001b[0m\n\u001b[0;32m      4\u001b[0m     \u001b[1;32mtry\u001b[0m\u001b[1;33m:\u001b[0m\u001b[1;33m\u001b[0m\u001b[0m\n\u001b[1;32m----> 5\u001b[1;33m         \u001b[0mdict_senti\u001b[0m\u001b[1;33m[\u001b[0m\u001b[0mrapper\u001b[0m\u001b[1;33m]\u001b[0m \u001b[1;33m=\u001b[0m \u001b[0msentimentAnalysis\u001b[0m\u001b[1;33m(\u001b[0m\u001b[0mget_bf1\u001b[0m\u001b[1;33m(\u001b[0m\u001b[0mrapper\u001b[0m\u001b[1;33m)\u001b[0m\u001b[1;33m)\u001b[0m\u001b[1;33m\u001b[0m\u001b[0m\n\u001b[0m\u001b[0;32m      6\u001b[0m     \u001b[1;32mexcept\u001b[0m \u001b[0mSyntaxError\u001b[0m\u001b[1;33m,\u001b[0m \u001b[0mIOError\u001b[0m\u001b[1;33m:\u001b[0m\u001b[1;33m\u001b[0m\u001b[0m\n\u001b[0;32m      7\u001b[0m         \u001b[1;32mcontinue\u001b[0m\u001b[1;33m\u001b[0m\u001b[0m\n",
      "\u001b[1;32m<ipython-input-168-60fd14e844a4>\u001b[0m in \u001b[0;36mget_bf1\u001b[1;34m(artist)\u001b[0m\n\u001b[0;32m      1\u001b[0m \u001b[1;32mdef\u001b[0m \u001b[0mget_bf1\u001b[0m\u001b[1;33m(\u001b[0m\u001b[0martist\u001b[0m\u001b[1;33m)\u001b[0m\u001b[1;33m:\u001b[0m\u001b[1;33m\u001b[0m\u001b[0m\n\u001b[1;32m----> 2\u001b[1;33m     \u001b[1;32mwith\u001b[0m \u001b[0mopen\u001b[0m\u001b[1;33m(\u001b[0m\u001b[1;34m\"data/lyrics/%s.txt\"\u001b[0m \u001b[1;33m%\u001b[0m \u001b[0martist\u001b[0m\u001b[1;33m,\u001b[0m \u001b[1;34m\"r\"\u001b[0m\u001b[1;33m)\u001b[0m \u001b[1;32mas\u001b[0m \u001b[0mf\u001b[0m\u001b[1;33m:\u001b[0m\u001b[1;33m\u001b[0m\u001b[0m\n\u001b[0m\u001b[0;32m      3\u001b[0m         \u001b[0minfo\u001b[0m \u001b[1;33m=\u001b[0m \u001b[0meval\u001b[0m\u001b[1;33m(\u001b[0m\u001b[0mf\u001b[0m\u001b[1;33m.\u001b[0m\u001b[0mread\u001b[0m\u001b[1;33m(\u001b[0m\u001b[1;33m)\u001b[0m\u001b[1;33m)\u001b[0m\u001b[1;33m\u001b[0m\u001b[0m\n\u001b[0;32m      4\u001b[0m     \u001b[0mbig_string\u001b[0m \u001b[1;33m=\u001b[0m \u001b[1;34m\"\"\u001b[0m\u001b[1;33m\u001b[0m\u001b[0m\n\u001b[0;32m      5\u001b[0m     \u001b[1;32mfor\u001b[0m \u001b[0malbum\u001b[0m \u001b[1;32min\u001b[0m \u001b[0minfo\u001b[0m\u001b[1;33m:\u001b[0m\u001b[1;33m\u001b[0m\u001b[0m\n",
      "\u001b[1;31mIOError\u001b[0m: [Errno 2] No such file or directory: 'data/lyrics/Cashis.txt'"
     ]
    }
   ],
   "source": [
    "dict_senti = {}\n",
    "for rapper in x:\n",
    "    print rapper\n",
    "    try:\n",
    "        dict_senti[rapper] = sentimentAnalysis(get_bf1(rapper))\n",
    "    except SyntaxError, IOError:\n",
    "        continue\n",
    "    "
   ]
  },
  {
   "cell_type": "code",
   "execution_count": 295,
   "metadata": {},
   "outputs": [],
   "source": [
    "dict_senti\n",
    "\n",
    "removelist = []\n",
    "for key, value in dict_senti.iteritems():\n",
    "    if value == -4:\n",
    "        removelist.append(key)\n",
    "    \n",
    "for artist in removelist:\n",
    "    del dict_senti[artist]"
   ]
  },
  {
   "cell_type": "code",
   "execution_count": 297,
   "metadata": {},
   "outputs": [
    {
     "data": {
      "text/plain": [
       "120"
      ]
     },
     "execution_count": 297,
     "metadata": {},
     "output_type": "execute_result"
    }
   ],
   "source": [
    "len(dict_senti)"
   ]
  },
  {
   "cell_type": "code",
   "execution_count": 298,
   "metadata": {},
   "outputs": [],
   "source": [
    "f = open(\"data/senti.txt\",\"w\")\n",
    "f.write(str(dict_senti))\n",
    "f.close()"
   ]
  },
  {
   "cell_type": "code",
   "execution_count": null,
   "metadata": {},
   "outputs": [],
   "source": []
  },
  {
   "cell_type": "code",
   "execution_count": 288,
   "metadata": {},
   "outputs": [
    {
     "name": "stdout",
     "output_type": "stream",
     "text": [
      "Updating a599cb7..76e6fdc\n",
      "Fast-forward\n",
      " data/lyrics/Canibus.txt       |   1 +\n",
      " data/lyrics/Capital Steez.txt |   1 +\n",
      " data/lyrics/Capone.txt        |   1 +\n",
      " data/lyrics/Cappadonna.txt    |   1 +\n",
      " data/lyrics/Cardi B.txt       |   1 +\n",
      " data/lyrics/Casey Veggies.txt |   0\n",
      " get_lyrics.ipynb              | 385 +++++++++++++++++++++++++++++++++++++++++-\n",
      " 7 files changed, 389 insertions(+), 1 deletion(-)\n",
      " create mode 100644 data/lyrics/Capital Steez.txt\n",
      " create mode 100644 data/lyrics/Capone.txt\n",
      " create mode 100644 data/lyrics/Cappadonna.txt\n",
      " create mode 100644 data/lyrics/Cardi B.txt\n",
      " create mode 100644 data/lyrics/Casey Veggies.txt\n"
     ]
    },
    {
     "name": "stderr",
     "output_type": "stream",
     "text": [
      "From https://github.com/allengueco/rap_aggression\n",
      " * branch            master     -> FETCH_HEAD\n",
      "   a599cb7..76e6fdc  master     -> origin/master\n"
     ]
    }
   ],
   "source": [
    "!git pull origin master"
   ]
  },
  {
   "cell_type": "code",
   "execution_count": 284,
   "metadata": {},
   "outputs": [
    {
     "name": "stderr",
     "output_type": "stream",
     "text": [
      "warning: LF will be replaced by CRLF in lyrics_analysis.ipynb.\n",
      "The file will have its original line endings in your working directory.\n"
     ]
    }
   ],
   "source": [
    "!git add ."
   ]
  },
  {
   "cell_type": "code",
   "execution_count": 285,
   "metadata": {},
   "outputs": [
    {
     "name": "stdout",
     "output_type": "stream",
     "text": [
      "[master a599cb7] new methods to analyze big string and senti.txt file as dict\n",
      " 9 files changed, 437 insertions(+), 101 deletions(-)\n",
      " create mode 100644 data/lyrics/.ipynb_checkpoints/A$AP Rocky-checkpoint.txt\n",
      " create mode 100644 data/lyrics/.ipynb_checkpoints/Boosie Badazz-checkpoint.txt\n",
      " create mode 100644 data/lyrics/.ipynb_checkpoints/Bow Wow-checkpoint.txt\n",
      " create mode 100644 data/lyrics/.ipynb_checkpoints/Butch Cassidy-checkpoint.txt\n",
      " create mode 100644 data/lyrics/.ipynb_checkpoints/C-Bo-checkpoint.txt\n",
      " delete mode 100644 data/lyrics/.ipynb_checkpoints/drake-checkpoint.txt\n",
      " delete mode 100644 data/lyrics/drake.txt\n",
      " create mode 100644 data/senti.txt\n"
     ]
    }
   ],
   "source": [
    "!git commit -m \"new methods to analyze big string and senti.txt file as dict\""
   ]
  },
  {
   "cell_type": "code",
   "execution_count": 286,
   "metadata": {},
   "outputs": [
    {
     "name": "stderr",
     "output_type": "stream",
     "text": [
      "To https://github.com/allengueco/rap_aggression.git\n",
      "   4b0a272..a599cb7  master -> master\n"
     ]
    }
   ],
   "source": [
    "!git push"
   ]
  },
  {
   "cell_type": "code",
   "execution_count": null,
   "metadata": {},
   "outputs": [],
   "source": []
  }
 ],
 "metadata": {
  "kernelspec": {
   "display_name": "Python 2",
   "language": "python",
   "name": "python2"
  },
  "language_info": {
   "codemirror_mode": {
    "name": "ipython",
    "version": 2
   },
   "file_extension": ".py",
   "mimetype": "text/x-python",
   "name": "python",
   "nbconvert_exporter": "python",
   "pygments_lexer": "ipython2",
   "version": "2.7.15"
  }
 },
 "nbformat": 4,
 "nbformat_minor": 2
}
