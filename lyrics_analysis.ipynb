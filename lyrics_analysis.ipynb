{
 "cells": [
  {
   "cell_type": "code",
   "execution_count": 47,
   "metadata": {},
   "outputs": [],
   "source": [
    "#Imports\n",
    "import requests as rq\n",
    "import json\n",
    "import requests\n",
    "import urllib2\n",
    "from bs4 import BeautifulSoup\n",
    "import re\n",
    "import string\n",
    "from afinn import Afinn\n",
    "import os\n",
    "import matplotlib.pyplot as plt\n"
   ]
  },
  {
   "cell_type": "code",
   "execution_count": 48,
   "metadata": {},
   "outputs": [],
   "source": [
    "#rapgenius information\n",
    "rap_genius_id = \"_17NJOxR9_RGp1XTQ1Vl3O--bxYh-cSzcCwASKlr-Xlyj3vh2_BsdedBZLX6xgdt\"\n",
    "client_secret = \"2wlydcjFiqOlSI5Zi65OeizvaWRx16xkkjIBfPkqZ9t1aFNNYTrjza8ny6xYlXdJQSP_vMzj6e20O7ORtjIIcQ\"\n",
    "client_access_token = \"Uzv_tj6uOXE9_1eX2wCrOGi3j4JtmYcm1kVF-UmPcC5gJh1MQZKJLph4aFp9frFx\""
   ]
  },
  {
   "cell_type": "code",
   "execution_count": 49,
   "metadata": {},
   "outputs": [],
   "source": [
    "#pass the URL of rapgenius and get returned the song lyrics\n",
    "def getLyrics (URL):\n",
    "    page = requests.get(URL)\n",
    "    html = BeautifulSoup(page.text, \"html.parser\") # Extract the page's HTML as a string\n",
    "\n",
    "    # Scrape and return the song lyrics from the HTML\n",
    "    return html.find(\"div\", class_=\"lyrics\").get_text()"
   ]
  },
  {
   "cell_type": "markdown",
   "metadata": {},
   "source": [
    "***GETTING NEGATIVE WORDS***"
   ]
  },
  {
   "cell_type": "markdown",
   "metadata": {},
   "source": [
    "dictionary of words is score_word_dict"
   ]
  },
  {
   "cell_type": "code",
   "execution_count": 50,
   "metadata": {},
   "outputs": [],
   "source": [
    "#Get requests response \"Failed to establish a new connection: [Errno -2]\"\n",
    "url_web = \"https://raw.githubusercontent.com/hyharryhuang/AFINN-json/master/AFINN.json\"\n",
    "#We are going to hardcode the Afinn-111 json\n",
    "\n",
    "afinn_data = rq.get(url_web).json()"
   ]
  },
  {
   "cell_type": "code",
   "execution_count": 51,
   "metadata": {},
   "outputs": [],
   "source": [
    "score_word_dict = dict(afinn_data) #negative word dictionary"
   ]
  },
  {
   "cell_type": "code",
   "execution_count": 52,
   "metadata": {},
   "outputs": [],
   "source": [
    "#add firearms\n",
    "firearm_url = \"https://genius.com/Rap-genius-firearms-and-firearm-companies-mentioned-in-rap-lyrics\"\n",
    "scrape_words = getLyrics(firearm_url)\n",
    "firearm_list = scrape_words[130:].split(\"\\n\")\n",
    "\n",
    "#add firearms in dictionary with sentiment score of -4\n",
    "for firearm in firearm_list:\n",
    "    score_word_dict[firearm.lower()] = -4"
   ]
  },
  {
   "cell_type": "code",
   "execution_count": 53,
   "metadata": {},
   "outputs": [],
   "source": [
    "#add bulleted lists on rapgenius to a list that is returned and adds to score_word_dict\n",
    "#needs score_word_dict to word, and adds the sentiment of that word (number)\n",
    "def add_bulleted_lists(URL, number):\n",
    "    words_drug = getLyrics(URL)\n",
    "    first_list = words_drug.split(\"\\n\")\n",
    "    new_list = []\n",
    "\n",
    "    for x in first_list:\n",
    "        new_list.append(x.replace(u'\\u2022 ', ''))\n",
    "\n",
    "    #add drugs in dictionary with sentiment score of -1\n",
    "    for thing in new_list:\n",
    "        score_word_dict[thing.lower()] = number"
   ]
  },
  {
   "cell_type": "code",
   "execution_count": 54,
   "metadata": {},
   "outputs": [],
   "source": [
    "slang_drugs_url = \"https://genius.com/Rap-genius-slang-dictionary-drugs-lyrics\"\n",
    "slang_firearms_url = \"https://genius.com/Rap-genius-slang-dictionary-firearms-lyrics\"\n",
    "\n",
    "#adds words into sentiment dictionary\n",
    "add_bulleted_lists(slang_drugs_url, -2)\n",
    "add_bulleted_lists(slang_firearms_url, -4)"
   ]
  },
  {
   "cell_type": "markdown",
   "metadata": {},
   "source": [
    "***REQUEST RAPGENIUS API***"
   ]
  },
  {
   "cell_type": "raw",
   "metadata": {},
   "source": [
    "response = urllib2.urlopen(request, timeout=3)\n",
    "json_obj = json.load(response)\n",
    "json_obj.viewkeys()"
   ]
  },
  {
   "cell_type": "markdown",
   "metadata": {},
   "source": [
    "***GET RAPGENIUS LYRICS***"
   ]
  },
  {
   "cell_type": "markdown",
   "metadata": {},
   "source": [
    "use: get_song_lyrics(artist, song name)"
   ]
  },
  {
   "cell_type": "code",
   "execution_count": 270,
   "metadata": {},
   "outputs": [],
   "source": [
    "#input: artist and track title as string\n",
    "#output: lyrics of song track as string\n",
    "def song_lyrics(artist, track_title):\n",
    "    track_title = track_title.replace(\"&\", \"and\").partition(\"(\")[0].strip()\n",
    "    def _process(text):\n",
    "        # formats the url\n",
    "        puncs = set(string.punctuation) - set(\"-\")\n",
    "        text = [''.join([c for c in s if c not in puncs]).lower() \n",
    "                  for s in unidecode.unidecode(text).split()]\n",
    "        return text\n",
    "        \n",
    "    artist = \"-\".join(_process(artist)).capitalize()\n",
    "    track_title = \"-\".join(_process(track_title))\n",
    "    \n",
    "    URL = \"https://genius.com/{'-'.join([artist, track_title])}-lyrics\"\n",
    "    \n",
    "    # request page to get markup\n",
    "    page = rq.get(URL)\n",
    "    html = BeautifulSoup(page.text, \"html.parser\")\n",
    "    lyrics = html.find(\"div\", class_=\"lyrics\").get_text()\n",
    "\n",
    "    lyrics = \" \".join([line for line in lyrics.strip(\"\\n\").split(\"\\n\") if not line.startswith('[') and line != \"\"])\n",
    "    \n",
    "    return \" \".join(_process(lyrics))"
   ]
  },
  {
   "cell_type": "code",
   "execution_count": 145,
   "metadata": {},
   "outputs": [],
   "source": [
    "#**supports get_song_lyrics**\n",
    "#cleans up lyrics once it gets sent back from rapgenius\n",
    "#pass parameter as string lyrics\n",
    "#returns as string of lyrics separated by spaces\n",
    "def process_lyrics (lyrics):\n",
    "    #removes stuff in brackets\n",
    "    new_lyrics = re.sub(\"\\[(.+?)\\]\", '', lyrics)\n",
    "    \n",
    "    #removes special characters and newline\n",
    "    no_char = ''.join(e for e in new_lyrics if e.isalnum() or e == \" \" or e == \"\\n\")\n",
    "    no_char = \" \".join(no_char.split(\"\\n\"))\n",
    "    \n",
    "    #returns string in lowercase\n",
    "    return no_char.lower()"
   ]
  },
  {
   "cell_type": "markdown",
   "metadata": {},
   "source": [
    "***ANALYZE SENTIMENT SCORE FOR LYRICS***"
   ]
  },
  {
   "cell_type": "code",
   "execution_count": 153,
   "metadata": {},
   "outputs": [],
   "source": [
    "#input: artist as string and song name as string\n",
    "#output: integer sentiment score for song\n",
    "#necessary: needs get_song_lyrics and process_lyrics as auxillary methods\n",
    "def analyze_senti(artist, song):\n",
    "    lyrics_list = song_lyrics(artist, song).split(\" \")\n",
    "    \n",
    "    value = 0\n",
    "    senti = 0\n",
    "    for word in lyrics_list:\n",
    "        if word in score_word_dict:\n",
    "            value = value + int(score_word_dict[word])\n",
    "        else:\n",
    "            continue\n",
    "        senti = value / (1.0 * len(lyrics_list))\n",
    "    return senti"
   ]
  },
  {
   "cell_type": "code",
   "execution_count": 269,
   "metadata": {},
   "outputs": [],
   "source": [
    "#input: song as lyrics as string\n",
    "#output: sentiment score as int\n",
    "def sentimentAnalysis(song):\n",
    "    lyrics_list = song.split(\" \")\n",
    "    value = 0\n",
    "    senti = 0\n",
    "    for word in lyrics_list:\n",
    "        if word in score_word_dict:\n",
    "            value = value + int(score_word_dict[word])\n",
    "        else:\n",
    "            continue\n",
    "        senti = value / (1.0 * len(lyrics_list))\n",
    "    return senti"
   ]
  },
  {
   "cell_type": "code",
   "execution_count": 154,
   "metadata": {},
   "outputs": [],
   "source": [
    "#input: artist as string for artist name, list of songs in album as list\n",
    "#output: dict of album with senti scores\n",
    "def process_album(artist, album):\n",
    "    total = 0\n",
    "    album_dict = {}\n",
    "    for song in album:\n",
    "        album_dict[song] = analyze_senti(artist, song)\n",
    "    return album_dict"
   ]
  },
  {
   "cell_type": "code",
   "execution_count": 155,
   "metadata": {},
   "outputs": [],
   "source": [
    "#input: artist as string and discography where album is key and album songs are list as value\n",
    "#output: dict of artist discography where key is album and value is dictionary with songs as keys and senti scores as values \n",
    "def process_artist(artist, discography):\n",
    "    total = 0\n",
    "    artist_dict = {}\n",
    "    for key, value in discography.iteritems():\n",
    "        artist_dict[key] = process_album(artist, value)\n",
    "    return artist_dict"
   ]
  },
  {
   "cell_type": "code",
   "execution_count": 156,
   "metadata": {},
   "outputs": [],
   "source": [
    "#input: artist as string\n",
    "#output: discography as dictionary where album are keys and songs are list of values\n",
    "def get_disc(artist):\n",
    "    url = \"data/albums/%s.txt\" % artist.decode(\"utf-8\")\n",
    "    with open(url, 'r') as f:\n",
    "        x = eval(f.read())\n",
    "    discography = {}\n",
    "    for album in x: #x[0]\n",
    "        discography[album[\"name\"]] = [re.sub(\"\\([^)]*\\)\", \"\", track['track_title']) for track in album['tracks']]\n",
    "    return discography"
   ]
  },
  {
   "cell_type": "code",
   "execution_count": 157,
   "metadata": {},
   "outputs": [],
   "source": [
    "def get_rappers():\n",
    "    \n",
    "    def validate(name):\n",
    "        # checks if the name has a\n",
    "        illegal_chars = \"|?:^*\\\"\"\n",
    "\n",
    "        for c in illegal_chars:\n",
    "            if c == '|':\n",
    "                if name.find(c) > 0:\n",
    "                    name = name.split(\"|\")[1]\n",
    "            if c == \"\\\"\":\n",
    "                if name.find(c) > 0:\n",
    "                    name = name.replace(r'\"','',2)\n",
    "            else: \n",
    "                name = name.replace(c,'')\n",
    "        return name\n",
    "    \n",
    "    with open(\"data/rappers.txt\", \"r\") as f:\n",
    "        rappers = f.read()\n",
    "        \n",
    "    return [validate(rapper).strip() for rapper in rappers.split(\"\\n\")]\n",
    "rappers = get_rappers() "
   ]
  },
  {
   "cell_type": "code",
   "execution_count": 159,
   "metadata": {},
   "outputs": [],
   "source": [
    "def save_lyrics(artist, discography):\n",
    "    total = 0\n",
    "    artist_dict = {}\n",
    "    for key, value in discography.iteritems():\n",
    "        artist_dict[key] = process_album(artist, value)\n",
    "    return artist_dict"
   ]
  },
  {
   "cell_type": "code",
   "execution_count": 91,
   "metadata": {},
   "outputs": [],
   "source": [
    "def process_album(artist, album):\n",
    "    total = 0\n",
    "    album_dict = {}\n",
    "    for song in album:\n",
    "        album_dict[song] = get_song_lyrics(artist, song)\n",
    "    url = \"data/lyrics/%s.txt\" % artist\n",
    "    file = open(url, 'w')\n",
    "    file.write(str(album_dict))\n",
    "    file.close()"
   ]
  },
  {
   "cell_type": "code",
   "execution_count": null,
   "metadata": {},
   "outputs": [],
   "source": [
    "#input rapper name\n",
    "#output overall aggression score\n",
    "def ov_aggression(artist):\n",
    "    art_dict = process_artist(artist)\n",
    "    total = 0\n",
    "    for value in art_dict.iteritems():\n",
    "        sum_of_all_album = sum(value.values())\n",
    "        total = total + (sum_of_all_album / (1.0 * len(value)))\n",
    "    return total / (1.0 * len(art_dict))"
   ]
  },
  {
   "cell_type": "code",
   "execution_count": 168,
   "metadata": {},
   "outputs": [],
   "source": [
    "def get_bf1(artist):\n",
    "    with open(\"data/lyrics/%s.txt\" % artist, \"r\") as f:\n",
    "        info = eval(f.read())\n",
    "    big_string = \"\"\n",
    "    for album in info:\n",
    "        for track in album[\"tracks\"]:\n",
    "            big_string += track[\"lyrics\"]\n",
    "    return big_string"
   ]
  },
  {
   "cell_type": "code",
   "execution_count": 258,
   "metadata": {},
   "outputs": [
    {
     "data": {
      "text/plain": [
       "''"
      ]
     },
     "execution_count": 258,
     "metadata": {},
     "output_type": "execute_result"
    }
   ],
   "source": [
    "get_bf1(\"A$AP Rocky\")"
   ]
  },
  {
   "cell_type": "code",
   "execution_count": 274,
   "metadata": {},
   "outputs": [
    {
     "name": "stdout",
     "output_type": "stream",
     "text": [
      "100 Kila\n",
      "100s\n",
      "12 Gauge\n",
      "2 Chainz\n",
      "2 Pistols\n",
      "2$ Fabo\n",
      "21 Savage\n",
      "2Mex\n",
      "360\n",
      "40 Glocc\n",
      "50 Cent\n",
      "6ix9ine\n",
      "6lack\n",
      "The 6th Letter\n",
      "9th Wonder\n",
      "Ab-Soul\n",
      "A Boogie wit da Hoodie\n",
      "Abstract Rude\n",
      "Ace Hood\n",
      "Aceyalone\n",
      "Action Bronson\n",
      "Adam Saleh\n",
      "Aesop Rock\n",
      "Afrika Bambaataa\n",
      "Afroman\n",
      "Afu-Ra\n",
      "Agallah\n",
      "Ahmad Lewis\n",
      "Ajs Nigrutin\n",
      "AKA\n",
      "Akala\n",
      "Akinyele\n",
      "Akir\n",
      "Akon\n",
      "The Alchemist\n",
      "Alex Wiley\n",
      "Ali Vegas\n",
      "AMG\n",
      "Amil\n",
      "Ampichino\n",
      "Anderson .Paak\n",
      "Andre Nickatina\n",
      "Andy Mineo\n",
      "Angel Haze\n",
      "Angie Martinez\n",
      "Ant Banks\n",
      "Antoinette\n",
      "Apache\n",
      "A$AP Ferg\n",
      "A$AP Nast\n",
      "A$AP Rocky\n",
      "A$AP Yams\n",
      "A$ton Matthews\n",
      "Asher Roth\n",
      "Astronautalis\n",
      "Awol One\n",
      "Awkwafina\n",
      "AZ\n",
      "Azealia Banks\n",
      "B-Legit\n",
      "B-Real\n",
      "B.G.\n",
      "B.G. Knocc Out\n",
      "B.o.B\n",
      "Baby Bash\n",
      "Baby Boy da Prince\n",
      "Baby D\n",
      "Bad Azz\n",
      "Badshah\n",
      "Baeza\n",
      "Bahamadia\n",
      "Baka Not Nice\n",
      "Bangladesh\n",
      "Bas\n",
      "Battlecat\n",
      "Beanie Sigel\n",
      "Becky G\n",
      "Benny Blanco\n",
      "Beenzino\n",
      "Benzino\n",
      "BewhY\n",
      "Bhad Bhabie\n",
      "Big Boi\n",
      "Big Daddy Kane\n",
      "Big Ed\n",
      "Big Gipp\n",
      "Big Hawk\n",
      "Big K.R.I.T.\n",
      "Big Kuntry King\n",
      "Big L\n",
      "Big Lurch\n",
      "Big Mello\n",
      "Big Mike\n",
      "Big Moe\n",
      "Big Noyd\n",
      "Big Pokey\n",
      "Big Pooh\n",
      "Big Pun\n",
      "Big Reese\n",
      "Big Scoob\n",
      "Big Smo\n",
      "Big Sean\n",
      "Big Shaq\n",
      "Big Shug\n",
      "Big Syke\n",
      "Bigg D\n",
      "Billy Woods\n",
      "Birdman\n",
      "Bishop Nehru\n",
      "Biz Markie\n",
      "Bizarre\n",
      "Bugz\n",
      "Bizzy\n",
      "Bizzy Bone\n",
      "BJ the Chicago Kid\n",
      "Black Milk\n",
      "Black Rob\n",
      "Black Thought\n",
      "Blade Icewood\n",
      "Blaq Poet\n",
      "Blaze Ya Dead Homie\n",
      "BlocBoy JB\n",
      "Blood Raw\n",
      "Blu\n",
      "Bobby Brackins\n",
      "Bobby Creekwater\n",
      "Bobby Shmurda\n",
      "Bohemia\n",
      "Boi-1da\n",
      "Boldy James\n",
      "Bone Crusher\n",
      "Bones\n",
      "Booba\n",
      "Boondox\n",
      "Boosie Badazz\n",
      "Bow Wow\n",
      "Braille\n",
      "Brandun DeShay\n",
      "Brianna Perry\n",
      "Brisco\n",
      "Bubba Sparxxx\n",
      "Buckshot\n",
      "Buckwild\n",
      "Bumpy Knuckles\n",
      "Bun B\n",
      "Busdriver\n",
      "Bushwick Bill\n",
      "Busta Rhymes\n",
      "Butch Cassidy\n",
      "C-Murder\n",
      "C-Note\n",
      "C-Rayz Walz\n",
      "Cage\n",
      "Cam'ron\n",
      "Capital Steez\n"
     ]
    },
    {
     "ename": "IOError",
     "evalue": "[Errno 2] No such file or directory: 'data/lyrics/Capital Steez.txt'",
     "output_type": "error",
     "traceback": [
      "\u001b[1;31m---------------------------------------------------------------------------\u001b[0m",
      "\u001b[1;31mIOError\u001b[0m                                   Traceback (most recent call last)",
      "\u001b[1;32m<ipython-input-274-4029f0008997>\u001b[0m in \u001b[0;36m<module>\u001b[1;34m()\u001b[0m\n\u001b[0;32m      3\u001b[0m     \u001b[1;32mprint\u001b[0m \u001b[0mrapper\u001b[0m\u001b[1;33m\u001b[0m\u001b[0m\n\u001b[0;32m      4\u001b[0m     \u001b[1;32mtry\u001b[0m\u001b[1;33m:\u001b[0m\u001b[1;33m\u001b[0m\u001b[0m\n\u001b[1;32m----> 5\u001b[1;33m         \u001b[0mdict_senti\u001b[0m\u001b[1;33m[\u001b[0m\u001b[0mrapper\u001b[0m\u001b[1;33m]\u001b[0m \u001b[1;33m=\u001b[0m \u001b[0msentimentAnalysis\u001b[0m\u001b[1;33m(\u001b[0m\u001b[0mget_bf1\u001b[0m\u001b[1;33m(\u001b[0m\u001b[0mrapper\u001b[0m\u001b[1;33m)\u001b[0m\u001b[1;33m)\u001b[0m\u001b[1;33m\u001b[0m\u001b[0m\n\u001b[0m\u001b[0;32m      6\u001b[0m     \u001b[1;32mexcept\u001b[0m \u001b[0mSyntaxError\u001b[0m\u001b[1;33m,\u001b[0m \u001b[0mIOError\u001b[0m\u001b[1;33m:\u001b[0m\u001b[1;33m\u001b[0m\u001b[0m\n\u001b[0;32m      7\u001b[0m         \u001b[1;32mcontinue\u001b[0m\u001b[1;33m\u001b[0m\u001b[0m\n",
      "\u001b[1;32m<ipython-input-168-60fd14e844a4>\u001b[0m in \u001b[0;36mget_bf1\u001b[1;34m(artist)\u001b[0m\n\u001b[0;32m      1\u001b[0m \u001b[1;32mdef\u001b[0m \u001b[0mget_bf1\u001b[0m\u001b[1;33m(\u001b[0m\u001b[0martist\u001b[0m\u001b[1;33m)\u001b[0m\u001b[1;33m:\u001b[0m\u001b[1;33m\u001b[0m\u001b[0m\n\u001b[1;32m----> 2\u001b[1;33m     \u001b[1;32mwith\u001b[0m \u001b[0mopen\u001b[0m\u001b[1;33m(\u001b[0m\u001b[1;34m\"data/lyrics/%s.txt\"\u001b[0m \u001b[1;33m%\u001b[0m \u001b[0martist\u001b[0m\u001b[1;33m,\u001b[0m \u001b[1;34m\"r\"\u001b[0m\u001b[1;33m)\u001b[0m \u001b[1;32mas\u001b[0m \u001b[0mf\u001b[0m\u001b[1;33m:\u001b[0m\u001b[1;33m\u001b[0m\u001b[0m\n\u001b[0m\u001b[0;32m      3\u001b[0m         \u001b[0minfo\u001b[0m \u001b[1;33m=\u001b[0m \u001b[0meval\u001b[0m\u001b[1;33m(\u001b[0m\u001b[0mf\u001b[0m\u001b[1;33m.\u001b[0m\u001b[0mread\u001b[0m\u001b[1;33m(\u001b[0m\u001b[1;33m)\u001b[0m\u001b[1;33m)\u001b[0m\u001b[1;33m\u001b[0m\u001b[0m\n\u001b[0;32m      4\u001b[0m     \u001b[0mbig_string\u001b[0m \u001b[1;33m=\u001b[0m \u001b[1;34m\"\"\u001b[0m\u001b[1;33m\u001b[0m\u001b[0m\n\u001b[0;32m      5\u001b[0m     \u001b[1;32mfor\u001b[0m \u001b[0malbum\u001b[0m \u001b[1;32min\u001b[0m \u001b[0minfo\u001b[0m\u001b[1;33m:\u001b[0m\u001b[1;33m\u001b[0m\u001b[0m\n",
      "\u001b[1;31mIOError\u001b[0m: [Errno 2] No such file or directory: 'data/lyrics/Capital Steez.txt'"
     ]
    }
   ],
   "source": [
    "dict_senti = {}\n",
    "for rapper in x:\n",
    "    print rapper\n",
    "    try:\n",
    "        dict_senti[rapper] = sentimentAnalysis(get_bf1(rapper))\n",
    "    except SyntaxError, IOError:\n",
    "        continue\n",
    "    "
   ]
  },
  {
   "cell_type": "code",
   "execution_count": 275,
   "metadata": {},
   "outputs": [],
   "source": [
    "dict_senti\n",
    "\n",
    "removelist = []\n",
    "for key, value in dict_senti.iteritems():\n",
    "    if value == -4:\n",
    "        removelist.append(key)\n",
    "    \n",
    "for artist in removelist:\n",
    "    del dict_senti[artist]"
   ]
  },
  {
   "cell_type": "code",
   "execution_count": 276,
   "metadata": {},
   "outputs": [
    {
     "data": {
      "text/plain": [
       "{'100s': -0.17381174277726003,\n",
       " '2 Chainz': -0.10893686668110815,\n",
       " '2 Pistols': -0.07260273972602739,\n",
       " '21 Savage': -0.2232913325696831,\n",
       " '2Mex': -0.043753038405444825,\n",
       " '360': -0.05452508960573477,\n",
       " '40 Glocc': -0.14937106918238993,\n",
       " '50 Cent': -0.1253879803241791,\n",
       " '6ix9ine': -0.20674546566130017,\n",
       " '6lack': -0.056844201095072176,\n",
       " '9th Wonder': -0.04946000939114102,\n",
       " 'A Boogie wit da Hoodie': -0.10731814923068439,\n",
       " 'AKA': -0.04922091160623271,\n",
       " 'AMG': -0.14275009366804045,\n",
       " 'AZ': -0.07193009829926665,\n",
       " 'Ab-Soul': -0.08763621687071169,\n",
       " 'Abstract Rude': -0.046677649643053265,\n",
       " 'Ace Hood': -0.11237487992649413,\n",
       " 'Aceyalone': -0.015488482922954726,\n",
       " 'Action Bronson': -0.09535038394098796,\n",
       " 'Aesop Rock': -0.0489733355591641,\n",
       " 'Afrika Bambaataa': -0.033773087071240104,\n",
       " 'Afroman': -0.058509871739443726,\n",
       " 'Afu-Ra': -0.032179374059272334,\n",
       " 'Ajs Nigrutin': -0.0136986301369863,\n",
       " 'Akala': -0.04403227798591955,\n",
       " 'Akinyele': -0.13680852606394547,\n",
       " 'Akir': -0.07570174850941247,\n",
       " 'Akon': -0.047927186961386106,\n",
       " 'Alex Wiley': -0.13376600999368216,\n",
       " 'Ali Vegas': -0.11858842839556832,\n",
       " 'Amil': -0.10378188214599825,\n",
       " 'Anderson .Paak': -0.052899340704978454,\n",
       " 'Andre Nickatina': -0.059728475524797625,\n",
       " 'Andy Mineo': 0.016378148647247848,\n",
       " 'Angel Haze': -0.08883142298015097,\n",
       " 'Ant Banks': -0.19358829541175837,\n",
       " 'Apache': -0.020434557682359026,\n",
       " 'Asher Roth': -0.044138848841077966,\n",
       " 'Astronautalis': -0.063941833995855,\n",
       " 'Awkwafina': -0.14410299003322258,\n",
       " 'Awol One': -0.05132743362831858,\n",
       " 'Azealia Banks': -0.1346327082139055,\n",
       " 'B-Legit': -0.11058451816745656,\n",
       " 'B-Real': -0.07615209754081421,\n",
       " 'B.G.': -0.08649272019605017,\n",
       " 'B.G. Knocc Out': -0.18113934722389496,\n",
       " 'B.o.B': -0.091694637692942,\n",
       " 'BJ the Chicago Kid': 0.08504098360655737,\n",
       " 'Baby Bash': 0.0038364413364413365,\n",
       " 'Baby Boy da Prince': -0.009784735812133072,\n",
       " 'Bad Azz': -0.12392932015573525,\n",
       " 'Badshah': 0.037157757496740544,\n",
       " 'Baeza': -0.10392256749872644,\n",
       " 'Bahamadia': 0.023086789226165028,\n",
       " 'Bas': -0.06735818476499189,\n",
       " 'Beanie Sigel': -0.11875589066918002,\n",
       " 'Beenzino': -0.11615871190339276,\n",
       " 'BewhY': -0.01110574601641719,\n",
       " 'Bhad Bhabie': -0.29308106102763865,\n",
       " 'Big Boi': -0.0547002502448047,\n",
       " 'Big Daddy Kane': 0.0005262011903033822,\n",
       " 'Big Gipp': -0.02089735709895513,\n",
       " 'Big K.R.I.T.': -0.0661066137162059,\n",
       " 'Big Kuntry King': -0.07834757834757834,\n",
       " 'Big L': -0.11982975008185093,\n",
       " 'Big Lurch': -0.14046328240512568,\n",
       " 'Big Mello': -0.18834701750915026,\n",
       " 'Big Mike': -0.1340333539221742,\n",
       " 'Big Moe': -0.07131537242472266,\n",
       " 'Big Noyd': -0.0629800307219662,\n",
       " 'Big Pokey': -0.09545573827851644,\n",
       " 'Big Pun': -0.11841888100346591,\n",
       " 'Big Scoob': -0.123990860624524,\n",
       " 'Big Sean': -0.08151559626836716,\n",
       " 'Big Shug': -0.06817441178387539,\n",
       " 'Big Smo': -0.0187395713002182,\n",
       " 'Big Syke': -0.04609929078014184,\n",
       " 'Billy Woods': -0.05823539014038524,\n",
       " 'Birdman': -0.10033485914411232,\n",
       " 'Bishop Nehru': -0.043271824754505236,\n",
       " 'Biz Markie': 0.05053147996729354,\n",
       " 'Bizarre': -0.14496064991114496,\n",
       " 'Bizzy Bone': -0.043904228008592235,\n",
       " 'Black Milk': -0.09039876113046845,\n",
       " 'Black Rob': -0.13796310649511703,\n",
       " 'Black Thought': -0.03295544423938835,\n",
       " 'Blaq Poet': -0.24013921113689096,\n",
       " 'Blaze Ya Dead Homie': -0.15054280334895645,\n",
       " 'BlocBoy JB': -0.1847249438417053,\n",
       " 'Blood Raw': -0.043535045711798,\n",
       " 'Blu': -0.0727363711291652,\n",
       " 'Bobby Brackins': -0.04332460732984293,\n",
       " 'Bobby Creekwater': -0.15804597701149425,\n",
       " 'Bohemia': -0.0010359116022099447,\n",
       " 'Boldy James': -0.12145156570090723,\n",
       " 'Bone Crusher': -0.21348314606741572,\n",
       " 'Bones': -0.09034665066836649,\n",
       " 'Booba': -0.07557481103005083,\n",
       " 'Boondox': -0.1403612092658029,\n",
       " 'Boosie Badazz': -0.12411711589129547,\n",
       " 'Bow Wow': 0.011450381679389313,\n",
       " 'Braille': -0.03509535204118628,\n",
       " 'Brandun DeShay': 0.00610079575596817,\n",
       " 'Brisco': 0.012448132780082987,\n",
       " 'Bubba Sparxxx': -0.04864446665162309,\n",
       " 'Buckshot': -0.1202476329206118,\n",
       " 'Bun B': -0.09899939766076614,\n",
       " 'Busdriver': -0.05848733984493945,\n",
       " 'Bushwick Bill': -0.18446492805755396,\n",
       " 'Busta Rhymes': -0.10232857675490628,\n",
       " 'C-Murder': -0.13671609047583025,\n",
       " 'C-Note': -0.08156879866113657,\n",
       " 'C-Rayz Walz': -0.0745628505443748,\n",
       " 'Cage': -0.10545935545935546,\n",
       " 'The 6th Letter': -0.02460456942003515,\n",
       " 'The Alchemist': -0.09023593466424683}"
      ]
     },
     "execution_count": 276,
     "metadata": {},
     "output_type": "execute_result"
    }
   ],
   "source": [
    "dict_senti"
   ]
  },
  {
   "cell_type": "code",
   "execution_count": 273,
   "metadata": {},
   "outputs": [],
   "source": [
    "x.remove(\"Canibus\")"
   ]
  },
  {
   "cell_type": "code",
   "execution_count": 278,
   "metadata": {},
   "outputs": [],
   "source": [
    "with open(\"data/senti.txt\", \"w\") as f:\n",
    "    f.write(str(senti_dict))"
   ]
  },
  {
   "cell_type": "code",
   "execution_count": null,
   "metadata": {},
   "outputs": [],
   "source": []
  },
  {
   "cell_type": "code",
   "execution_count": 271,
   "metadata": {},
   "outputs": [
    {
     "name": "stdout",
     "output_type": "stream",
     "text": [
      "Updating 760a3ed..4b0a272\n",
      "Fast-forward\n",
      " data/lyrics/C-Bo.txt        |   1 +\n",
      " data/lyrics/C-Murder.txt    |   1 +\n",
      " data/lyrics/C-Note.txt      |   1 +\n",
      " data/lyrics/C-Rayz Walz.txt |   1 +\n",
      " data/lyrics/Cage.txt        |   1 +\n",
      " data/lyrics/Cam'ron.txt     |   1 +\n",
      " data/lyrics/Canibus.txt     |   0\n",
      " get_lyrics.ipynb            | 380 +++++++++++++++++++++++++++++++++++++++++++-\n",
      " 8 files changed, 385 insertions(+), 1 deletion(-)\n",
      " create mode 100644 data/lyrics/C-Murder.txt\n",
      " create mode 100644 data/lyrics/C-Note.txt\n",
      " create mode 100644 data/lyrics/C-Rayz Walz.txt\n",
      " create mode 100644 data/lyrics/Cage.txt\n",
      " create mode 100644 data/lyrics/Cam'ron.txt\n",
      " create mode 100644 data/lyrics/Canibus.txt\n"
     ]
    },
    {
     "name": "stderr",
     "output_type": "stream",
     "text": [
      "From https://github.com/allengueco/rap_aggression\n",
      " * branch            master     -> FETCH_HEAD\n",
      "   760a3ed..4b0a272  master     -> origin/master\n"
     ]
    }
   ],
   "source": [
    "!git pull origin master"
   ]
  },
  {
   "cell_type": "code",
   "execution_count": null,
   "metadata": {},
   "outputs": [],
   "source": []
  }
 ],
 "metadata": {
  "kernelspec": {
   "display_name": "Python 2",
   "language": "python",
   "name": "python2"
  },
  "language_info": {
   "codemirror_mode": {
    "name": "ipython",
    "version": 2
   },
   "file_extension": ".py",
   "mimetype": "text/x-python",
   "name": "python",
   "nbconvert_exporter": "python",
   "pygments_lexer": "ipython2",
   "version": "2.7.15"
  }
 },
 "nbformat": 4,
 "nbformat_minor": 2
}
