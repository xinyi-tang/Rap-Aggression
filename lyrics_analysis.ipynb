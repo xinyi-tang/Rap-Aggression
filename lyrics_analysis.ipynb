{
 "cells": [
  {
   "cell_type": "code",
   "execution_count": 2,
   "metadata": {},
   "outputs": [],
   "source": [
    "#Imports\n",
    "import requests as rq\n",
    "import json\n",
    "import requests\n",
    "import urllib2\n",
    "from bs4 import BeautifulSoup\n",
    "import re\n",
    "import string\n",
    "from afinn import Afinn\n",
    "import os\n",
    "import matplotlib.pyplot as plt\n"
   ]
  },
  {
   "cell_type": "code",
   "execution_count": 3,
   "metadata": {},
   "outputs": [],
   "source": [
    "#rapgenius information\n",
    "rap_genius_id = \"_17NJOxR9_RGp1XTQ1Vl3O--bxYh-cSzcCwASKlr-Xlyj3vh2_BsdedBZLX6xgdt\"\n",
    "client_secret = \"2wlydcjFiqOlSI5Zi65OeizvaWRx16xkkjIBfPkqZ9t1aFNNYTrjza8ny6xYlXdJQSP_vMzj6e20O7ORtjIIcQ\"\n",
    "client_access_token = \"Uzv_tj6uOXE9_1eX2wCrOGi3j4JtmYcm1kVF-UmPcC5gJh1MQZKJLph4aFp9frFx\""
   ]
  },
  {
   "cell_type": "code",
   "execution_count": 4,
   "metadata": {},
   "outputs": [],
   "source": [
    "#pass the URL of rapgenius and get returned the song lyrics\n",
    "def getLyrics (URL):\n",
    "    page = requests.get(URL)\n",
    "    html = BeautifulSoup(page.text, \"html.parser\") # Extract the page's HTML as a string\n",
    "\n",
    "    # Scrape and return the song lyrics from the HTML\n",
    "    return html.find(\"div\", class_=\"lyrics\").get_text()"
   ]
  },
  {
   "cell_type": "markdown",
   "metadata": {},
   "source": [
    "***GETTING NEGATIVE WORDS***"
   ]
  },
  {
   "cell_type": "markdown",
   "metadata": {},
   "source": [
    "dictionary of words is score_word_dict"
   ]
  },
  {
   "cell_type": "code",
   "execution_count": 5,
   "metadata": {},
   "outputs": [],
   "source": [
    "#Get requests response \"Failed to establish a new connection: [Errno -2]\"\n",
    "url_web = \"https://raw.githubusercontent.com/hyharryhuang/AFINN-json/master/AFINN.json\"\n",
    "#We are going to hardcode the Afinn-111 json\n",
    "\n",
    "afinn_data = rq.get(url_web).json()"
   ]
  },
  {
   "cell_type": "code",
   "execution_count": 6,
   "metadata": {},
   "outputs": [],
   "source": [
    "score_word_dict = dict(afinn_data) #negative word dictionary"
   ]
  },
  {
   "cell_type": "code",
   "execution_count": 7,
   "metadata": {},
   "outputs": [],
   "source": [
    "#add firearms\n",
    "firearm_url = \"https://genius.com/Rap-genius-firearms-and-firearm-companies-mentioned-in-rap-lyrics\"\n",
    "scrape_words = getLyrics(firearm_url)\n",
    "firearm_list = scrape_words[130:].split(\"\\n\")\n",
    "\n",
    "#add firearms in dictionary with sentiment score of -4\n",
    "for firearm in firearm_list:\n",
    "    score_word_dict[firearm.lower()] = -4"
   ]
  },
  {
   "cell_type": "code",
   "execution_count": 8,
   "metadata": {},
   "outputs": [],
   "source": [
    "#add bulleted lists on rapgenius to a list that is returned and adds to score_word_dict\n",
    "#needs score_word_dict to word, and adds the sentiment of that word (number)\n",
    "def add_bulleted_lists(URL, number):\n",
    "    words_drug = getLyrics(URL)\n",
    "    first_list = words_drug.split(\"\\n\")\n",
    "    new_list = []\n",
    "\n",
    "    for x in first_list:\n",
    "        new_list.append(x.replace(u'\\u2022 ', ''))\n",
    "\n",
    "    #add drugs in dictionary with sentiment score of -1\n",
    "    for thing in new_list:\n",
    "        score_word_dict[thing.lower()] = number"
   ]
  },
  {
   "cell_type": "code",
   "execution_count": 9,
   "metadata": {},
   "outputs": [],
   "source": [
    "slang_drugs_url = \"https://genius.com/Rap-genius-slang-dictionary-drugs-lyrics\"\n",
    "slang_firearms_url = \"https://genius.com/Rap-genius-slang-dictionary-firearms-lyrics\"\n",
    "\n",
    "#adds words into sentiment dictionary\n",
    "add_bulleted_lists(slang_drugs_url, -2)\n",
    "add_bulleted_lists(slang_firearms_url, -4)"
   ]
  },
  {
   "cell_type": "markdown",
   "metadata": {},
   "source": [
    "***REQUEST RAPGENIUS API***"
   ]
  },
  {
   "cell_type": "raw",
   "metadata": {},
   "source": [
    "response = urllib2.urlopen(request, timeout=3)\n",
    "json_obj = json.load(response)\n",
    "json_obj.viewkeys()"
   ]
  },
  {
   "cell_type": "markdown",
   "metadata": {},
   "source": [
    "***GET RAPGENIUS LYRICS***"
   ]
  },
  {
   "cell_type": "markdown",
   "metadata": {},
   "source": [
    "use: get_song_lyrics(artist, song name)"
   ]
  },
  {
   "cell_type": "code",
   "execution_count": 10,
   "metadata": {},
   "outputs": [],
   "source": [
    "#pass name of artist and song name as lowercase string and returns string of lyrics\n",
    "def get_song_lyrics(artist, song_name):\n",
    "    #set lyrics to lowercase\n",
    "    artist_lower = artist.lower()\n",
    "    song_lower = song_name.lower()\n",
    "    \n",
    "    if '|' in artist:\n",
    "        artist_name = artist_lower.split(\"|\")\n",
    "        artist_lower = artist_name[1]\n",
    "    if '$' in artist:\n",
    "        artist_lower = re.sub(r'[$]', \"-\", artist_lower)\n",
    "        print artist_lower\n",
    "    if '.' in artist:\n",
    "        artist_name = artist_lower.split(\".\")\n",
    "        for x in artist_name:\n",
    "            artist_lower = artist_lower + x\n",
    "    if '!' in artist:\n",
    "        artist_lower = re.sub(r'[!]', \"\", artist_lower)\n",
    "    \n",
    "    \n",
    "    #remove special characters\n",
    "    artist_lower = ''.join(e for e in artist_lower if e.isalnum() or e == \" \")\n",
    "    song_lower = ''.join(e for e in song_lower if e.isalnum() or e == \" \")\n",
    "    \n",
    "    #capitalize artist name\n",
    "    artist_capital = artist_lower.capitalize()\n",
    "   \n",
    "    #put dashes between names\n",
    "    new_artist = \"-\".join(artist_capital.split())\n",
    "    new_song_name = \"-\".join(song_lower.split())\n",
    "    artist_and_song = \"-\".join([new_artist, new_song_name])\n",
    "    \n",
    "    #final url\n",
    "    song_url = \"https://genius.com/\" + artist_and_song + \"-lyrics\"\n",
    "    \n",
    "    #gets lyrics and processes them\n",
    "    lyrics = process_lyrics(getLyrics(song_url))\n",
    "    \n",
    "    #returns lyrics\n",
    "    return lyrics\n",
    "    "
   ]
  },
  {
   "cell_type": "code",
   "execution_count": 11,
   "metadata": {},
   "outputs": [],
   "source": [
    "#**supports get_song_lyrics**\n",
    "#cleans up lyrics once it gets sent back from rapgenius\n",
    "#pass parameter as string lyrics\n",
    "#returns as string of lyrics separated by spaces\n",
    "def process_lyrics (lyrics):\n",
    "    #removes stuff in brackets\n",
    "    new_lyrics = re.sub(\"\\[(.+?)\\]\", '', lyrics)\n",
    "    \n",
    "    #removes special characters and newline\n",
    "    no_char = ''.join(e for e in new_lyrics if e.isalnum() or e == \" \" or e == \"\\n\")\n",
    "    no_char = \" \".join(no_char.split(\"\\n\"))\n",
    "    \n",
    "    #returns string in lowercase\n",
    "    return no_char.lower()"
   ]
  },
  {
   "cell_type": "markdown",
   "metadata": {},
   "source": [
    "***ANALYZE SENTIMENT SCORE FOR LYRICS***"
   ]
  },
  {
   "cell_type": "code",
   "execution_count": 12,
   "metadata": {},
   "outputs": [],
   "source": [
    "#input: artist as string and song name as string\n",
    "#output: integer sentiment score for song\n",
    "#necessary: needs get_song_lyrics and process_lyrics as auxillary methods\n",
    "def analyze_senti(artist, song):\n",
    "    lyrics_list = get_song_lyrics(artist, song).split(\" \")\n",
    "    \n",
    "    value = 0\n",
    "    numWords = 0 #words analyzed\n",
    "    senti = 0\n",
    "    for word in lyrics_list:\n",
    "        if word in score_word_dict:\n",
    "            value = value + int(score_word_dict[word])\n",
    "            numWords = numWords + 1\n",
    "        else:\n",
    "            break\n",
    "        senti = value / (1.0 * len(lyrics_list))\n",
    "    return senti"
   ]
  },
  {
   "cell_type": "code",
   "execution_count": 13,
   "metadata": {},
   "outputs": [
    {
     "name": "stdout",
     "output_type": "stream",
     "text": [
      "-0.0662983425414\n",
      "-0.0466926070039\n",
      "-0.0882352941176\n"
     ]
    }
   ],
   "source": [
    "print analyze_senti(\"xxxtentacion\", \"Fuck Love\")\n",
    "print analyze_senti(\"xxxtentacion\", \"jocelyn flores\")\n",
    "print analyze_senti(\"xxxtentacion\", \"run up on me\")"
   ]
  },
  {
   "cell_type": "code",
   "execution_count": 14,
   "metadata": {},
   "outputs": [
    {
     "name": "stdout",
     "output_type": "stream",
     "text": [
      "-0.0380952380952\n",
      "-0.0157232704403\n"
     ]
    }
   ],
   "source": [
    "print analyze_senti(\"maxo kreaM\", \"hit mane\")\n",
    "print analyze_senti(\"03 greedo\", \"beat that thang down\")"
   ]
  },
  {
   "cell_type": "code",
   "execution_count": 15,
   "metadata": {},
   "outputs": [],
   "source": [
    "#input: artist as string for artist name, list of songs in album as list\n",
    "#output: dict of album with senti scores\n",
    "def process_album(artist, album):\n",
    "    total = 0\n",
    "    album_dict = {}\n",
    "    for song in album:\n",
    "        album_dict[song] = analyze_senti(artist, song)\n",
    "    return album_dict"
   ]
  },
  {
   "cell_type": "code",
   "execution_count": 20,
   "metadata": {},
   "outputs": [],
   "source": [
    "#input: artist as string and discography where album is key and album songs are list as value\n",
    "#output: dict of artist discography where key is album and value is dictionary with songs as keys and senti scores as values \n",
    "def process_artist(artist, discography):\n",
    "    total = 0\n",
    "    artist_dict = {}\n",
    "    for key, value in discography.iteritems():\n",
    "        artist_dict[key] = process_album(artist, value)\n",
    "    return artist_dict"
   ]
  },
  {
   "cell_type": "code",
   "execution_count": 21,
   "metadata": {},
   "outputs": [],
   "source": [
    "#input: artist as string\n",
    "#output: discography as dictionary where album are keys and songs are list of values\n",
    "def get_disc(artist):\n",
    "    url = \"data/albums/%s.txt\" % artist.decode(\"utf-8\")\n",
    "    with open(url, 'r') as f:\n",
    "        x = eval(f.read())\n",
    "    discography = {}\n",
    "    for album in x: #x[0]\n",
    "        discography[album[\"name\"]] = [re.sub(\"\\([^)]*\\)\", \"\", track['track_title']) for track in album['tracks']]\n",
    "    return discography"
   ]
  },
  {
   "cell_type": "code",
   "execution_count": 22,
   "metadata": {},
   "outputs": [],
   "source": [
    "def get_rappers():\n",
    "    \n",
    "    def validate(name):\n",
    "        # checks if the name has a\n",
    "        illegal_chars = \"|?:^*\\\"\"\n",
    "\n",
    "        for c in illegal_chars:\n",
    "            if c == '|':\n",
    "                if name.find(c) > 0:\n",
    "                    name = name.split(\"|\")[1]\n",
    "            if c == \"\\\"\":\n",
    "                if name.find(c) > 0:\n",
    "                    name = name.replace(r'\"','',2)\n",
    "            else: \n",
    "                name = name.replace(c,'')\n",
    "        return name\n",
    "    \n",
    "    with open(\"data/rappers.txt\", \"r\") as f:\n",
    "        rappers = f.read()\n",
    "        \n",
    "    return [validate(rapper).strip() for rapper in rappers.split(\"\\n\")]\n",
    "rappers = get_rappers() "
   ]
  },
  {
   "cell_type": "code",
   "execution_count": 38,
   "metadata": {},
   "outputs": [
    {
     "data": {
      "text/plain": [
       "'x = get_rappers()\\n\\nfor artist in x:\\n    print artist\\n    try:\\n        discography = get_disc(artist)\\n        print discography\\n        senti_dict = process_artist(artist, discography)\\n        artist_url = \"data/senti_data/%s.txt\" % artist.decode(\"utf-8\")\\n        file = open(artist_url, \"w\")\\n        file.write(str(senti_dict))\\n        print \"done: \" + artist\\n    except AttributeError, SyntaxError:\\n        continue'"
      ]
     },
     "execution_count": 38,
     "metadata": {},
     "output_type": "execute_result"
    }
   ],
   "source": [
    "\"\"\"x = get_rappers()\n",
    "\n",
    "for artist in x:\n",
    "    print artist\n",
    "    try:\n",
    "        discography = get_disc(artist)\n",
    "        print discography\n",
    "        senti_dict = process_artist(artist, discography)\n",
    "        artist_url = \"data/senti_data/%s.txt\" % artist.decode(\"utf-8\")\n",
    "        file = open(artist_url, \"w\")\n",
    "        file.write(str(senti_dict))\n",
    "        file.close()\n",
    "        print \"done: \" + artist\n",
    "    except AttributeError, SyntaxError:\n",
    "        continue\"\"\""
   ]
  },
  {
   "cell_type": "code",
   "execution_count": 40,
   "metadata": {},
   "outputs": [],
   "source": [
    "def save_lyrics(artist, discography):\n",
    "    total = 0\n",
    "    artist_dict = {}\n",
    "    for key, value in discography.iteritems():\n",
    "        artist_dict[key] = process_album(artist, value)\n",
    "    return artist_dict"
   ]
  },
  {
   "cell_type": "code",
   "execution_count": 41,
   "metadata": {},
   "outputs": [],
   "source": [
    "def process_album(artist, album):\n",
    "    total = 0\n",
    "    album_dict = {}\n",
    "    for song in album:\n",
    "        album_dict[song] = get_song_lyrics(artist, song)\n",
    "    url = \"data/lyrics/%s.txt\" % artist\n",
    "    file = open(url, 'w')\n",
    "    file.write(str(album_dict))\n",
    "    file.close()"
   ]
  },
  {
   "cell_type": "code",
   "execution_count": 44,
   "metadata": {},
   "outputs": [
    {
     "ename": "AttributeError",
     "evalue": "'NoneType' object has no attribute 'get_text'",
     "output_type": "error",
     "traceback": [
      "\u001b[1;31m---------------------------------------------------------------------------\u001b[0m",
      "\u001b[1;31mAttributeError\u001b[0m                            Traceback (most recent call last)",
      "\u001b[1;32m<ipython-input-44-46ea51ae2fde>\u001b[0m in \u001b[0;36m<module>\u001b[1;34m()\u001b[0m\n\u001b[0;32m      1\u001b[0m \u001b[0mem_disc\u001b[0m \u001b[1;33m=\u001b[0m \u001b[0mget_disc\u001b[0m\u001b[1;33m(\u001b[0m\u001b[1;34m\"drake\"\u001b[0m\u001b[1;33m)\u001b[0m\u001b[1;33m\u001b[0m\u001b[0m\n\u001b[1;32m----> 2\u001b[1;33m \u001b[0mx\u001b[0m \u001b[1;33m=\u001b[0m \u001b[0msave_lyrics\u001b[0m\u001b[1;33m(\u001b[0m\u001b[1;34m\"drake\"\u001b[0m\u001b[1;33m,\u001b[0m \u001b[0mem_disc\u001b[0m\u001b[1;33m)\u001b[0m\u001b[1;33m\u001b[0m\u001b[0m\n\u001b[0m",
      "\u001b[1;32m<ipython-input-40-ffa1dbf17532>\u001b[0m in \u001b[0;36msave_lyrics\u001b[1;34m(artist, discography)\u001b[0m\n\u001b[0;32m      3\u001b[0m     \u001b[0martist_dict\u001b[0m \u001b[1;33m=\u001b[0m \u001b[1;33m{\u001b[0m\u001b[1;33m}\u001b[0m\u001b[1;33m\u001b[0m\u001b[0m\n\u001b[0;32m      4\u001b[0m     \u001b[1;32mfor\u001b[0m \u001b[0mkey\u001b[0m\u001b[1;33m,\u001b[0m \u001b[0mvalue\u001b[0m \u001b[1;32min\u001b[0m \u001b[0mdiscography\u001b[0m\u001b[1;33m.\u001b[0m\u001b[0miteritems\u001b[0m\u001b[1;33m(\u001b[0m\u001b[1;33m)\u001b[0m\u001b[1;33m:\u001b[0m\u001b[1;33m\u001b[0m\u001b[0m\n\u001b[1;32m----> 5\u001b[1;33m         \u001b[0martist_dict\u001b[0m\u001b[1;33m[\u001b[0m\u001b[0mkey\u001b[0m\u001b[1;33m]\u001b[0m \u001b[1;33m=\u001b[0m \u001b[0mprocess_album\u001b[0m\u001b[1;33m(\u001b[0m\u001b[0martist\u001b[0m\u001b[1;33m,\u001b[0m \u001b[0mvalue\u001b[0m\u001b[1;33m)\u001b[0m\u001b[1;33m\u001b[0m\u001b[0m\n\u001b[0m\u001b[0;32m      6\u001b[0m     \u001b[1;32mreturn\u001b[0m \u001b[0martist_dict\u001b[0m\u001b[1;33m\u001b[0m\u001b[0m\n",
      "\u001b[1;32m<ipython-input-41-92d8864e2f9b>\u001b[0m in \u001b[0;36mprocess_album\u001b[1;34m(artist, album)\u001b[0m\n\u001b[0;32m      3\u001b[0m     \u001b[0malbum_dict\u001b[0m \u001b[1;33m=\u001b[0m \u001b[1;33m{\u001b[0m\u001b[1;33m}\u001b[0m\u001b[1;33m\u001b[0m\u001b[0m\n\u001b[0;32m      4\u001b[0m     \u001b[1;32mfor\u001b[0m \u001b[0msong\u001b[0m \u001b[1;32min\u001b[0m \u001b[0malbum\u001b[0m\u001b[1;33m:\u001b[0m\u001b[1;33m\u001b[0m\u001b[0m\n\u001b[1;32m----> 5\u001b[1;33m         \u001b[0malbum_dict\u001b[0m\u001b[1;33m[\u001b[0m\u001b[0msong\u001b[0m\u001b[1;33m]\u001b[0m \u001b[1;33m=\u001b[0m \u001b[0mget_song_lyrics\u001b[0m\u001b[1;33m(\u001b[0m\u001b[0martist\u001b[0m\u001b[1;33m,\u001b[0m \u001b[0msong\u001b[0m\u001b[1;33m)\u001b[0m\u001b[1;33m\u001b[0m\u001b[0m\n\u001b[0m\u001b[0;32m      6\u001b[0m     \u001b[0murl\u001b[0m \u001b[1;33m=\u001b[0m \u001b[1;34m\"data/lyrics/%s.txt\"\u001b[0m \u001b[1;33m%\u001b[0m \u001b[0martist\u001b[0m\u001b[1;33m\u001b[0m\u001b[0m\n\u001b[0;32m      7\u001b[0m     \u001b[0mfile\u001b[0m \u001b[1;33m=\u001b[0m \u001b[0mopen\u001b[0m\u001b[1;33m(\u001b[0m\u001b[0murl\u001b[0m\u001b[1;33m,\u001b[0m \u001b[1;34m'w'\u001b[0m\u001b[1;33m)\u001b[0m\u001b[1;33m\u001b[0m\u001b[0m\n",
      "\u001b[1;32m<ipython-input-10-25bdfd71932a>\u001b[0m in \u001b[0;36mget_song_lyrics\u001b[1;34m(artist, song_name)\u001b[0m\n\u001b[0;32m     35\u001b[0m \u001b[1;33m\u001b[0m\u001b[0m\n\u001b[0;32m     36\u001b[0m     \u001b[1;31m#gets lyrics and processes them\u001b[0m\u001b[1;33m\u001b[0m\u001b[1;33m\u001b[0m\u001b[0m\n\u001b[1;32m---> 37\u001b[1;33m     \u001b[0mlyrics\u001b[0m \u001b[1;33m=\u001b[0m \u001b[0mprocess_lyrics\u001b[0m\u001b[1;33m(\u001b[0m\u001b[0mgetLyrics\u001b[0m\u001b[1;33m(\u001b[0m\u001b[0msong_url\u001b[0m\u001b[1;33m)\u001b[0m\u001b[1;33m)\u001b[0m\u001b[1;33m\u001b[0m\u001b[0m\n\u001b[0m\u001b[0;32m     38\u001b[0m \u001b[1;33m\u001b[0m\u001b[0m\n\u001b[0;32m     39\u001b[0m     \u001b[1;31m#returns lyrics\u001b[0m\u001b[1;33m\u001b[0m\u001b[1;33m\u001b[0m\u001b[0m\n",
      "\u001b[1;32m<ipython-input-4-7c3994d4479a>\u001b[0m in \u001b[0;36mgetLyrics\u001b[1;34m(URL)\u001b[0m\n\u001b[0;32m      5\u001b[0m \u001b[1;33m\u001b[0m\u001b[0m\n\u001b[0;32m      6\u001b[0m     \u001b[1;31m# Scrape and return the song lyrics from the HTML\u001b[0m\u001b[1;33m\u001b[0m\u001b[1;33m\u001b[0m\u001b[0m\n\u001b[1;32m----> 7\u001b[1;33m     \u001b[1;32mreturn\u001b[0m \u001b[0mhtml\u001b[0m\u001b[1;33m.\u001b[0m\u001b[0mfind\u001b[0m\u001b[1;33m(\u001b[0m\u001b[1;34m\"div\"\u001b[0m\u001b[1;33m,\u001b[0m \u001b[0mclass_\u001b[0m\u001b[1;33m=\u001b[0m\u001b[1;34m\"lyrics\"\u001b[0m\u001b[1;33m)\u001b[0m\u001b[1;33m.\u001b[0m\u001b[0mget_text\u001b[0m\u001b[1;33m(\u001b[0m\u001b[1;33m)\u001b[0m\u001b[1;33m\u001b[0m\u001b[0m\n\u001b[0m",
      "\u001b[1;31mAttributeError\u001b[0m: 'NoneType' object has no attribute 'get_text'"
     ]
    }
   ],
   "source": [
    "em_disc = get_disc(\"drake\")\n",
    "x = save_lyrics(\"drake\", em_disc)"
   ]
  },
  {
   "cell_type": "code",
   "execution_count": null,
   "metadata": {},
   "outputs": [],
   "source": []
  }
 ],
 "metadata": {
  "kernelspec": {
   "display_name": "Python 3",
   "language": "python",
   "name": "python3"
  },
  "language_info": {
   "codemirror_mode": {
    "name": "ipython",
    "version": 3
   },
   "file_extension": ".py",
   "mimetype": "text/x-python",
   "name": "python",
   "nbconvert_exporter": "python",
   "pygments_lexer": "ipython3",
   "version": "3.6.5"
  }
 },
 "nbformat": 4,
 "nbformat_minor": 2
}
