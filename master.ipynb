{
 "cells": [
  {
   "cell_type": "code",
   "execution_count": 2,
   "metadata": {},
   "outputs": [],
   "source": [
    "\"\"\"This requests the data\"\"\"\n",
    "import requests as rq \n",
    "import os,re\n",
    "\n",
    "data = rq.get(\"https://en.wikipedia.org/w/api.php?action=query&prop=revisions&rvprop=content&format=json&titles=List_of_hip_hop_musicians\").json()"
   ]
  },
  {
   "cell_type": "code",
   "execution_count": 16,
   "metadata": {},
   "outputs": [],
   "source": [
    "list_markup = data[\"query\"][\"pages\"][\"140853\"][\"revisions\"][0][\"*\"]\n",
    "link_regex = r\"\\* \\[\\[(.+?)\\]\\]\"\n",
    "\n",
    "rappers = re.findall(link_regex, list_markup)"
   ]
  },
  {
   "cell_type": "code",
   "execution_count": 17,
   "metadata": {},
   "outputs": [],
   "source": [
    "rappers = [rapper.split(\"|\")[0] for rapper in rappers]"
   ]
  },
  {
   "cell_type": "code",
   "execution_count": 22,
   "metadata": {},
   "outputs": [
    {
     "data": {
      "text/plain": [
       "\u001b[1;31mDocstring:\u001b[0m\n",
       "file(name[, mode[, buffering]]) -> file object\n",
       "\n",
       "Open a file.  The mode can be 'r', 'w' or 'a' for reading (default),\n",
       "writing or appending.  The file will be created if it doesn't exist\n",
       "when opened for writing or appending; it will be truncated when\n",
       "opened for writing.  Add a 'b' to the mode for binary files.\n",
       "Add a '+' to the mode to allow simultaneous reading and writing.\n",
       "If the buffering argument is given, 0 means unbuffered, 1 means line\n",
       "buffered, and larger numbers specify the buffer size.  The preferred way\n",
       "to open a file is with the builtin open() function.\n",
       "Add a 'U' to mode to open the file for input with universal newline\n",
       "support.  Any line ending in the input file will be seen as a '\\n'\n",
       "in Python.  Also, a file so opened gains the attribute 'newlines';\n",
       "the value for this attribute is one of None (no newline read yet),\n",
       "'\\r', '\\n', '\\r\\n' or a tuple containing all the newline types seen.\n",
       "\n",
       "'U' cannot be combined with 'w' or '+' mode.\n",
       "\u001b[1;31mType:\u001b[0m      type\n"
      ]
     },
     "metadata": {},
     "output_type": "display_data"
    }
   ],
   "source": [
    "?file"
   ]
  },
  {
   "cell_type": "code",
   "execution_count": 23,
   "metadata": {},
   "outputs": [],
   "source": [
    "with open(\"Rappers.txt\", \"w+\") as f:\n",
    "    for rapper in rappers:\n",
    "        f.write(rapper.encode('utf-8') + \"\\n\")"
   ]
  },
  {
   "cell_type": "code",
   "execution_count": null,
   "metadata": {},
   "outputs": [],
   "source": []
  }
 ],
 "metadata": {
  "kernelspec": {
   "display_name": "Python 2",
   "language": "python",
   "name": "python2"
  },
  "language_info": {
   "codemirror_mode": {
    "name": "ipython",
    "version": 2
   },
   "file_extension": ".py",
   "mimetype": "text/x-python",
   "name": "python",
   "nbconvert_exporter": "python",
   "pygments_lexer": "ipython2",
   "version": "2.7.15"
  }
 },
 "nbformat": 4,
 "nbformat_minor": 2
}
