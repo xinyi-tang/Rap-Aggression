{
 "cells": [
  {
   "cell_type": "code",
   "execution_count": 21,
   "metadata": {},
   "outputs": [],
   "source": [
    "import os,re\n",
    "import requests as rq\n",
    "import numpy as np\n",
    "import pandas as pd\n",
    "import networkx as nx\n",
    "import matplotlib.pyplot as plt\n",
    "import seaborn as sns\n",
    "import spotipy"
   ]
  },
  {
   "cell_type": "code",
   "execution_count": 20,
   "metadata": {},
   "outputs": [
    {
     "name": "stdout",
     "output_type": "stream",
     "text": [
      "Collecting spotipy\n",
      "  Downloading https://files.pythonhosted.org/packages/59/46/3c957255c96910a8a0e2d9c25db1de51a8676ebba01d7966bedc6e748822/spotipy-2.4.4.tar.gz\n",
      "Requirement already satisfied: requests>=1.0 in c:\\users\\ctang\\anaconda2\\lib\\site-packages (from spotipy) (2.18.4)\n",
      "Requirement already satisfied: chardet<3.1.0,>=3.0.2 in c:\\users\\ctang\\anaconda2\\lib\\site-packages (from requests>=1.0->spotipy) (3.0.4)\n",
      "Requirement already satisfied: idna<2.7,>=2.5 in c:\\users\\ctang\\anaconda2\\lib\\site-packages (from requests>=1.0->spotipy) (2.6)\n",
      "Requirement already satisfied: urllib3<1.23,>=1.21.1 in c:\\users\\ctang\\anaconda2\\lib\\site-packages (from requests>=1.0->spotipy) (1.22)\n",
      "Requirement already satisfied: certifi>=2017.4.17 in c:\\users\\ctang\\anaconda2\\lib\\site-packages (from requests>=1.0->spotipy) (2018.4.16)\n",
      "Building wheels for collected packages: spotipy\n",
      "  Running setup.py bdist_wheel for spotipy: started\n",
      "  Running setup.py bdist_wheel for spotipy: finished with status 'done'\n",
      "  Stored in directory: C:\\Users\\ctang\\AppData\\Local\\pip\\Cache\\wheels\\76\\28\\19\\a86ca9bb0e32dbd4a4f580870250f5aeef852870578e0427e6\n",
      "Successfully built spotipy\n",
      "Installing collected packages: spotipy\n",
      "Successfully installed spotipy-2.4.4\n"
     ]
    }
   ],
   "source": []
  },
  {
   "cell_type": "code",
   "execution_count": 22,
   "metadata": {},
   "outputs": [],
   "source": [
    "data = rq.get(\"https://en.wikipedia.org/w/api.php?action=query&prop=revisions&rvprop=content&format=json&titles=List_of_hip_hop_musicians\").json()\n",
    "list_markup = data[\"query\"][\"pages\"][\"140853\"][\"revisions\"][0][\"*\"]\n",
    "link_regex = r\"\\* \\[\\[(.+?)[\\(\\]]\"\n",
    "\n",
    "rappers = re.findall(link_regex, list_markup)"
   ]
  },
  {
   "cell_type": "code",
   "execution_count": 23,
   "metadata": {},
   "outputs": [],
   "source": [
    "import spotipy.oauth2 as oauth2\n",
    "\n",
    "# When an error occurs saying the token expired, re-run this cell.\n",
    "# Tokens are 1 hour I think.\n",
    "client_id = 'e3344de9f0454df280cc34cdba040bf7'\n",
    "client_secret = 'da09e980b2fb4f11a68a3c00a2669a7d'\n",
    "\n",
    "credentials = oauth2.SpotifyClientCredentials(\n",
    "        client_id=client_id,\n",
    "        client_secret=client_secret)\n",
    "\n",
    "token = credentials.get_access_token()\n",
    "spotify = spotipy.Spotify(auth=token)"
   ]
  },
  {
   "cell_type": "code",
   "execution_count": 24,
   "metadata": {},
   "outputs": [
    {
     "ename": "SyntaxError",
     "evalue": "invalid syntax (<ipython-input-24-bd9d3390f19c>, line 2)",
     "output_type": "error",
     "traceback": [
      "\u001b[1;36m  File \u001b[1;32m\"<ipython-input-24-bd9d3390f19c>\"\u001b[1;36m, line \u001b[1;32m2\u001b[0m\n\u001b[1;33m    results = spotify.search(q=f'artist:{rapper}',type='artist')\u001b[0m\n\u001b[1;37m                                                ^\u001b[0m\n\u001b[1;31mSyntaxError\u001b[0m\u001b[1;31m:\u001b[0m invalid syntax\n"
     ]
    }
   ],
   "source": [
    "def get_albums(rapper):\n",
    "    results = spotify.search(q=f'artist:{rapper}',type='artist')\n",
    "    \n",
    "    artist_id = results['artists']['items'][0]['uri']\n",
    "    \n",
    "    albums = spotify.artist_albums(artist_id)\n",
    "    \n",
    "    # For some reason duplicates some albums. Wrap as a set\n",
    "    return set([album['name'] for album in albums['items']])"
   ]
  },
  {
   "cell_type": "code",
   "execution_count": 25,
   "metadata": {},
   "outputs": [
    {
     "ename": "SyntaxError",
     "evalue": "invalid syntax (<ipython-input-25-f9264244e336>, line 2)",
     "output_type": "error",
     "traceback": [
      "\u001b[1;36m  File \u001b[1;32m\"<ipython-input-25-f9264244e336>\"\u001b[1;36m, line \u001b[1;32m2\u001b[0m\n\u001b[1;33m    results = spotify.search(q=f'album:{album_name}',type='album')\u001b[0m\n\u001b[1;37m                                                   ^\u001b[0m\n\u001b[1;31mSyntaxError\u001b[0m\u001b[1;31m:\u001b[0m invalid syntax\n"
     ]
    }
   ],
   "source": [
    "def get_album_artists(album_name):\n",
    "    results = spotify.search(q=f'album:{album_name}',type='album')\n",
    "    \n",
    "    album_id = results['albums']['items'][0]['uri']\n",
    "    \n",
    "    tracks = spotify.album_tracks(album_id)\n",
    "    return set([artist['name']  \n",
    "            for track in tracks['items']\n",
    "            for artist in track['artists']])"
   ]
  },
  {
   "cell_type": "code",
   "execution_count": 26,
   "metadata": {},
   "outputs": [],
   "source": [
    "def get_collaborators(rapper):\n",
    "    \"\"\"Returns a dictionary of album:artists entry\"\"\"\n",
    "    \n",
    "    albums = get_albums(rapper)\n",
    "    \n",
    "    return {album:list(get_album_artists(album)) for album in albums}"
   ]
  },
  {
   "cell_type": "code",
   "execution_count": 27,
   "metadata": {},
   "outputs": [
    {
     "ename": "NameError",
     "evalue": "global name 'get_albums' is not defined",
     "output_type": "error",
     "traceback": [
      "\u001b[1;31m---------------------------------------------------------------------------\u001b[0m",
      "\u001b[1;31mNameError\u001b[0m                                 Traceback (most recent call last)",
      "\u001b[1;32m<ipython-input-27-1a7c2394e9c1>\u001b[0m in \u001b[0;36m<module>\u001b[1;34m()\u001b[0m\n\u001b[1;32m----> 1\u001b[1;33m \u001b[0mhi\u001b[0m \u001b[1;33m=\u001b[0m \u001b[0mget_collaborators\u001b[0m\u001b[1;33m(\u001b[0m\u001b[1;34m\"Drake\"\u001b[0m\u001b[1;33m)\u001b[0m\u001b[1;33m\u001b[0m\u001b[0m\n\u001b[0m",
      "\u001b[1;32m<ipython-input-26-811615615c1a>\u001b[0m in \u001b[0;36mget_collaborators\u001b[1;34m(rapper)\u001b[0m\n\u001b[0;32m      2\u001b[0m     \u001b[1;34m\"\"\"Returns a dictionary of album:artists entry\"\"\"\u001b[0m\u001b[1;33m\u001b[0m\u001b[0m\n\u001b[0;32m      3\u001b[0m \u001b[1;33m\u001b[0m\u001b[0m\n\u001b[1;32m----> 4\u001b[1;33m     \u001b[0malbums\u001b[0m \u001b[1;33m=\u001b[0m \u001b[0mget_albums\u001b[0m\u001b[1;33m(\u001b[0m\u001b[0mrapper\u001b[0m\u001b[1;33m)\u001b[0m\u001b[1;33m\u001b[0m\u001b[0m\n\u001b[0m\u001b[0;32m      5\u001b[0m \u001b[1;33m\u001b[0m\u001b[0m\n\u001b[0;32m      6\u001b[0m     \u001b[1;32mreturn\u001b[0m \u001b[1;33m{\u001b[0m\u001b[0malbum\u001b[0m\u001b[1;33m:\u001b[0m\u001b[0mlist\u001b[0m\u001b[1;33m(\u001b[0m\u001b[0mget_album_artists\u001b[0m\u001b[1;33m(\u001b[0m\u001b[0malbum\u001b[0m\u001b[1;33m)\u001b[0m\u001b[1;33m)\u001b[0m \u001b[1;32mfor\u001b[0m \u001b[0malbum\u001b[0m \u001b[1;32min\u001b[0m \u001b[0malbums\u001b[0m\u001b[1;33m}\u001b[0m\u001b[1;33m\u001b[0m\u001b[0m\n",
      "\u001b[1;31mNameError\u001b[0m: global name 'get_albums' is not defined"
     ]
    }
   ],
   "source": [
    "hi = get_collaborators(\"Drake\")"
   ]
  },
  {
   "cell_type": "code",
   "execution_count": 14,
   "metadata": {},
   "outputs": [
    {
     "ename": "NameError",
     "evalue": "name 'hi' is not defined",
     "output_type": "error",
     "traceback": [
      "\u001b[1;31m---------------------------------------------------------------------------\u001b[0m",
      "\u001b[1;31mNameError\u001b[0m                                 Traceback (most recent call last)",
      "\u001b[1;32m<ipython-input-14-55ca6286e3e4>\u001b[0m in \u001b[0;36m<module>\u001b[1;34m()\u001b[0m\n\u001b[1;32m----> 1\u001b[1;33m \u001b[0mhi\u001b[0m\u001b[1;33m\u001b[0m\u001b[0m\n\u001b[0m",
      "\u001b[1;31mNameError\u001b[0m: name 'hi' is not defined"
     ]
    }
   ],
   "source": [
    "hi"
   ]
  },
  {
   "cell_type": "code",
   "execution_count": null,
   "metadata": {},
   "outputs": [],
   "source": []
  },
  {
   "cell_type": "code",
   "execution_count": null,
   "metadata": {},
   "outputs": [],
   "source": []
  }
 ],
 "metadata": {
  "kernelspec": {
   "display_name": "Python 2",
   "language": "python",
   "name": "python2"
  },
  "language_info": {
   "codemirror_mode": {
    "name": "ipython",
    "version": 2
   },
   "file_extension": ".py",
   "mimetype": "text/x-python",
   "name": "python",
   "nbconvert_exporter": "python",
   "pygments_lexer": "ipython2",
   "version": "2.7.15"
  }
 },
 "nbformat": 4,
 "nbformat_minor": 2
}
