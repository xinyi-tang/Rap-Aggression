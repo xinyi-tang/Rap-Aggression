{
 "cells": [
  {
   "cell_type": "code",
   "execution_count": 63,
   "metadata": {},
   "outputs": [],
   "source": [
    "import os,re\n",
    "import requests as rq\n",
    "import numpy as np\n",
    "import pandas as pd\n",
    "import networkx as nx\n",
    "import matplotlib.pyplot as plt\n",
    "import seaborn as sns\n",
    "import spotipy"
   ]
  },
  {
   "cell_type": "code",
   "execution_count": 64,
   "metadata": {},
   "outputs": [],
   "source": [
    "data = rq.get(\"https://en.wikipedia.org/w/api.php?action=query&prop=revisions&rvprop=content&format=json&titles=List_of_hip_hop_musicians\").json()\n",
    "list_markup = data[\"query\"][\"pages\"][\"140853\"][\"revisions\"][0][\"*\"]\n",
    "link_regex = r\"\\* \\[\\[(.+?)[\\(\\]]\"\n",
    "\n",
    "rappers = re.findall(link_regex, list_markup)"
   ]
  },
  {
   "cell_type": "code",
   "execution_count": 65,
   "metadata": {},
   "outputs": [],
   "source": [
    "with open(\"rappers.txt\", 'w') as f:\n",
    "    for r in rappers:\n",
    "        f.write(r.encode('utf-8') + \"\\n\")"
   ]
  },
  {
   "cell_type": "code",
   "execution_count": 157,
   "metadata": {},
   "outputs": [],
   "source": [
    "import spotipy.oauth2 as oauth2\n",
    "\n",
    "# When an error occurs saying the token expired, re-run this cell.\n",
    "# Tokens are 1 hour I think.\n",
    "client_id = 'e3344de9f0454df280cc34cdba040bf7'\n",
    "client_secret = 'da09e980b2fb4f11a68a3c00a2669a7d'\n",
    "\n",
    "credentials = oauth2.SpotifyClientCredentials(\n",
    "        client_id=client_id,\n",
    "        client_secret=client_secret)\n",
    "\n",
    "token = credentials.get_access_token()\n",
    "spotify = spotipy.Spotify(auth=token)"
   ]
  },
  {
   "cell_type": "code",
   "execution_count": 67,
   "metadata": {},
   "outputs": [],
   "source": [
    "def get_albums(rapper):\n",
    "    results = spotify.search(q='artist:%s' % rapper,type='artist')\n",
    "    \n",
    "    artist_id = results['artists']['items'][0]['uri']\n",
    "    \n",
    "    albums = spotify.artist_albums(artist_id)\n",
    "    \n",
    "    # For some reason duplicates some albums. Wrap as a set\n",
    "    return set([album['name'] for album in albums['items']])"
   ]
  },
  {
   "cell_type": "code",
   "execution_count": 68,
   "metadata": {},
   "outputs": [],
   "source": [
    "def get_album_artists(album_name):\n",
    "    results = spotify.search(q='album:%s' % album_name,type='album')\n",
    "    \n",
    "    album_id = results['albums']['items'][0]['uri']\n",
    "    \n",
    "    tracks = spotify.album_tracks(album_id)\n",
    "    return set([artist['name']  \n",
    "            for track in tracks['items']\n",
    "            for artist in track['artists']])"
   ]
  },
  {
   "cell_type": "code",
   "execution_count": 69,
   "metadata": {},
   "outputs": [],
   "source": [
    "def get_collaborators(rapper):\n",
    "    \"\"\"Returns a dictionary of album:artists entry\"\"\"\n",
    "    \n",
    "    albums = get_albums(rapper)\n",
    "    \n",
    "    return {album:list(get_album_artists(album)) for album in albums}"
   ]
  },
  {
   "cell_type": "code",
   "execution_count": 40,
   "metadata": {},
   "outputs": [
    {
     "name": "stdout",
     "output_type": "stream",
     "text": [
      "FAILED\n"
     ]
    }
   ],
   "source": [
    "try:\n",
    "    a = get_collaborators(\"2 Chainz\")\n",
    "except IndexError:\n",
    "    print \"FAILED\""
   ]
  },
  {
   "cell_type": "markdown",
   "metadata": {},
   "source": [
    "Do rappers that fail just not have any collaborators?"
   ]
  },
  {
   "cell_type": "code",
   "execution_count": 31,
   "metadata": {},
   "outputs": [],
   "source": [
    "q = list([item for sublist in a.values() for item in sublist])"
   ]
  },
  {
   "cell_type": "code",
   "execution_count": 32,
   "metadata": {},
   "outputs": [],
   "source": [
    "col_dict = {}\n",
    "for i in q: \n",
    "    if i not in col_dict: \n",
    "        col_dict[i] =  1\n",
    "    else: \n",
    "        col_dict[i] += 1"
   ]
  },
  {
   "cell_type": "code",
   "execution_count": 102,
   "metadata": {},
   "outputs": [],
   "source": [
    "def get_rappers():\n",
    "    \n",
    "    def validate(name):\n",
    "        # checks if the name has a\n",
    "        illegal_chars = \"|?:^*\\\"\"\n",
    "\n",
    "        for c in illegal_chars:\n",
    "            if c == '|':\n",
    "                if name.find(c) > 0:\n",
    "                    name = name.split(\"|\")[1]\n",
    "            if c == \"\\\"\":\n",
    "                if name.find(c) > 0:\n",
    "                    name = name.replace(r'\"','',2)\n",
    "            else: \n",
    "                name = name.replace(c,'')\n",
    "        return name\n",
    "    \n",
    "    with open(\"data/rappers.txt\".decode('utf-8'), \"r\") as f:\n",
    "        rappers = f.read()\n",
    "        \n",
    "    return [validate(rapper).strip() for rapper in rappers.split(\"\\n\")]\n",
    "rappers = get_rappers()"
   ]
  },
  {
   "cell_type": "code",
   "execution_count": 165,
   "metadata": {},
   "outputs": [],
   "source": [
    "def find_collaborators(r):\n",
    "    with open(\"data/albums/%s.txt\" % r.decode('utf-8')) as fp:\n",
    "        albums = eval(fp.read())\n",
    "        \n",
    "    artists = []\n",
    "    for album in albums: \n",
    "        for artist in album['tracks']:\n",
    "            for a in artist['collaborators']:\n",
    "                artists.append(a)\n",
    "    return artists"
   ]
  },
  {
   "cell_type": "code",
   "execution_count": 166,
   "metadata": {},
   "outputs": [
    {
     "data": {
      "text/plain": [
       "['6LACK',\n",
       " '6LACK',\n",
       " '6LACK',\n",
       " 'Future',\n",
       " '6LACK',\n",
       " '6LACK',\n",
       " '6LACK',\n",
       " 'J. Cole',\n",
       " '6LACK',\n",
       " '6LACK',\n",
       " '6LACK',\n",
       " '6LACK',\n",
       " 'Offset',\n",
       " '6LACK',\n",
       " '6LACK',\n",
       " '6LACK',\n",
       " 'Khalid',\n",
       " '6LACK',\n",
       " '6LACK',\n",
       " '6LACK',\n",
       " '6LACK',\n",
       " '6LACK',\n",
       " '6LACK',\n",
       " '6LACK',\n",
       " '6LACK',\n",
       " '6LACK',\n",
       " '6LACK',\n",
       " '6LACK',\n",
       " '6LACK',\n",
       " '6LACK',\n",
       " '6LACK',\n",
       " 'Banks',\n",
       " '6LACK',\n",
       " 'T-Pain']"
      ]
     },
     "execution_count": 166,
     "metadata": {},
     "output_type": "execute_result"
    }
   ],
   "source": [
    "find_collaborators(\"6lack\")"
   ]
  },
  {
   "cell_type": "code",
   "execution_count": 167,
   "metadata": {},
   "outputs": [],
   "source": [
    "def get_collaborator_count(collaborators):\n",
    "    #creating a dictionary from the collaborators to count the number of collaborations for weighted edges\n",
    "    col_dict = {}\n",
    "    for c in collaborators:\n",
    "        #don't include self as a rapper\n",
    "        if c == r: \n",
    "            continue\n",
    "        #add new collaborators to the dict with a count of 1\n",
    "        if c not in col_dict: \n",
    "            col_dict[c] =  1\n",
    "        #add one to the count of previous collaborators\n",
    "        else: \n",
    "            col_dict[c] += 1\n",
    "    return col_dict  "
   ]
  },
  {
   "cell_type": "code",
   "execution_count": 182,
   "metadata": {},
   "outputs": [],
   "source": [
    "def create_network(rappers, network): \n",
    "    \n",
    "    errors = []\n",
    "    for r in list(rappers):\n",
    "        try: \n",
    "            #get the collaborators from the data file in a list \n",
    "            collaborators = find_collaborators(r)\n",
    "            \n",
    "        except IndexError: \n",
    "            errors.append(r)\n",
    "            continue\n",
    "        except SyntaxError:\n",
    "            errors.append(r)\n",
    "            continue\n",
    "        \n",
    "        col_dict = get_collaborator_count(collaborators)\n",
    "        \n",
    "        for c in set(collaborators):\n",
    "            #don't include self as a collaborator\n",
    "            if c == r: \n",
    "                continue\n",
    "            if c not in list(rappers):\n",
    "                continue\n",
    "            else:\n",
    "                #get the weight for the edge as number of collaborations from dict\n",
    "                w = col_dict[c]\n",
    "                #add the weighted edges\n",
    "                network.add_edge(r,c,weight=w)\n",
    "\n",
    "                if network.degree(c) == 1 and w == 1:\n",
    "                    network.remove_node(c)\n",
    "                \n",
    "        "
   ]
  },
  {
   "cell_type": "code",
   "execution_count": null,
   "metadata": {},
   "outputs": [],
   "source": [
    "collaboration_network = nx.Graph()"
   ]
  },
  {
   "cell_type": "code",
   "execution_count": 183,
   "metadata": {},
   "outputs": [],
   "source": [
    "collaboration_network_short = nx.Graph()\n",
    "create_network(rappers, collaboration_network_short)"
   ]
  },
  {
   "cell_type": "code",
   "execution_count": 177,
   "metadata": {},
   "outputs": [],
   "source": [
    "import json"
   ]
  },
  {
   "cell_type": "code",
   "execution_count": 178,
   "metadata": {},
   "outputs": [],
   "source": [
    "with open('rappers_network.json', 'w') as fp:\n",
    "    json.dump(nx.node_link_data(collaboration_network), fp)"
   ]
  },
  {
   "cell_type": "code",
   "execution_count": 184,
   "metadata": {},
   "outputs": [],
   "source": [
    "with open('rappers_network_short.json', 'w') as fp:\n",
    "    json.dump(nx.node_link_data(collaboration_network_short), fp)"
   ]
  },
  {
   "cell_type": "code",
   "execution_count": 176,
   "metadata": {},
   "outputs": [
    {
     "data": {
      "image/png": "[encoded data removed]",
      "text/plain": [
       "<Figure size 1440x1440 with 1 Axes>"
      ]
     },
     "metadata": {},
     "output_type": "display_data"
    }
   ],
   "source": [
    "plt.figure(figsize=[20,20])\n",
    "nx.draw(collaboration_network)\n",
    "plt.show()"
   ]
  },
  {
   "cell_type": "code",
   "execution_count": null,
   "metadata": {},
   "outputs": [],
   "source": []
  }
 ],
 "metadata": {
  "kernelspec": {
   "display_name": "Python 2",
   "language": "python",
   "name": "python2"
  },
  "language_info": {
   "codemirror_mode": {
    "name": "ipython",
    "version": 2
   },
   "file_extension": ".py",
   "mimetype": "text/x-python",
   "name": "python",
   "nbconvert_exporter": "python",
   "pygments_lexer": "ipython2",
   "version": "2.7.15"
  }
 },
 "nbformat": 4,
 "nbformat_minor": 2
}
